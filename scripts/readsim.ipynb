{
 "cells": [
  {
   "cell_type": "code",
   "execution_count": 1,
   "metadata": {
    "ExecuteTime": {
     "end_time": "2022-10-12T15:25:19.110499Z",
     "start_time": "2022-10-12T15:25:16.472191Z"
    }
   },
   "outputs": [],
   "source": [
    "import numpy as np\n",
    "%matplotlib notebook\n",
    "import matplotlib.pyplot as plt\n",
    "# import fortranfile as ff\n",
    "from os import listdir\n",
    "\n",
    "import sys\n",
    "sys.path.append(\"../\")\n",
    "\n",
    "import galomatch\n",
    "\n",
    "%load_ext autoreload\n",
    "%autoreload 2\n",
    "\n",
    "from copy import copy"
   ]
  },
  {
   "cell_type": "code",
   "execution_count": 2,
   "metadata": {
    "ExecuteTime": {
     "end_time": "2022-10-12T15:25:19.130392Z",
     "start_time": "2022-10-12T15:25:19.112826Z"
    }
   },
   "outputs": [],
   "source": [
    "simpath = galomatch.io.get_sim_path(9844)"
   ]
  },
  {
   "cell_type": "code",
   "execution_count": 3,
   "metadata": {
    "ExecuteTime": {
     "end_time": "2022-10-12T15:25:27.960311Z",
     "start_time": "2022-10-12T15:25:19.568328Z"
    }
   },
   "outputs": [],
   "source": [
    "arr = galomatch.io.read_clumps(1016, simpath)\n",
    "galomatch.io.convert_mass_cols(arr, \"mass_cl\")\n",
    "galomatch.io.convert_position_cols(arr, [\"peak_x\", \"peak_y\", \"peak_z\"])\n",
    "galomatch.io.flip_cols(arr, \"peak_x\", \"peak_z\")\n",
    "\n",
    "dist, "
   ]
  },
  {
   "cell_type": "code",
   "execution_count": 34,
   "metadata": {
    "ExecuteTime": {
     "end_time": "2022-10-12T15:53:58.300896Z",
     "start_time": "2022-10-12T15:53:58.273139Z"
    }
   },
   "outputs": [
    {
     "data": {
      "text/plain": [
       "array([(       1, 0,        1, 5.3350e+03,  -40.21576089, -211.25833879, -57.13499963,  80.05673679, 1.34140563e+06, 667.7608198, 1.39067967e+13, 238.2091682 ),\n",
       "       (       2, 0,        2, 7.3150e+03,   -6.96335587, -152.79157878, -11.2466252 ,  80.02160802, 1.29501928e+06, 543.7769029, 1.67665386e+13, 177.0951362 ),\n",
       "       (       3, 0,        3, 1.8422e+04,   -4.63123656, -157.49902593, -22.59016765,  80.06374884, 1.28589588e+06, 518.2310102, 7.28149711e+13,  41.80759829),\n",
       "       ...,\n",
       "       (21795024, 0, 21795024, 3.0000e+00, -327.96753743, -193.37936102, 471.31660493,  96.90601599, 2.70864605e+02, 175.9441607, 1.17948292e+15,   3.38580756),\n",
       "       (21796985, 0, 21796985, 7.0000e+00,  -58.31963721, -224.94717216,   1.76015003,  84.39083337, 2.51882964e+02, 152.9977888, 5.84277000e+11,   3.14853705),\n",
       "       (21797711, 0, 21797711, 6.0000e+00,  -30.62356068, -225.41647528,  21.51348682, 105.089137  , 2.44802282e+02, 174.5996859, 5.71518516e+11,   3.06002853)],\n",
       "      dtype=[('index', '<i8'), ('level', '<i8'), ('parent', '<i8'), ('ncell', '<f8'), ('peak_x', '<f8'), ('peak_y', '<f8'), ('peak_z', '<f8'), ('rho-', '<f8'), ('rho+', '<f8'), ('rho_av', '<f8'), ('mass_cl', '<f8'), ('relevance', '<f8')])"
      ]
     },
     "execution_count": 34,
     "metadata": {},
     "output_type": "execute_result"
    }
   ],
   "source": []
  },
  {
   "cell_type": "code",
   "execution_count": 37,
   "metadata": {
    "ExecuteTime": {
     "end_time": "2022-10-12T15:54:14.961067Z",
     "start_time": "2022-10-12T15:54:14.310325Z"
    }
   },
   "outputs": [],
   "source": [
    "arr = galomatch.utils.rm_columns(arr, \"relevance\")"
   ]
  },
  {
   "cell_type": "code",
   "execution_count": null,
   "metadata": {},
   "outputs": [],
   "source": []
  },
  {
   "cell_type": "code",
   "execution_count": 30,
   "metadata": {
    "ExecuteTime": {
     "end_time": "2022-10-12T15:50:04.190748Z",
     "start_time": "2022-10-12T15:50:04.158822Z"
    }
   },
   "outputs": [
    {
     "data": {
      "text/plain": [
       "(2, 3)"
      ]
     },
     "execution_count": 30,
     "metadata": {},
     "output_type": "execute_result"
    }
   ],
   "source": [
    "() + (2,) + (3,) + ()"
   ]
  },
  {
   "cell_type": "code",
   "execution_count": 19,
   "metadata": {
    "ExecuteTime": {
     "end_time": "2022-10-12T15:44:56.937485Z",
     "start_time": "2022-10-12T15:44:56.912735Z"
    }
   },
   "outputs": [
    {
     "data": {
      "text/plain": [
       "[('index', '<i8'),\n",
       " ('level', '<i8'),\n",
       " ('parent', '<i8'),\n",
       " ('ncell', '<f8'),\n",
       " ('peak_x', '<f8'),\n",
       " ('peak_y', '<f8'),\n",
       " ('peak_z', '<f8'),\n",
       " ('rho-', '<f8'),\n",
       " ('rho+', '<f8'),\n",
       " ('rho_av', '<f8'),\n",
       " ('mass_cl', '<f8'),\n",
       " ('relevance', '<f8')]"
      ]
     },
     "execution_count": 19,
     "metadata": {},
     "output_type": "execute_result"
    }
   ],
   "source": [
    "arr.dtype.descr"
   ]
  },
  {
   "cell_type": "code",
   "execution_count": null,
   "metadata": {},
   "outputs": [],
   "source": [
    "for i in range(10, 1)"
   ]
  },
  {
   "cell_type": "code",
   "execution_count": 16,
   "metadata": {
    "ExecuteTime": {
     "end_time": "2022-10-12T15:31:38.037673Z",
     "start_time": "2022-10-12T15:31:38.020031Z"
    }
   },
   "outputs": [
    {
     "data": {
      "text/plain": [
       "('index',\n",
       " 'level',\n",
       " 'parent',\n",
       " 'ncell',\n",
       " 'peak_x',\n",
       " 'peak_y',\n",
       " 'peak_z',\n",
       " 'rho-',\n",
       " 'rho+',\n",
       " 'rho_av',\n",
       " 'mass_cl',\n",
       " 'relevance')"
      ]
     },
     "execution_count": 16,
     "metadata": {},
     "output_type": "execute_result"
    }
   ],
   "source": [
    "arr.dtype.names"
   ]
  },
  {
   "cell_type": "code",
   "execution_count": 4,
   "metadata": {
    "ExecuteTime": {
     "end_time": "2022-10-12T15:25:28.739188Z",
     "start_time": "2022-10-12T15:25:28.481430Z"
    }
   },
   "outputs": [],
   "source": [
    "ra, dec = galomatch.match.cartesian_to_radec(arr)"
   ]
  },
  {
   "cell_type": "code",
   "execution_count": 17,
   "metadata": {
    "ExecuteTime": {
     "end_time": "2022-10-12T15:33:41.145297Z",
     "start_time": "2022-10-12T15:33:40.398153Z"
    }
   },
   "outputs": [
    {
     "data": {
      "text/plain": [
       "array([(       1, 0,        1, 5.3350e+03,  -40.21576089, -211.25833879, -57.13499963,  80.05673679, 1.34140563e+06, 667.7608198, 1.39067967e+13, 238.2091682 , -100.77803677),\n",
       "       (       2, 0,        2, 7.3150e+03,   -6.96335587, -152.79157878, -11.2466252 ,  80.02160802, 1.29501928e+06, 543.7769029, 1.67665386e+13, 177.0951362 ,  -92.60940444),\n",
       "       (       3, 0,        3, 1.8422e+04,   -4.63123656, -157.49902593, -22.59016765,  80.06374884, 1.28589588e+06, 518.2310102, 7.28149711e+13,  41.80759829,  -91.68428896),\n",
       "       ...,\n",
       "       (21795024, 0, 21795024, 3.0000e+00, -327.96753743, -193.37936102, 471.31660493,  96.90601599, 2.70864605e+02, 175.9441607, 1.17948292e+15,   3.38580756, -149.47514102),\n",
       "       (21796985, 0, 21796985, 7.0000e+00,  -58.31963721, -224.94717216,   1.76015003,  84.39083337, 2.51882964e+02, 152.9977888, 5.84277000e+11,   3.14853705, -104.53445508),\n",
       "       (21797711, 0, 21797711, 6.0000e+00,  -30.62356068, -225.41647528,  21.51348682, 105.089137  , 2.44802282e+02, 174.5996859, 5.71518516e+11,   3.06002853,  -97.7364549 )],\n",
       "      dtype=[('index', '<i8'), ('level', '<i8'), ('parent', '<i8'), ('ncell', '<f8'), ('peak_x', '<f8'), ('peak_y', '<f8'), ('peak_z', '<f8'), ('rho-', '<f8'), ('rho+', '<f8'), ('rho_av', '<f8'), ('mass_cl', '<f8'), ('relevance', '<f8'), ('ra', '<f8')])"
      ]
     },
     "execution_count": 17,
     "metadata": {},
     "output_type": "execute_result"
    }
   ],
   "source": [
    "galomatch.utils.add_columns(arr, ra, \"ra\")"
   ]
  },
  {
   "cell_type": "code",
   "execution_count": 12,
   "metadata": {
    "ExecuteTime": {
     "end_time": "2022-10-12T15:29:23.067528Z",
     "start_time": "2022-10-12T15:29:23.041263Z"
    }
   },
   "outputs": [
    {
     "data": {
      "text/plain": [
       "537592"
      ]
     },
     "execution_count": 12,
     "metadata": {},
     "output_type": "execute_result"
    }
   ],
   "source": [
    "arr[\"peak_x\"].size"
   ]
  },
  {
   "cell_type": "code",
   "execution_count": null,
   "metadata": {},
   "outputs": [],
   "source": []
  },
  {
   "cell_type": "code",
   "execution_count": null,
   "metadata": {
    "ExecuteTime": {
     "end_time": "2022-10-12T15:22:14.340917Z",
     "start_time": "2022-10-12T15:22:14.291311Z"
    }
   },
   "outputs": [],
   "source": [
    "X = ra.reshape(-1, 1)"
   ]
  },
  {
   "cell_type": "code",
   "execution_count": null,
   "metadata": {
    "ExecuteTime": {
     "end_time": "2022-10-12T15:22:49.418263Z",
     "start_time": "2022-10-12T15:22:49.358850Z"
    }
   },
   "outputs": [],
   "source": [
    "X.dtype.descr"
   ]
  },
  {
   "cell_type": "code",
   "execution_count": null,
   "metadata": {
    "ExecuteTime": {
     "end_time": "2022-10-12T15:21:42.188903Z",
     "start_time": "2022-10-12T15:21:42.162388Z"
    }
   },
   "outputs": [],
   "source": [
    "arr.dtype.descr"
   ]
  },
  {
   "cell_type": "code",
   "execution_count": null,
   "metadata": {
    "ExecuteTime": {
     "end_time": "2022-10-12T15:21:28.475042Z",
     "start_time": "2022-10-12T15:21:28.447486Z"
    }
   },
   "outputs": [],
   "source": [
    "dtype"
   ]
  },
  {
   "cell_type": "code",
   "execution_count": null,
   "metadata": {
    "ExecuteTime": {
     "end_time": "2022-10-12T11:06:38.882371Z",
     "start_time": "2022-10-12T11:06:38.809483Z"
    }
   },
   "outputs": [],
   "source": []
  },
  {
   "cell_type": "code",
   "execution_count": null,
   "metadata": {
    "ExecuteTime": {
     "end_time": "2022-10-12T11:08:09.281759Z",
     "start_time": "2022-10-12T11:08:09.221793Z"
    }
   },
   "outputs": [],
   "source": [
    "plt.figure()\n",
    "\n",
    "# plt.scatter(arr[\"peak_y\"], arr[\"peak_z\"])\n",
    "\n",
    "plt.scatter(ra, dec, s=0.001)\n",
    "\n",
    "plt.show()"
   ]
  },
  {
   "cell_type": "code",
   "execution_count": null,
   "metadata": {},
   "outputs": [],
   "source": []
  },
  {
   "cell_type": "code",
   "execution_count": null,
   "metadata": {},
   "outputs": [],
   "source": []
  },
  {
   "cell_type": "code",
   "execution_count": null,
   "metadata": {
    "ExecuteTime": {
     "end_time": "2022-10-12T11:02:12.047413Z",
     "start_time": "2022-10-12T11:02:12.025388Z"
    }
   },
   "outputs": [],
   "source": [
    "np.all(np.isclose(ra1, ra2))"
   ]
  },
  {
   "cell_type": "code",
   "execution_count": null,
   "metadata": {
    "ExecuteTime": {
     "end_time": "2022-10-12T11:01:47.776287Z",
     "start_time": "2022-10-12T11:01:47.758828Z"
    }
   },
   "outputs": [],
   "source": [
    "ra2"
   ]
  },
  {
   "cell_type": "code",
   "execution_count": null,
   "metadata": {},
   "outputs": [],
   "source": []
  },
  {
   "cell_type": "code",
   "execution_count": null,
   "metadata": {
    "ExecuteTime": {
     "end_time": "2022-10-12T10:43:39.011081Z",
     "start_time": "2022-10-12T10:43:38.993583Z"
    }
   },
   "outputs": [],
   "source": [
    "x = arr[\"peak_x\"]"
   ]
  },
  {
   "cell_type": "code",
   "execution_count": null,
   "metadata": {
    "ExecuteTime": {
     "end_time": "2022-10-12T10:43:47.933870Z",
     "start_time": "2022-10-12T10:43:47.812013Z"
    }
   },
   "outputs": [],
   "source": [
    "arr[\"peak_x\"] *= 2"
   ]
  },
  {
   "cell_type": "code",
   "execution_count": null,
   "metadata": {
    "ExecuteTime": {
     "end_time": "2022-10-12T10:43:51.251045Z",
     "start_time": "2022-10-12T10:43:51.232718Z"
    }
   },
   "outputs": [],
   "source": [
    "arr[\"peak_x\"]"
   ]
  },
  {
   "cell_type": "code",
   "execution_count": null,
   "metadata": {
    "ExecuteTime": {
     "end_time": "2022-10-12T10:43:52.702605Z",
     "start_time": "2022-10-12T10:43:52.638556Z"
    }
   },
   "outputs": [],
   "source": [
    "x"
   ]
  },
  {
   "cell_type": "code",
   "execution_count": null,
   "metadata": {
    "ExecuteTime": {
     "end_time": "2022-10-11T15:22:18.132550Z",
     "start_time": "2022-10-11T15:22:17.962004Z"
    }
   },
   "outputs": [],
   "source": [
    "plt.figure()\n",
    "# plt.scatter(arr[\"peak_x\"], arr[\"peak_y\"], s=0.00001)\n",
    "\n",
    "plt.hist(np.log10(arr[\"mass_cl\"]), bins=\"auto\")\n",
    "\n",
    "plt.show()"
   ]
  },
  {
   "cell_type": "code",
   "execution_count": null,
   "metadata": {},
   "outputs": [],
   "source": []
  },
  {
   "cell_type": "code",
   "execution_count": null,
   "metadata": {},
   "outputs": [],
   "source": []
  }
 ],
 "metadata": {
  "kernelspec": {
   "display_name": "venv_galomatch",
   "language": "python",
   "name": "venv_galomatch"
  },
  "language_info": {
   "codemirror_mode": {
    "name": "ipython",
    "version": 3
   },
   "file_extension": ".py",
   "mimetype": "text/x-python",
   "name": "python",
   "nbconvert_exporter": "python",
   "pygments_lexer": "ipython3",
   "version": "3.8.0"
  },
  "vscode": {
   "interpreter": {
    "hash": "48b586a1ee27fc2e7b130d2436dca8c87c36333659e2ed3c8e31ccbf57230401"
   }
  }
 },
 "nbformat": 4,
 "nbformat_minor": 2
}
