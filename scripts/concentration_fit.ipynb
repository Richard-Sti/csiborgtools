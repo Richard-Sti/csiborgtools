{
 "cells": [
  {
   "cell_type": "code",
   "execution_count": 22,
   "id": "5a38ed25",
   "metadata": {
    "ExecuteTime": {
     "end_time": "2022-10-21T19:22:51.300114Z",
     "start_time": "2022-10-21T19:22:48.626570Z"
    }
   },
   "outputs": [
    {
     "name": "stdout",
     "output_type": "stream",
     "text": [
      "The autoreload extension is already loaded. To reload it, use:\n",
      "  %reload_ext autoreload\n"
     ]
    }
   ],
   "source": [
    "import numpy as np\n",
    "%matplotlib notebook\n",
    "import matplotlib.pyplot as plt\n",
    "try:\n",
    "    import csiborgtools\n",
    "except ModuleNotFoundError:\n",
    "    import sys\n",
    "    sys.path.append(\"../\")\n",
    "    import csiborgtools\n",
    "    \n",
    "    \n",
    "%load_ext autoreload\n",
    "%autoreload 2"
   ]
  },
  {
   "cell_type": "code",
   "execution_count": 55,
   "id": "504e7023",
   "metadata": {
    "ExecuteTime": {
     "end_time": "2022-10-21T19:52:37.262233Z",
     "start_time": "2022-10-21T19:52:37.240892Z"
    }
   },
   "outputs": [],
   "source": [
    "simpath = csiborgtools.io.get_sim_path(9844)\n",
    "Nsnap = 1016\n",
    "\n"
   ]
  },
  {
   "cell_type": "code",
   "execution_count": 46,
   "id": "96f8ea68",
   "metadata": {
    "ExecuteTime": {
     "end_time": "2022-10-21T19:42:07.996308Z",
     "start_time": "2022-10-21T19:42:07.968026Z"
    }
   },
   "outputs": [],
   "source": [
    "   # Order in which the particles are written in the FortranFile\n",
    "    forder = [(\"x\", F16), (\"y\", F16), (\"z\", F16),\n",
    "              (\"vx\", F16), (\"vy\", F16), (\"vz\", F16),\n",
    "              (\"M\", F32), (\"ID\", I32), (\"level\", I32)]"
   ]
  },
  {
   "cell_type": "code",
   "execution_count": 56,
   "id": "721097dd",
   "metadata": {
    "ExecuteTime": {
     "end_time": "2022-10-21T19:58:06.061862Z",
     "start_time": "2022-10-21T19:52:40.482946Z"
    }
   },
   "outputs": [
    {
     "name": "stdout",
     "output_type": "stream",
     "text": [
      "Reading in output `01016` with ncpu = `324`.\n",
      "Opened 324 particle files.\n"
     ]
    },
    {
     "name": "stderr",
     "output_type": "stream",
     "text": [
      "100%|███████████████████████████████████████████████████████████████████████████████| 324/324 [04:54<00:00,  1.10it/s]\n"
     ]
    }
   ],
   "source": [
    "X = csiborgtools.io.read_particle(\"x\", Nsnap, simpath)"
   ]
  },
  {
   "cell_type": "code",
   "execution_count": null,
   "id": "1b7a05cd",
   "metadata": {},
   "outputs": [],
   "source": []
  },
  {
   "cell_type": "code",
   "execution_count": null,
   "id": "b69e6c6d",
   "metadata": {},
   "outputs": [],
   "source": []
  },
  {
   "cell_type": "code",
   "execution_count": null,
   "id": "2799bcd0",
   "metadata": {
    "ExecuteTime": {
     "end_time": "2022-10-21T19:08:11.089158Z",
     "start_time": "2022-10-21T19:08:11.046627Z"
    }
   },
   "outputs": [],
   "source": [
    "simpath = csiborgtools.io.get_sim_path(7444)\n"
   ]
  },
  {
   "cell_type": "code",
   "execution_count": null,
   "id": "131c3107",
   "metadata": {
    "ExecuteTime": {
     "end_time": "2022-10-21T18:55:47.850599Z",
     "start_time": "2022-10-21T18:55:47.759912Z"
    }
   },
   "outputs": [],
   "source": [
    "box = csiborgtools.units.BoxUnits(1036, simpath)\n",
    "box.aexp"
   ]
  },
  {
   "cell_type": "code",
   "execution_count": null,
   "id": "10a85205",
   "metadata": {
    "ExecuteTime": {
     "end_time": "2022-10-21T18:55:26.525923Z",
     "start_time": "2022-10-21T18:55:26.501924Z"
    }
   },
   "outputs": [],
   "source": [
    "1.00074114645765"
   ]
  },
  {
   "cell_type": "code",
   "execution_count": null,
   "id": "f24dfcb0",
   "metadata": {
    "ExecuteTime": {
     "end_time": "2022-10-21T18:55:52.306733Z",
     "start_time": "2022-10-21T18:55:52.285593Z"
    }
   },
   "outputs": [],
   "source": [
    "box.box2kpc(1) * box.h * 1e-3"
   ]
  },
  {
   "cell_type": "code",
   "execution_count": null,
   "id": "9ef2dbd0",
   "metadata": {},
   "outputs": [],
   "source": []
  },
  {
   "cell_type": "code",
   "execution_count": null,
   "id": "21e14141",
   "metadata": {},
   "outputs": [],
   "source": []
  },
  {
   "cell_type": "code",
   "execution_count": null,
   "id": "bc88f404",
   "metadata": {
    "ExecuteTime": {
     "end_time": "2022-10-21T18:52:37.244713Z",
     "start_time": "2022-10-21T18:52:37.223610Z"
    }
   },
   "outputs": [],
   "source": [
    "box.box2dens(1) * (box.box2kpc(1) / 1000)**3"
   ]
  },
  {
   "cell_type": "code",
   "execution_count": null,
   "id": "8e7f05a7",
   "metadata": {},
   "outputs": [],
   "source": []
  },
  {
   "cell_type": "code",
   "execution_count": null,
   "id": "ad4ae528",
   "metadata": {},
   "outputs": [],
   "source": []
  },
  {
   "cell_type": "code",
   "execution_count": null,
   "id": "9d6fea02",
   "metadata": {
    "ExecuteTime": {
     "end_time": "2022-10-21T15:55:45.646143Z",
     "start_time": "2022-10-21T15:55:45.613932Z"
    }
   },
   "outputs": [],
   "source": [
    "box.box2kpc(1)**3"
   ]
  },
  {
   "cell_type": "code",
   "execution_count": null,
   "id": "5fe75ee1",
   "metadata": {},
   "outputs": [],
   "source": []
  },
  {
   "cell_type": "code",
   "execution_count": null,
   "id": "5d1413fd",
   "metadata": {
    "ExecuteTime": {
     "end_time": "2022-10-21T15:44:01.173538Z",
     "start_time": "2022-10-21T15:44:01.116609Z"
    }
   },
   "outputs": [],
   "source": [
    "box.solarmass2box(3.765003070876428e+19)"
   ]
  },
  {
   "cell_type": "code",
   "execution_count": null,
   "id": "90cf9d61",
   "metadata": {
    "ExecuteTime": {
     "end_time": "2022-10-21T15:43:52.382116Z",
     "start_time": "2022-10-21T15:43:52.120344Z"
    }
   },
   "outputs": [],
   "source": [
    "box.box2solarmass(1)"
   ]
  },
  {
   "cell_type": "code",
   "execution_count": null,
   "id": "b53e8166",
   "metadata": {},
   "outputs": [],
   "source": []
  },
  {
   "cell_type": "code",
   "execution_count": null,
   "id": "b3eeca5b",
   "metadata": {},
   "outputs": [],
   "source": []
  },
  {
   "cell_type": "code",
   "execution_count": null,
   "id": "93d32800",
   "metadata": {
    "ExecuteTime": {
     "end_time": "2022-10-20T22:09:12.915516Z",
     "start_time": "2022-10-20T22:09:12.856213Z"
    }
   },
   "outputs": [],
   "source": [
    "box.kpc2box(677.7 / 0.705 * 1000)"
   ]
  },
  {
   "cell_type": "code",
   "execution_count": null,
   "id": "66d3e98f",
   "metadata": {
    "ExecuteTime": {
     "end_time": "2022-10-20T22:06:46.471218Z",
     "start_time": "2022-10-20T22:06:46.437023Z"
    }
   },
   "outputs": [],
   "source": [
    "box.box2kpc(1) / 1000 * 0.705"
   ]
  },
  {
   "cell_type": "code",
   "execution_count": null,
   "id": "ef00a04c",
   "metadata": {},
   "outputs": [],
   "source": []
  },
  {
   "cell_type": "code",
   "execution_count": null,
   "id": "d201838b",
   "metadata": {},
   "outputs": [],
   "source": [
    "filename = \"/mnt/extraspace/hdesmond/ramses_out_9844/output_01016/info_01016.txt\""
   ]
  },
  {
   "cell_type": "code",
   "execution_count": null,
   "id": "d012a21b",
   "metadata": {},
   "outputs": [],
   "source": []
  },
  {
   "cell_type": "code",
   "execution_count": null,
   "id": "547f7944",
   "metadata": {
    "ExecuteTime": {
     "end_time": "2022-10-20T19:52:22.548299Z",
     "start_time": "2022-10-20T19:52:22.544342Z"
    }
   },
   "outputs": [],
   "source": [
    "results_filepath = '/mnt/extraspace/deaglan/H-AGN/'\n",
    "sugata_filepath = '/mnt/extraspace/jeg/greenwhale/Sugata/'\n",
    "\n",
    "def info_dir():\n",
    "    return sugata_filepath + 'INFO/'\n",
    "\n",
    "def info_file(nout):\n",
    "    return info_dir() + 'info_' + str(nout).zfill(5) + '.txt'\n",
    "\n",
    "def h_agn_particle_directory(nout):\n",
    "    return sugata_filepath + 'H-AGN/output_' + str(nout).zfill(5) + '/'\n",
    "\n",
    "def cosmo_dir():\n",
    "    return './data/'\n",
    "\n",
    "def cosmo_file(nout):\n",
    "    return cosmo_dir() + 'cosmo_table_' + str(nout).zfill(5) + '.txt'"
   ]
  },
  {
   "cell_type": "code",
   "execution_count": null,
   "id": "30630635",
   "metadata": {
    "ExecuteTime": {
     "end_time": "2022-10-20T19:52:22.777853Z",
     "start_time": "2022-10-20T19:52:22.774584Z"
    }
   },
   "outputs": [],
   "source": [
    "info_dir()"
   ]
  },
  {
   "cell_type": "code",
   "execution_count": null,
   "id": "a3fc21b2",
   "metadata": {
    "ExecuteTime": {
     "end_time": "2022-10-20T19:56:35.946185Z",
     "start_time": "2022-10-20T19:56:35.943643Z"
    }
   },
   "outputs": [],
   "source": [
    "filename = \"/mnt/extraspace/hdesmond/ramses_out_9844/output_01016/info_01016.txt\""
   ]
  },
  {
   "cell_type": "code",
   "execution_count": null,
   "id": "fae40a32",
   "metadata": {
    "ExecuteTime": {
     "end_time": "2022-10-20T20:05:04.410987Z",
     "start_time": "2022-10-20T20:05:04.403721Z"
    },
    "scrolled": false
   },
   "outputs": [],
   "source": [
    "e"
   ]
  },
  {
   "cell_type": "code",
   "execution_count": null,
   "id": "de7e3ae7",
   "metadata": {},
   "outputs": [],
   "source": []
  }
 ],
 "metadata": {
  "kernelspec": {
   "display_name": "venv_galomatch",
   "language": "python",
   "name": "venv_galomatch"
  },
  "language_info": {
   "codemirror_mode": {
    "name": "ipython",
    "version": 3
   },
   "file_extension": ".py",
   "mimetype": "text/x-python",
   "name": "python",
   "nbconvert_exporter": "python",
   "pygments_lexer": "ipython3",
   "version": "3.8.0"
  },
  "vscode": {
   "interpreter": {
    "hash": "f29d02a8350410abc2a9fb79641689d10bf7ab64afc03ec87ca3cf6ed2daa499"
   }
  }
 },
 "nbformat": 4,
 "nbformat_minor": 5
}
