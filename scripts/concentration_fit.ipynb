{
 "cells": [
  {
   "cell_type": "code",
   "execution_count": 1,
   "id": "5a38ed25",
   "metadata": {
    "ExecuteTime": {
     "end_time": "2022-10-23T19:37:06.051034Z",
     "start_time": "2022-10-23T19:37:03.569853Z"
    }
   },
   "outputs": [],
   "source": [
    "import numpy as np\n",
    "%matplotlib notebook\n",
    "import matplotlib.pyplot as plt\n",
    "try:\n",
    "    import csiborgtools\n",
    "except ModuleNotFoundError:\n",
    "    import sys\n",
    "    sys.path.append(\"../\")\n",
    "    import csiborgtools\n",
    "\n",
    "%load_ext autoreload\n",
    "%autoreload 2"
   ]
  },
  {
   "cell_type": "code",
   "execution_count": 2,
   "id": "267eb013",
   "metadata": {
    "ExecuteTime": {
     "end_time": "2022-10-23T19:37:06.075210Z",
     "start_time": "2022-10-23T19:37:06.053527Z"
    }
   },
   "outputs": [],
   "source": [
    "simpath = csiborgtools.io.get_sim_path(9844)\n",
    "Nsnap = 1016\n",
    "\n"
   ]
  },
  {
   "cell_type": "code",
   "execution_count": null,
   "id": "c2ceefa8",
   "metadata": {
    "ExecuteTime": {
     "start_time": "2022-10-23T19:37:14.504Z"
    }
   },
   "outputs": [
    {
     "name": "stdout",
     "output_type": "stream",
     "text": [
      "Reading in output `01016` with ncpu = `324`.\n"
     ]
    },
    {
     "name": "stderr",
     "output_type": "stream",
     "text": [
      "  5%|███▉                                                                            | 16/324 [00:00<00:14, 20.64it/s]"
     ]
    }
   ],
   "source": [
    "clump_ids = csiborgtools.io.read_clumpid(Nsnap, simpath)\n",
    "# clumps = csiborgtools.io.read_clumps(Nsnap, simpath)\n",
    "\n",
    "# particles = csiborgtools.io.read_particle([\"x\", \"y\", \"z\", \"M\", \"level\"], Nsnap, simpath)"
   ]
  },
  {
   "cell_type": "code",
   "execution_count": null,
   "id": "d53d098a",
   "metadata": {
    "ExecuteTime": {
     "end_time": "2022-10-23T19:18:44.881923Z",
     "start_time": "2022-10-23T19:17:32.454645Z"
    }
   },
   "outputs": [],
   "source": [
    "with_particles = csiborgtools.fits.clump_with_particles(clump_ids, clumps[\"index\"])"
   ]
  },
  {
   "cell_type": "code",
   "execution_count": null,
   "id": "d0e30d05",
   "metadata": {
    "ExecuteTime": {
     "end_time": "2022-10-23T19:33:50.620315Z",
     "start_time": "2022-10-23T19:33:50.246679Z"
    }
   },
   "outputs": [],
   "source": [
    "particles"
   ]
  },
  {
   "cell_type": "code",
   "execution_count": null,
   "id": "90be2c48",
   "metadata": {},
   "outputs": [],
   "source": []
  },
  {
   "cell_type": "code",
   "execution_count": null,
   "id": "440c8802",
   "metadata": {
    "ExecuteTime": {
     "end_time": "2022-10-23T19:22:26.216428Z",
     "start_time": "2022-10-23T19:22:25.069824Z"
    }
   },
   "outputs": [],
   "source": [
    "with_particles"
   ]
  },
  {
   "cell_type": "code",
   "execution_count": null,
   "id": "d86e3607",
   "metadata": {
    "ExecuteTime": {
     "end_time": "2022-10-23T19:24:34.813090Z",
     "start_time": "2022-10-23T19:24:34.773034Z"
    }
   },
   "outputs": [],
   "source": []
  },
  {
   "cell_type": "code",
   "execution_count": null,
   "id": "57f0d755",
   "metadata": {},
   "outputs": [],
   "source": []
  },
  {
   "cell_type": "code",
   "execution_count": null,
   "id": "47116196",
   "metadata": {},
   "outputs": [],
   "source": []
  },
  {
   "cell_type": "code",
   "execution_count": null,
   "id": "ee5692a7",
   "metadata": {},
   "outputs": [],
   "source": []
  },
  {
   "cell_type": "code",
   "execution_count": null,
   "id": "3a5634ff",
   "metadata": {},
   "outputs": [],
   "source": []
  },
  {
   "cell_type": "code",
   "execution_count": null,
   "id": "5f7144bb",
   "metadata": {
    "ExecuteTime": {
     "end_time": "2022-10-23T17:34:31.717576Z",
     "start_time": "2022-10-23T17:34:31.394857Z"
    }
   },
   "outputs": [],
   "source": [
    "start, end = csiborgtools.fits.distribute_halos(10, clumps[\"index\"])\n",
    "\n",
    "start, end"
   ]
  },
  {
   "cell_type": "code",
   "execution_count": null,
   "id": "e6ef5778",
   "metadata": {},
   "outputs": [],
   "source": []
  },
  {
   "cell_type": "code",
   "execution_count": null,
   "id": "a103c9cc",
   "metadata": {},
   "outputs": [],
   "source": []
  },
  {
   "cell_type": "code",
   "execution_count": null,
   "id": "fd3753fd",
   "metadata": {
    "ExecuteTime": {
     "end_time": "2022-10-22T08:10:17.624499Z",
     "start_time": "2022-10-22T08:10:16.382914Z"
    }
   },
   "outputs": [],
   "source": [
    "units = csiborgtools.units.BoxUnits(Nsnap, simpath)"
   ]
  },
  {
   "cell_type": "code",
   "execution_count": null,
   "id": "5aeac072",
   "metadata": {
    "ExecuteTime": {
     "end_time": "2022-10-22T08:21:29.385371Z",
     "start_time": "2022-10-22T08:21:28.932838Z"
    }
   },
   "outputs": [],
   "source": [
    "clump"
   ]
  },
  {
   "cell_type": "code",
   "execution_count": null,
   "id": "049be34c",
   "metadata": {
    "ExecuteTime": {
     "end_time": "2022-10-22T08:17:27.141560Z",
     "start_time": "2022-10-22T08:16:42.392149Z"
    }
   },
   "outputs": [],
   "source": [
    "missing_ids = []\n",
    "for i in trange(clump.size):\n",
    "    if clump[\"index\"][i] not in unique_ids:\n",
    "        missing_ids += [i]\n",
    "missing_ids = np.asarray(missing_ids)"
   ]
  },
  {
   "cell_type": "code",
   "execution_count": null,
   "id": "a9f19748",
   "metadata": {
    "ExecuteTime": {
     "end_time": "2022-10-22T09:31:00.830394Z",
     "start_time": "2022-10-22T09:31:00.422692Z"
    }
   },
   "outputs": [],
   "source": [
    "isparent = clump[\"index\"] == clump[\"parent\"]\n",
    "islevel0 = clump[\"level\"] == 0\n",
    "\n",
    "print(\"There are {} clumps.\".format(clump.size))\n",
    "print(\"{} clumps have `index` = `parent_index`.\".format(isparent.sum()))\n",
    "print(\"{} clums have `level` = 0.\".format(islevel0.sum()))"
   ]
  },
  {
   "cell_type": "code",
   "execution_count": null,
   "id": "47d6dfb9",
   "metadata": {},
   "outputs": [],
   "source": []
  },
  {
   "cell_type": "code",
   "execution_count": null,
   "id": "423192ca",
   "metadata": {},
   "outputs": [],
   "source": []
  },
  {
   "cell_type": "code",
   "execution_count": null,
   "id": "d7eca78d",
   "metadata": {},
   "outputs": [],
   "source": []
  },
  {
   "cell_type": "code",
   "execution_count": null,
   "id": "a37eb54a",
   "metadata": {
    "ExecuteTime": {
     "end_time": "2022-10-22T08:36:05.820539Z",
     "start_time": "2022-10-22T08:36:05.793687Z"
    }
   },
   "outputs": [],
   "source": [
    "(clump[\"level\"][missing_ids] == 0).sum()\n",
    "\n",
    "isparent[missing_ids].sum()"
   ]
  },
  {
   "cell_type": "code",
   "execution_count": null,
   "id": "d862ea96",
   "metadata": {
    "ExecuteTime": {
     "end_time": "2022-10-22T08:35:09.185427Z",
     "start_time": "2022-10-22T08:35:09.131969Z"
    }
   },
   "outputs": [],
   "source": [
    "np.sum((clump[\"level\"] > 0) & isparent)"
   ]
  },
  {
   "cell_type": "code",
   "execution_count": null,
   "id": "12abd4f7",
   "metadata": {
    "ExecuteTime": {
     "end_time": "2022-10-22T08:33:00.453094Z",
     "start_time": "2022-10-22T08:33:00.428967Z"
    }
   },
   "outputs": [],
   "source": [
    "x = isparent[missing_ids]\n",
    "x.sum() / x.size"
   ]
  },
  {
   "cell_type": "code",
   "execution_count": null,
   "id": "46becf40",
   "metadata": {
    "ExecuteTime": {
     "end_time": "2022-10-22T08:33:11.923900Z",
     "start_time": "2022-10-22T08:33:11.900512Z"
    }
   },
   "outputs": [],
   "source": [
    "x.sum()"
   ]
  },
  {
   "cell_type": "code",
   "execution_count": null,
   "id": "9f32f1f0",
   "metadata": {
    "ExecuteTime": {
     "end_time": "2022-10-22T08:33:28.819884Z",
     "start_time": "2022-10-22T08:33:28.798201Z"
    }
   },
   "outputs": [],
   "source": [
    "x.size"
   ]
  },
  {
   "cell_type": "code",
   "execution_count": null,
   "id": "31dbb006",
   "metadata": {},
   "outputs": [],
   "source": []
  },
  {
   "cell_type": "code",
   "execution_count": null,
   "id": "518a353e",
   "metadata": {
    "ExecuteTime": {
     "end_time": "2022-10-22T08:31:34.596909Z",
     "start_time": "2022-10-22T08:31:34.576234Z"
    }
   },
   "outputs": [],
   "source": []
  },
  {
   "cell_type": "code",
   "execution_count": null,
   "id": "e6aeddf8",
   "metadata": {
    "ExecuteTime": {
     "end_time": "2022-10-22T08:30:32.102085Z",
     "start_time": "2022-10-22T08:30:31.941196Z"
    }
   },
   "outputs": [],
   "source": [
    "plt.figure()\n",
    "\n",
    "\n",
    "plt.hist(clump[\"level\"][missing_ids], bins=30, histtype=\"step\", label=\"missing\")\n",
    "plt.hist(clump[\"level\"], bins=30, histtype=\"step\", label=\"all\")\n",
    "plt.legend()\n",
    "# plt.xscale(\"log\")\n",
    "# m = np.log10(units.box2solarmass(clump[\"mass_cl\"][missing_ids]))\n",
    "# plt.hist(m, bins=\"auto\", histtype=\"step\")\n",
    "\n",
    "# M = np.log10(units.box2solarmass(clump[\"mass_cl\"]))\n",
    "# plt.hist(M, bins=\"auto\", histtype=\"step\")\n",
    "\n",
    "plt.yscale(\"log\")\n",
    "\n",
    "plt.savefig(\"../plots\")\n",
    "\n",
    "plt.show()"
   ]
  },
  {
   "cell_type": "code",
   "execution_count": null,
   "id": "00fa9dc5",
   "metadata": {},
   "outputs": [],
   "source": []
  },
  {
   "cell_type": "code",
   "execution_count": null,
   "id": "f4c9f68f",
   "metadata": {
    "ExecuteTime": {
     "end_time": "2022-10-22T06:58:43.464366Z",
     "start_time": "2022-10-22T06:58:40.934350Z"
    }
   },
   "outputs": [],
   "source": [
    "M = np.log10(units.box2solarmass(clump[\"mass_cl\"]))\n",
    "plt.figure()\n",
    "plt.hist(M, bins=\"auto\")\n",
    "\n",
    "for m in M[ks]:\n",
    "    plt.axvline(m, c=\"red\", lw=0.01)\n",
    "\n",
    "plt.show()"
   ]
  },
  {
   "cell_type": "code",
   "execution_count": null,
   "id": "88f0ed0c",
   "metadata": {
    "ExecuteTime": {
     "end_time": "2022-10-22T06:57:07.282839Z",
     "start_time": "2022-10-22T06:57:07.216268Z"
    }
   },
   "outputs": [],
   "source": [
    "\n",
    "#         print(np.log10(units.box2solarmass(clump[\"mass_cl\"][k])))\n",
    "#         print(np.sum(clump_ids == k))"
   ]
  },
  {
   "cell_type": "code",
   "execution_count": null,
   "id": "cdeb318a",
   "metadata": {
    "ExecuteTime": {
     "end_time": "2022-10-22T06:57:07.689671Z",
     "start_time": "2022-10-22T06:57:07.665285Z"
    }
   },
   "outputs": [],
   "source": [
    "ks"
   ]
  },
  {
   "cell_type": "code",
   "execution_count": null,
   "id": "e4378441",
   "metadata": {},
   "outputs": [],
   "source": []
  },
  {
   "cell_type": "code",
   "execution_count": null,
   "id": "f9a5c021",
   "metadata": {},
   "outputs": [],
   "source": []
  },
  {
   "cell_type": "code",
   "execution_count": null,
   "id": "5193c71f",
   "metadata": {
    "ExecuteTime": {
     "end_time": "2022-10-22T06:22:11.416286Z",
     "start_time": "2022-10-22T06:22:11.392885Z"
    }
   },
   "outputs": [],
   "source": [
    "unique_ids.size"
   ]
  },
  {
   "cell_type": "code",
   "execution_count": null,
   "id": "8e98370e",
   "metadata": {
    "ExecuteTime": {
     "end_time": "2022-10-22T06:20:40.508972Z",
     "start_time": "2022-10-22T06:20:40.488018Z"
    }
   },
   "outputs": [],
   "source": [
    "clump[\"index\"]"
   ]
  },
  {
   "cell_type": "code",
   "execution_count": null,
   "id": "bc44e098",
   "metadata": {
    "ExecuteTime": {
     "end_time": "2022-10-22T06:19:52.098358Z",
     "start_time": "2022-10-22T06:19:52.030138Z"
    }
   },
   "outputs": [],
   "source": [
    "unique_ids.size"
   ]
  },
  {
   "cell_type": "code",
   "execution_count": null,
   "id": "ccc09127",
   "metadata": {
    "ExecuteTime": {
     "end_time": "2022-10-22T06:19:06.019792Z",
     "start_time": "2022-10-22T06:19:05.998525Z"
    }
   },
   "outputs": [],
   "source": [
    "Ntotal"
   ]
  },
  {
   "cell_type": "code",
   "execution_count": null,
   "id": "69f5bcaf",
   "metadata": {},
   "outputs": [],
   "source": []
  },
  {
   "cell_type": "code",
   "execution_count": null,
   "id": "d228ead3",
   "metadata": {
    "ExecuteTime": {
     "end_time": "2022-10-22T06:13:27.667834Z",
     "start_time": "2022-10-22T06:13:27.643014Z"
    }
   },
   "outputs": [],
   "source": [
    "Ntotal = unique_ids.size\n",
    "\n",
    "Njobs = 69\n",
    "\n",
    "\n",
    "\n",
    "\n",
    "Njobs_per_cpu = np.ones(Njobs, dtype=int) * Ntotal // Njobs\n",
    "# Split the remainder Ntotal % Njobs among the CPU\n",
    "Njobs_per_cpu[:Ntotal % Njobs] += 1\n",
    "\n",
    "\n",
    "\n",
    "start = csiborgtools.io.nparts_to_start_ind(Njobs_per_cpu)"
   ]
  },
  {
   "cell_type": "code",
   "execution_count": null,
   "id": "e6651ac4",
   "metadata": {},
   "outputs": [],
   "source": []
  },
  {
   "cell_type": "code",
   "execution_count": null,
   "id": "acda9bd9",
   "metadata": {
    "ExecuteTime": {
     "end_time": "2022-10-22T06:11:34.361493Z",
     "start_time": "2022-10-22T06:11:34.341728Z"
    }
   },
   "outputs": [],
   "source": [
    "Njobs_per_cpu.sum()"
   ]
  },
  {
   "cell_type": "code",
   "execution_count": null,
   "id": "d2d7cc2c",
   "metadata": {
    "ExecuteTime": {
     "end_time": "2022-10-22T06:11:34.869934Z",
     "start_time": "2022-10-22T06:11:34.849462Z"
    }
   },
   "outputs": [],
   "source": [
    "Ntotal"
   ]
  },
  {
   "cell_type": "code",
   "execution_count": null,
   "id": "beccdec2",
   "metadata": {},
   "outputs": [],
   "source": []
  },
  {
   "cell_type": "code",
   "execution_count": null,
   "id": "14d68741",
   "metadata": {},
   "outputs": [],
   "source": []
  },
  {
   "cell_type": "code",
   "execution_count": null,
   "id": "6f5277cc",
   "metadata": {
    "ExecuteTime": {
     "end_time": "2022-10-22T06:09:38.163983Z",
     "start_time": "2022-10-22T06:09:38.143022Z"
    }
   },
   "outputs": [],
   "source": [
    "extras"
   ]
  },
  {
   "cell_type": "code",
   "execution_count": null,
   "id": "119324bf",
   "metadata": {
    "ExecuteTime": {
     "end_time": "2022-10-22T06:07:22.619842Z",
     "start_time": "2022-10-22T06:07:22.599635Z"
    }
   },
   "outputs": [],
   "source": [
    "Ntotal"
   ]
  },
  {
   "cell_type": "code",
   "execution_count": null,
   "id": "feb38fd5",
   "metadata": {},
   "outputs": [],
   "source": []
  },
  {
   "cell_type": "code",
   "execution_count": null,
   "id": "a83fd9db",
   "metadata": {
    "ExecuteTime": {
     "end_time": "2022-10-22T06:05:08.418880Z",
     "start_time": "2022-10-22T06:05:08.398789Z"
    }
   },
   "outputs": [],
   "source": [
    "Ntotal / 3"
   ]
  },
  {
   "cell_type": "code",
   "execution_count": null,
   "id": "fa6cbf24",
   "metadata": {},
   "outputs": [],
   "source": []
  },
  {
   "cell_type": "code",
   "execution_count": null,
   "id": "f520bce0",
   "metadata": {},
   "outputs": [],
   "source": [
    "#    Ntotal = unique_ids.size\n",
    "#\n",
    "#    Neach_section, extras = divmod(Ntotal, Njobs)\n",
    "#\n",
    "#\n",
    "#    section_sizes = [0] + extras * [Neach_section+1] + (Nsections-extras) * [Neach_section]"
   ]
  },
  {
   "cell_type": "code",
   "execution_count": null,
   "id": "1245324b",
   "metadata": {},
   "outputs": [],
   "source": []
  },
  {
   "cell_type": "code",
   "execution_count": null,
   "id": "f926ab85",
   "metadata": {},
   "outputs": [],
   "source": []
  },
  {
   "cell_type": "code",
   "execution_count": null,
   "id": "5b6fee36",
   "metadata": {
    "ExecuteTime": {
     "end_time": "2022-10-21T22:34:25.909123Z",
     "start_time": "2022-10-21T22:34:25.885415Z"
    }
   },
   "outputs": [],
   "source": [
    "Ntotal = X.size\n",
    "Nsections = 23\n",
    "Neach_section, extras = divmod(Ntotal, Nsections)\n",
    "section_sizes = [0] + extras * [Neach_section+1] + (Nsections-extras) * [Neach_section]"
   ]
  },
  {
   "cell_type": "code",
   "execution_count": null,
   "id": "4bd7af44",
   "metadata": {
    "ExecuteTime": {
     "end_time": "2022-10-21T22:34:26.263273Z",
     "start_time": "2022-10-21T22:34:26.240321Z"
    }
   },
   "outputs": [],
   "source": [
    "div_points = np.core.numeric.array(section_sizes, dtype=np.core.numeric.intp).cumsum()"
   ]
  },
  {
   "cell_type": "code",
   "execution_count": null,
   "id": "7939d994",
   "metadata": {},
   "outputs": [],
   "source": []
  },
  {
   "cell_type": "code",
   "execution_count": null,
   "id": "ca0e451a",
   "metadata": {},
   "outputs": [],
   "source": []
  },
  {
   "cell_type": "code",
   "execution_count": null,
   "id": "b85d0e0b",
   "metadata": {
    "ExecuteTime": {
     "end_time": "2022-10-21T22:32:30.969632Z",
     "start_time": "2022-10-21T22:32:30.941239Z"
    }
   },
   "outputs": [],
   "source": [
    "np.core.numeric.array(10)"
   ]
  },
  {
   "cell_type": "code",
   "execution_count": null,
   "id": "d9cc662c",
   "metadata": {},
   "outputs": [],
   "source": [
    "clump"
   ]
  },
  {
   "cell_type": "code",
   "execution_count": null,
   "id": "fe22e45b",
   "metadata": {
    "ExecuteTime": {
     "end_time": "2022-10-21T22:30:23.665221Z",
     "start_time": "2022-10-21T22:29:09.671258Z"
    }
   },
   "outputs": [],
   "source": [
    "unq = np.unique(clump_ids)"
   ]
  },
  {
   "cell_type": "code",
   "execution_count": null,
   "id": "00e03f3d",
   "metadata": {
    "ExecuteTime": {
     "end_time": "2022-10-21T22:30:42.684304Z",
     "start_time": "2022-10-21T22:30:42.662333Z"
    }
   },
   "outputs": [],
   "source": [
    "unq.size"
   ]
  },
  {
   "cell_type": "code",
   "execution_count": null,
   "id": "0635e00d",
   "metadata": {
    "ExecuteTime": {
     "end_time": "2022-10-21T22:22:55.937102Z",
     "start_time": "2022-10-21T22:22:52.497403Z"
    }
   },
   "outputs": [],
   "source": [
    "k = 2\n",
    "\n",
    "m = clump_ids == k\n",
    "m"
   ]
  },
  {
   "cell_type": "code",
   "execution_count": null,
   "id": "f664b5f0",
   "metadata": {},
   "outputs": [],
   "source": []
  },
  {
   "cell_type": "code",
   "execution_count": null,
   "id": "30d19e51",
   "metadata": {
    "ExecuteTime": {
     "end_time": "2022-10-21T22:18:53.825805Z",
     "start_time": "2022-10-21T22:18:44.449356Z"
    }
   },
   "outputs": [],
   "source": [
    "clumps = csiborgtools.io.read_clumps(Nsnap, simpath, cols=[\"peak_x\", \"peak_y\", \"peak_z\", \"index\", \"parent\", \"level\"])"
   ]
  },
  {
   "cell_type": "code",
   "execution_count": null,
   "id": "d10c01cd",
   "metadata": {
    "ExecuteTime": {
     "end_time": "2022-10-21T22:19:03.995684Z",
     "start_time": "2022-10-21T22:19:03.973708Z"
    }
   },
   "outputs": [],
   "source": [
    "clumps[\"index\"]"
   ]
  },
  {
   "cell_type": "code",
   "execution_count": null,
   "id": "f3e7e6cc",
   "metadata": {},
   "outputs": [],
   "source": []
  },
  {
   "cell_type": "code",
   "execution_count": null,
   "id": "361ed427",
   "metadata": {},
   "outputs": [],
   "source": []
  },
  {
   "cell_type": "code",
   "execution_count": null,
   "id": "ef00a04c",
   "metadata": {},
   "outputs": [],
   "source": []
  },
  {
   "cell_type": "code",
   "execution_count": null,
   "id": "d201838b",
   "metadata": {},
   "outputs": [],
   "source": [
    "filename = \"/mnt/extraspace/hdesmond/ramses_out_9844/output_01016/info_01016.txt\""
   ]
  },
  {
   "cell_type": "code",
   "execution_count": null,
   "id": "d012a21b",
   "metadata": {},
   "outputs": [],
   "source": []
  },
  {
   "cell_type": "code",
   "execution_count": null,
   "id": "547f7944",
   "metadata": {
    "ExecuteTime": {
     "end_time": "2022-10-20T19:52:22.548299Z",
     "start_time": "2022-10-20T19:52:22.544342Z"
    }
   },
   "outputs": [],
   "source": [
    "results_filepath = '/mnt/extraspace/deaglan/H-AGN/'\n",
    "sugata_filepath = '/mnt/extraspace/jeg/greenwhale/Sugata/'\n",
    "\n",
    "def info_dir():\n",
    "    return sugata_filepath + 'INFO/'\n",
    "\n",
    "def info_file(nout):\n",
    "    return info_dir() + 'info_' + str(nout).zfill(5) + '.txt'\n",
    "\n",
    "def h_agn_particle_directory(nout):\n",
    "    return sugata_filepath + 'H-AGN/output_' + str(nout).zfill(5) + '/'\n",
    "\n",
    "def cosmo_dir():\n",
    "    return './data/'\n",
    "\n",
    "def cosmo_file(nout):\n",
    "    return cosmo_dir() + 'cosmo_table_' + str(nout).zfill(5) + '.txt'"
   ]
  },
  {
   "cell_type": "code",
   "execution_count": null,
   "id": "30630635",
   "metadata": {
    "ExecuteTime": {
     "end_time": "2022-10-20T19:52:22.777853Z",
     "start_time": "2022-10-20T19:52:22.774584Z"
    }
   },
   "outputs": [],
   "source": [
    "info_dir()"
   ]
  },
  {
   "cell_type": "code",
   "execution_count": null,
   "id": "a3fc21b2",
   "metadata": {
    "ExecuteTime": {
     "end_time": "2022-10-20T19:56:35.946185Z",
     "start_time": "2022-10-20T19:56:35.943643Z"
    }
   },
   "outputs": [],
   "source": [
    "filename = \"/mnt/extraspace/hdesmond/ramses_out_9844/output_01016/info_01016.txt\""
   ]
  },
  {
   "cell_type": "code",
   "execution_count": null,
   "id": "fae40a32",
   "metadata": {
    "ExecuteTime": {
     "end_time": "2022-10-20T20:05:04.410987Z",
     "start_time": "2022-10-20T20:05:04.403721Z"
    },
    "scrolled": false
   },
   "outputs": [],
   "source": [
    "e"
   ]
  },
  {
   "cell_type": "code",
   "execution_count": null,
   "id": "de7e3ae7",
   "metadata": {},
   "outputs": [],
   "source": []
  }
 ],
 "metadata": {
  "kernelspec": {
   "display_name": "venv_galomatch",
   "language": "python",
   "name": "venv_galomatch"
  },
  "language_info": {
   "codemirror_mode": {
    "name": "ipython",
    "version": 3
   },
   "file_extension": ".py",
   "mimetype": "text/x-python",
   "name": "python",
   "nbconvert_exporter": "python",
   "pygments_lexer": "ipython3",
   "version": "3.8.0"
  },
  "vscode": {
   "interpreter": {
    "hash": "f29d02a8350410abc2a9fb79641689d10bf7ab64afc03ec87ca3cf6ed2daa499"
   }
  }
 },
 "nbformat": 4,
 "nbformat_minor": 5
}
