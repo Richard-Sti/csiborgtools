{
 "cells": [
  {
   "cell_type": "code",
   "execution_count": 1,
   "metadata": {},
   "outputs": [],
   "source": [
    "# Copyright (C) 2024 Richard Stiskalek\n",
    "# This program is free software; you can redistribute it and/or modify it\n",
    "# under the terms of the GNU General Public License as published by the\n",
    "# Free Software Foundation; either version 3 of the License, or (at your\n",
    "# option) any later version.\n",
    "# This program is distributed in the hope that it will be useful, but\n",
    "# WITHOUT ANY WARRANTY; without even the implied warranty of\n",
    "# MERCHANTABILITY or FITNESS FOR A PARTICULAR PURPOSE.  See the GNU General\n",
    "# Public License for more details.\n",
    "#\n",
    "# You should have received a copy of the GNU General Public License along\n",
    "# with this program; if not, write to the Free Software Foundation, Inc.,\n",
    "# 51 Franklin Street, Fifth Floor, Boston, MA  02110-1301, USA.\n",
    "from os.path import join\n",
    "\n",
    "import numpy as np\n",
    "import matplotlib.pyplot as plt\n",
    "from h5py import File\n",
    "\n",
    "%matplotlib inline"
   ]
  },
  {
   "cell_type": "markdown",
   "metadata": {},
   "source": [
    "## Supernovae data"
   ]
  },
  {
   "cell_type": "code",
<<<<<<< HEAD
   "execution_count": 2,
=======
   "execution_count": 8,
>>>>>>> 4af2cc0 (Add script)
   "metadata": {},
   "outputs": [],
   "source": [
    "a2dir = \"/Users/richard/Data/PV/A2_paper_data/A2\""
   ]
  },
  {
   "cell_type": "markdown",
   "metadata": {},
   "source": [
    "### LOSS data set"
   ]
  },
  {
   "cell_type": "code",
<<<<<<< HEAD
   "execution_count": 3,
=======
   "execution_count": 9,
>>>>>>> 4af2cc0 (Add script)
   "metadata": {},
   "outputs": [],
   "source": [
    "names = [\"z_CMB\", \"mB\", \"x1\", \"c\", \"e_mB\", \"e_x1\", \"e_c\", \"RA\", \"DEC\"]\n",
    "dtype = [(n, np.float32) for n in names]\n",
    "data = np.genfromtxt(join(a2dir, \"loss.csv\"), delimiter=\",\", skip_header=1,\n",
    "                     usecols=[5 + n for n in range(len(names))])\n",
    "\n",
    "loss_data = np.empty(len(data), dtype=dtype)\n",
    "for i, n in enumerate(names):\n",
    "    loss_data[n] = data[:, i]"
   ]
  },
  {
   "cell_type": "markdown",
   "metadata": {},
   "source": [
<<<<<<< HEAD
    "## Foundation data set "
=======
    "### Foundation data set "
>>>>>>> 4af2cc0 (Add script)
   ]
  },
  {
   "cell_type": "code",
<<<<<<< HEAD
   "execution_count": 4,
=======
   "execution_count": 10,
>>>>>>> 4af2cc0 (Add script)
   "metadata": {},
   "outputs": [],
   "source": [
    "names = [\"z_CMB\", \"RA\", \"DEC\", \"x1\", \"mB\", \"c\", \"peak\", \"e_peak\", \"e_x1\", \"e_mB\", \"e_c\"]\n",
    "dtype = [(n, np.float32) for n in names]\n",
    "data = np.genfromtxt(join(a2dir, \"foundation.csv\"), delimiter=\",\", skip_header=1,\n",
    "                     usecols=[3 + n for n in range(len(names))])\n",
    "\n",
    "foundation_data = np.empty(len(data), dtype=dtype)\n",
    "for i, n in enumerate(names):\n",
    "    foundation_data[n] = data[:, i]"
   ]
  },
  {
   "cell_type": "markdown",
   "metadata": {},
   "source": [
<<<<<<< HEAD
=======
    "### Pantheon+"
   ]
  },
  {
   "cell_type": "code",
   "execution_count": 11,
   "metadata": {},
   "outputs": [
    {
     "data": {
      "image/png": "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",
      "text/plain": [
       "<Figure size 640x480 with 1 Axes>"
      ]
     },
     "metadata": {},
     "output_type": "display_data"
    }
   ],
   "source": [
    "fpath = \"/Users/richard/Data/PV/Pantheon+SH0ES.dat\"\n",
    "\n",
    "data = np.genfromtxt(fpath, names=True, dtype=None, encoding=None)\n",
    "data = data[data[\"zCMB\"] < 0.1]\n",
    "\n",
    "keys = [\"zCMB\", \"mB\", \"mBERR\", \"x1\", \"x1ERR\", \"c\", \"cERR\", \"RA\", \"DEC\", \"VPEC\", \"VPECERR\", \"biasCor_m_b\", \"biasCorErr_m_b\"]\n",
    "\n",
    "plt.figure()\n",
    "plt.hist(data[\"zCMB\"], bins=30)\n",
    "plt.xlim(0)\n",
    "plt.xlabel(r\"$z_{\\rm CMB}$\")\n",
    "plt.ylabel(r\"Counts\")\n",
    "plt.tight_layout()\n",
    "plt.show()\n",
    "\n",
    "pantheon_data = data[keys]"
   ]
  },
  {
   "cell_type": "markdown",
   "metadata": {},
   "source": [
    "## Tully-Fisher galaxies"
   ]
  },
  {
   "cell_type": "code",
   "execution_count": 12,
   "metadata": {},
   "outputs": [],
   "source": [
    "tf_folder = \"/Users/richard/Data/PV/A2_paper_data/tf\""
   ]
  },
  {
   "cell_type": "markdown",
   "metadata": {},
   "source": [
    "### SFI galaxies"
   ]
  },
  {
   "cell_type": "code",
   "execution_count": 14,
   "metadata": {},
   "outputs": [],
   "source": [
    "names = [\"RA\", \"DEC\", \"z_CMB\", \"mag\", \"eta\", \"e_mag\", \"e_eta\"]\n",
    "\n",
    "\n",
    "dtype = [(n, np.float32) for n in names]\n",
    "data = np.genfromtxt(join(tf_folder, \"sfi_gals_tf.csv\"), delimiter=\",\", skip_header=1,\n",
    "                     usecols=[2 + n for n in range(len(names))])\n",
    "\n",
    "sfi_gals = np.empty(len(data), dtype=dtype)\n",
    "for i, n in enumerate(names):\n",
    "    sfi_gals[n] = data[:, i]\n",
    "\n",
    "# sfi_gals = sfi_gals[sfi_gals[\"z_CMB\"] < 0.06]"
   ]
  },
  {
   "cell_type": "markdown",
   "metadata": {},
   "source": [
    "### SFI galaxies masked"
   ]
  },
  {
   "cell_type": "code",
   "execution_count": 15,
   "metadata": {},
   "outputs": [],
   "source": [
    "names = [\"RA\", \"DEC\", \"z_CMB\", \"mag\", \"eta\", \"e_mag\", \"e_eta\"]\n",
    "\n",
    "\n",
    "dtype = [(n, np.float32) for n in names]\n",
    "data = np.genfromtxt(join(tf_folder, \"sfi_gals_tf_masked.csv\"), delimiter=\",\", skip_header=1,\n",
    "                     usecols=[2 + n for n in range(len(names))])\n",
    "\n",
    "sfi_gals_masked = np.empty(len(data), dtype=dtype)\n",
    "for i, n in enumerate(names):\n",
    "    sfi_gals_masked[n] = data[:, i]"
   ]
  },
  {
   "cell_type": "markdown",
   "metadata": {},
   "source": [
    "### SFI Groups"
   ]
  },
  {
   "cell_type": "code",
   "execution_count": 16,
   "metadata": {},
   "outputs": [],
   "source": [
    "names = [\"RA\", \"DEC\", \"z_CMB\", \"r_hMpc\", \"e_r_hMpc\"]\n",
    "\n",
    "\n",
    "dtype = [(n, np.float32) for n in names]\n",
    "data = np.genfromtxt(join(tf_folder, \"sfi_grps.csv\"), delimiter=\",\", skip_header=1,\n",
    "                     usecols=[1 + n for n in range(len(names))])\n",
    "\n",
    "sfi_groups = np.empty(len(data), dtype=dtype)\n",
    "for i, n in enumerate(names):\n",
    "    sfi_groups[n] = data[:, i]"
   ]
  },
  {
   "cell_type": "markdown",
   "metadata": {},
   "source": [
    "### 2MTF "
   ]
  },
  {
   "cell_type": "code",
   "execution_count": 17,
   "metadata": {},
   "outputs": [],
   "source": [
    "names = [\"RA\", \"DEC\", \"mag\", \"e_mag\", \"z_CMB\", \"r_hMpc\", \"e_rhMpc\", \"M\", \"eta\", \"e_eta\"]\n",
    "\n",
    "dtype = [(n, np.float32) for n in names]\n",
    "data = np.genfromtxt(join(tf_folder, \"twomtf_k.csv\"), delimiter=\",\", skip_header=1,\n",
    "                     usecols=[2 + n for n in range(len(names))])\n",
    "\n",
    "twomtf_gals = np.empty(len(data), dtype=dtype)\n",
    "for i, n in enumerate(names):\n",
    "    twomtf_gals[n] = data[:, i]"
   ]
  },
  {
   "cell_type": "markdown",
   "metadata": {},
   "source": [
>>>>>>> 4af2cc0 (Add script)
    "## Write output as HDF5 file"
   ]
  },
  {
   "cell_type": "code",
<<<<<<< HEAD
   "execution_count": 5,
=======
   "execution_count": 18,
>>>>>>> 4af2cc0 (Add script)
   "metadata": {},
   "outputs": [],
   "source": [
    "outdir = \"/Users/richard/Downloads\"\n",
    "fname = \"PV_compilation_Supranta2019.hdf5\"\n",
    "\n",
    "with File(join(outdir, fname), 'w') as f:\n",
    "    # Write LOSS\n",
    "    grp = f.create_group(\"LOSS\")\n",
    "    for name in loss_data.dtype.names:\n",
    "        grp.create_dataset(name, data=loss_data[name])\n",
    "\n",
    "    # Write Foundation\n",
    "    grp = f.create_group(\"Foundation\")\n",
    "    for name in foundation_data.dtype.names:\n",
<<<<<<< HEAD
    "        grp.create_dataset(name, data=foundation_data[name])\n"
=======
    "        grp.create_dataset(name, data=foundation_data[name])\n",
    "\n",
    "    # Write SFI gals\n",
    "    grp = f.create_group(\"SFI_gals\")\n",
    "    for name in sfi_gals.dtype.names:\n",
    "        grp.create_dataset(name, data=sfi_gals[name])\n",
    "    \n",
    "    # Write SFI gals masked\n",
    "    grp = f.create_group(\"SFI_gals_masked\")\n",
    "    for name in sfi_gals_masked.dtype.names:\n",
    "        grp.create_dataset(name, data=sfi_gals_masked[name])\n",
    "\n",
    "    # Write SFI groups\n",
    "    grp = f.create_group(\"SFI_groups\")\n",
    "    for name in sfi_groups.dtype.names:\n",
    "        grp.create_dataset(name, data=sfi_groups[name])\n",
    "\n",
    "    # Write 2MTF gals\n",
    "    grp = f.create_group(\"2MTF\")\n",
    "    for name in twomtf_gals.dtype.names:\n",
    "        grp.create_dataset(name, data=twomtf_gals[name])\n",
    "\n",
    "    # Write Pantheon\n",
    "    grp = f.create_group(\"Pantheon+\")\n",
    "    for name in pantheon_data.dtype.names:\n",
    "        grp.create_dataset(name, data=pantheon_data[name])\n",
    "\n"
>>>>>>> 4af2cc0 (Add script)
   ]
  },
  {
   "cell_type": "code",
   "execution_count": null,
   "metadata": {},
   "outputs": [],
   "source": []
  }
 ],
 "metadata": {
  "kernelspec": {
   "display_name": "Python 3",
   "language": "python",
   "name": "python3"
  },
  "language_info": {
   "codemirror_mode": {
    "name": "ipython",
    "version": 3
   },
   "file_extension": ".py",
   "mimetype": "text/x-python",
   "name": "python",
   "nbconvert_exporter": "python",
   "pygments_lexer": "ipython3",
   "version": "3.11.6"
  }
 },
 "nbformat": 4,
 "nbformat_minor": 2
}
