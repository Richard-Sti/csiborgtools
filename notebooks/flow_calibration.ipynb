{
 "cells": [
  {
   "cell_type": "code",
   "execution_count": null,
   "metadata": {},
   "outputs": [],
   "source": [
    "import numpy as np\n",
    "import matplotlib.pyplot as plt\n",
    "import jax\n",
    "from numpyro.infer import MCMC, NUTS, init_to_median\n",
    "import corner\n",
    "from getdist import plots\n",
    "\n",
    "import csiborgtools\n",
    "\n",
    "from flow_calibration import *\n",
    "\n",
    "%load_ext autoreload\n",
    "%autoreload 2\n",
    "%matplotlib inline\n",
    "\n",
    "paths = csiborgtools.read.Paths(**csiborgtools.paths_glamdring)"
   ]
  },
  {
   "cell_type": "markdown",
   "metadata": {},
   "source": [
    "## LOS density & radial velocity plots "
   ]
  },
  {
   "cell_type": "code",
   "execution_count": null,
   "metadata": {},
   "outputs": [],
   "source": [
    "# fpath = \"/mnt/extraspace/rstiskalek/catalogs/A2.h5\"\n",
    "fpath = \"/mnt/extraspace/rstiskalek/catalogs/PV_compilation_Supranta2019.hdf5\"\n",
    "\n",
    "loader_carrick = csiborgtools.flow.DataLoader(\"Carrick2015\", \"LOSS\", fpath, paths, ksmooth=0)\n",
    "loader_csiborg = csiborgtools.flow.DataLoader(\"csiborg1\", \"LOSS\", fpath, paths, ksmooth=0)\n",
    "loader_csiborg2 = csiborgtools.flow.DataLoader(\"csiborg2_main\", \"LOSS\", fpath, paths, ksmooth=0)"
   ]
  },
  {
   "cell_type": "code",
   "execution_count": null,
   "metadata": {},
   "outputs": [],
   "source": [
    "# ks = [115,  53,  77, 105,  26,  61,  86,  29,  80,  21]\n",
    "ks = [19,  8, 15,  0, 16,  6, 48, 38, 26, 44]\n",
    "# ks = [19]\n",
    "# ks = np.random.choice(50, 10, replace=False)\n",
    "\n",
    "# k = 6\n",
    "for k in []:\n",
    "    fig, axs = plt.subplots(2, 1, figsize=(7, 7), sharex=True)\n",
    "    # Get rid of vertical spacing\n",
    "    fig.subplots_adjust(wspace=0)\n",
    "\n",
    "    # Plot CSiBORG\n",
    "    for i in range(loader_csiborg.los_density.shape[1]):\n",
    "        axs[0].plot(loader_csiborg.rdist, loader_csiborg.los_density[k, i, :], alpha=0.1, color=\"black\")\n",
    "        axs[1].plot(loader_csiborg.rdist, loader_csiborg.los_radial_velocity[k, i, :], alpha=0.1, color=\"black\")\n",
    "\n",
    "    # CSiBORG1\n",
    "    axs[0].plot(loader_csiborg.rdist, loader_csiborg.los_density[k, :, :].mean(axis=0), color=\"red\", label=\"CSiBORG1\")\n",
    "    axs[1].plot(loader_csiborg.rdist, loader_csiborg.los_radial_velocity[k, :, :].mean(axis=0), color=\"red\")\n",
    "\n",
    "    # CSiBORG2\n",
    "    axs[0].plot(loader_csiborg2.rdist, loader_csiborg2.los_density[k, :, :].mean(axis=0), color=\"violet\", label=\"CSiBORG2\")\n",
    "    axs[1].plot(loader_csiborg2.rdist, loader_csiborg2.los_radial_velocity[k, :, :].mean(axis=0), color=\"violet\")\n",
    "\n",
    "    # Plot Carrick+2015\n",
    "    axs[0].plot(loader_carrick.rdist, loader_carrick.los_density[k, 0, :], color=\"blue\", label=\"Carrick+2015\")\n",
    "    axs[1].plot(loader_carrick.rdist, loader_carrick.los_radial_velocity[k, 0, :] * 0.43, color=\"blue\")\n",
    "\n",
    "\n",
    "    # for i in range(2):\n",
    "    #     label = \"SN\"\n",
    "    #     rdist = loader_csiborg.cat[\"r_hMpc\"][k]\n",
    "    #     axs[i].axvline(rdist, color=\"violet\", linestyle=\"--\",\n",
    "    #                 zorder=0, label=label)\n",
    "\n",
    "    axs[1].set_xlabel(r\"$r ~ [\\mathrm{Mpc} / h]$\")\n",
    "    axs[0].set_ylabel(r\"$\\rho_{\\rm LOS} / \\langle \\rho_{\\rm matter} \\rangle$\")\n",
    "    axs[1].set_ylabel(r\"$v_{\\rm LOS} ~ [\\mathrm{km/s}]$\")\n",
    "\n",
    "    axs[0].set_yscale(\"log\")\n",
    "\n",
    "    axs[0].legend(loc=\"upper right\")\n",
    "    axs[0].set_xlim(0, 200)\n",
    "\n",
    "    fig.tight_layout(w_pad=0, h_pad=0)\n",
    "    fig.savefig(f\"../plots/LOSS_los_{k}.png\", dpi=500, bbox_inches=\"tight\")\n",
    "\n",
    "    fig.show()"
   ]
  },
  {
   "cell_type": "markdown",
   "metadata": {},
   "source": [
    "## Test running a model"
   ]
  },
  {
   "cell_type": "code",
   "execution_count": null,
   "metadata": {},
   "outputs": [],
   "source": [
    "fpath_data = \"/mnt/extraspace/rstiskalek/catalogs/PV_compilation_Supranta2019.hdf5\"\n",
    "# fpath_data = \"/mnt/extraspace/rstiskalek/catalogs/A2.h5\"\n",
    "\n",
    "simname = \"Carrick2015\"\n",
    "catalogue = \"LOSS\"\n",
    "loader = csiborgtools.flow.DataLoader(simname, 0, catalogue, fpath_data, paths, ksmooth=0)\n",
    "get_model_kwargs = {\"zcmb_max\": 0.06}"
   ]
  },
  {
   "cell_type": "markdown",
   "metadata": {},
   "source": [
    "#### Running HMC"
   ]
  },
  {
   "cell_type": "code",
   "execution_count": null,
   "metadata": {},
   "outputs": [],
   "source": [
    "model = csiborgtools.flow.get_model(loader, **get_model_kwargs)"
   ]
  },
  {
   "cell_type": "code",
   "execution_count": null,
   "metadata": {},
   "outputs": [],
   "source": [
    "kernel = NUTS(model, init_strategy=init_to_median(num_samples=100))\n",
    "mcmc = MCMC(kernel, num_warmup=250, num_samples=2500)\n",
    "\n",
    "rng_key = jax.random.PRNGKey(5)"
   ]
  },
  {
   "cell_type": "code",
   "execution_count": null,
   "metadata": {},
   "outputs": [],
   "source": [
    "model_kwargs = {\"sample_alpha\": True}\n",
    "mcmc.run(rng_key, **model_kwargs)"
   ]
  },
  {
   "cell_type": "code",
   "execution_count": null,
   "metadata": {},
   "outputs": [],
   "source": [
    "mcmc.print_summary()\n",
    "samples = mcmc.get_samples(group_by_chain=False)\n",
    "print(csiborgtools.numpyro_gof(model, mcmc, len(loader.cat), model_kwargs))"
   ]
  },
  {
   "cell_type": "code",
   "execution_count": null,
   "metadata": {},
   "outputs": [],
   "source": [
    "Vmag = np.sqrt(samples[\"Vext_x\"]**2 + samples[\"Vext_y\"]**2 + samples[\"Vext_z\"]**2)\n",
    "\n",
    "V = np.vstack([samples[\"Vext_x\"], samples[\"Vext_y\"], samples[\"Vext_z\"]]).T\n",
    "V = csiborgtools.cartesian_to_radec(V)\n",
    "\n",
    "l, b = csiborgtools.flow.radec_to_galactic(V[:, 1], V[:, 2])\n",
    "\n",
    "print(f\"|V|  = {np.mean(Vmag)} +- {np.std(Vmag)}\")\n",
    "print(f\"l    = {np.mean(l)} +- {np.std(l)}\")\n",
    "print(f\"b    = {np.mean(b)} +- {np.std(b)}\")\n",
    "print(f\"beta = {np.mean(samples['beta'])} +- {np.std(samples['beta'])}\")"
   ]
  },
  {
   "cell_type": "code",
   "execution_count": null,
   "metadata": {},
   "outputs": [],
   "source": [
    "if \"alpha\" in samples:\n",
    "    data = np.vstack([samples[\"alpha\"], samples[\"beta\"], l, b, Vmag]).T\n",
    "    labels = [r\"$\\alpha$\", r\"$\\beta$\", r\"$l$\", r\"$b$\", r\"$|\\bf{V}_{\\rm ext}|$\"]\n",
    "else:\n",
    "    data = np.vstack([samples[\"beta\"], l, b, Vmag]).T\n",
    "    labels = [r\"$\\beta$\", r\"$l$\", r\"$b$\", r\"$|\\bf{V}_{\\rm ext}|$\"]\n",
    "\n",
    "fig = corner.corner(data, labels=labels, show_titles=True, title_fmt=\".3f\", title_kwargs={\"fontsize\": 12}, smooth=1)"
   ]
  },
  {
   "cell_type": "markdown",
   "metadata": {},
   "source": [
    "## Vizualize the results"
   ]
  },
  {
   "cell_type": "markdown",
   "metadata": {},
   "source": [
    "####  Functions to read in the results"
   ]
  },
  {
   "cell_type": "code",
   "execution_count": null,
   "metadata": {},
   "outputs": [],
   "source": [
    "data, names, gof = read_samples(\"2MTF\", \"Carrick2015\", 0)\n",
    "\n",
    "fig = corner.corner(data, labels=names_to_latex(names, True), show_titles=True,\n",
    "                    title_fmt=\".3f\", title_kwargs={\"fontsize\": 12}, smooth=1)"
   ]
  },
  {
   "cell_type": "markdown",
   "metadata": {},
   "source": [
    "### LOSS-only comparison"
   ]
  },
  {
   "cell_type": "code",
   "execution_count": null,
   "metadata": {},
   "outputs": [],
   "source": [
    "LOSS_Carrick_0 = read_samples(\"LOSS\", \"Carrick2015\", 0, return_MCsamples=True)\n",
    "LOSS_Carrick_1 = read_samples(\"LOSS\", \"Carrick2015\", 1, return_MCsamples=True)\n",
    "\n",
    "LOSS_CB1_0 = read_samples(\"LOSS\", \"csiborg1\", 0, return_MCsamples=True)\n",
    "LOSS_CB1_1 = read_samples(\"LOSS\", \"csiborg1\", 1, return_MCsamples=True)\n",
    "\n",
    "LOSS_CB2_0 = read_samples(\"LOSS\", \"csiborg2_main\", 0, return_MCsamples=True)\n",
    "LOSS_CB2_1 = read_samples(\"LOSS\", \"csiborg2_main\", 1, return_MCsamples=True)"
   ]
  },
  {
   "cell_type": "code",
   "execution_count": null,
   "metadata": {},
   "outputs": [],
   "source": [
    "X = [\n",
    "     LOSS_Carrick_0,\n",
    "     # LOSS_Carrick_1,\n",
    "     # LOSS_CB1_0,\n",
    "     LOSS_CB1_1,\n",
    "     LOSS_CB2_0,\n",
    "     LOSS_CB2_1,\n",
    "     ]\n",
    "\n",
    "# params = [\"l\", \"b\", \"Vmag\", \"beta\"]\n",
    "params = None\n",
    "\n",
    "g = plots.get_subplot_plotter()\n",
    "g.settings.figure_legend_frame = False\n",
    "g.settings.alpha_filled_add = 0.75\n",
    "# g.settings.title_limit_fontsize = 14\n",
    "g.triangle_plot(X, params=params, filled=True, legend_loc='upper right', )\n",
    "g.export(f\"../plots/LOSS_comparison.png\", dpi=500,)\n"
   ]
  },
  {
   "cell_type": "markdown",
   "metadata": {},
   "source": [
    "### Foundation-only comparison"
   ]
  },
  {
   "cell_type": "code",
   "execution_count": null,
   "metadata": {},
   "outputs": [],
   "source": [
    "FOUNDATION_Carrick_0 = read_samples(\"Foundation\", \"Carrick2015\", 0, return_MCsamples=True)\n",
    "FOUNDATION_Carrick_1 = read_samples(\"Foundation\", \"Carrick2015\", 1, return_MCsamples=True)\n",
    "\n",
    "FOUNDATION_CB1_0 = read_samples(\"Foundation\", \"csiborg1\", 0, return_MCsamples=True)\n",
    "FOUNDATION_CB1_1 = read_samples(\"Foundation\", \"csiborg1\", 1, return_MCsamples=True)\n",
    "\n",
    "FOUNDATION_CB2_0 = read_samples(\"Foundation\", \"csiborg2_main\", 0, return_MCsamples=True)\n",
    "FOUNDATION_CB2_1 = read_samples(\"Foundation\", \"csiborg2_main\", 1, return_MCsamples=True)"
   ]
  },
  {
   "cell_type": "code",
   "execution_count": null,
   "metadata": {},
   "outputs": [],
   "source": [
    "X = [\n",
    "    FOUNDATION_Carrick_0,\n",
    "    # FOUNDATION_Carrick_1,\n",
    "    # FOUNDATION_CB1_0,\n",
    "    FOUNDATION_CB1_1,\n",
    "    FOUNDATION_CB2_0,\n",
    "    FOUNDATION_CB2_1,\n",
    "    ]\n",
    "\n",
    "g = plots.get_subplot_plotter()\n",
    "g.settings.figure_legend_frame = False\n",
    "g.settings.alpha_filled_add = 0.75\n",
    "# g.settings.title_limit_fontsize = 14\n",
    "g.triangle_plot(X, filled=True, legend_loc='upper right')\n",
    "g.export(f\"../plots/FOUNDATION_comparison.png\", dpi=500,)"
   ]
  },
  {
   "cell_type": "markdown",
   "metadata": {},
   "source": [
    "### PantheonPlus-only comparison"
   ]
  },
  {
   "cell_type": "code",
   "execution_count": null,
   "metadata": {},
   "outputs": [],
   "source": [
    "PANTHEONP_Carrick_0 = read_samples(\"Pantheon+\", \"Carrick2015\", 0, return_MCsamples=True)\n",
    "PANTHEONP_Carrick_1 = read_samples(\"Pantheon+\", \"Carrick2015\", 1, return_MCsamples=True)\n",
    "\n",
    "PANTHEONP_CB1_0 = read_samples(\"Pantheon+\", \"csiborg1\", 0, return_MCsamples=True)\n",
    "PANTHEONP_CB1_1 = read_samples(\"Pantheon+\", \"csiborg1\", 1, return_MCsamples=True)\n",
    "\n",
    "# STILL RUNNING\n",
    "# PANTHEONP_CB2_0 = read_samples(\"Pantheon+\", \"csiborg2_main\", 0, return_MCsamples=True)\n",
    "PANTHEONP_CB2_1 = read_samples(\"Pantheon+\", \"csiborg2_main\", 1, return_MCsamples=True)\n"
   ]
  },
  {
   "cell_type": "code",
   "execution_count": null,
   "metadata": {},
   "outputs": [],
   "source": [
    "X = [\n",
    "    PANTHEONP_Carrick_0,\n",
    "    # PANTHEONP_Carrick_1,\n",
    "    # PANTHEONP_CB1_0,\n",
    "    PANTHEONP_CB1_1,\n",
    "    # PANTHEONP_CB2_0,\n",
    "    PANTHEONP_CB2_1,\n",
    "    ]\n",
    "\n",
    "g = plots.get_subplot_plotter()\n",
    "g.settings.figure_legend_frame = False\n",
    "g.settings.alpha_filled_add = 0.75\n",
    "# g.settings.title_limit_fontsize = 14\n",
    "g.triangle_plot(X, filled=True, legend_loc='upper right')\n",
    "g.export(f\"../plots/PANTHEONP_comparison.png\", dpi=500,)"
   ]
  },
  {
   "cell_type": "markdown",
   "metadata": {},
   "source": [
    "### 2MTF comparison"
   ]
  },
  {
   "cell_type": "code",
   "execution_count": null,
   "metadata": {},
   "outputs": [],
   "source": [
    "TWOMTF_Carrick_0 = read_samples(\"2MTF\", \"Carrick2015\", 0, return_MCsamples=True)\n",
    "TWOMTF_Carrick_1 = read_samples(\"2MTF\", \"Carrick2015\", 1, return_MCsamples=True)\n",
    "\n",
    "TWOMTF_CB1_0 = read_samples(\"2MTF\", \"csiborg1\", 0, return_MCsamples=True)\n",
    "TWOMTF_CB1_1 = read_samples(\"2MTF\", \"csiborg1\", 1, return_MCsamples=True)\n",
    "\n",
    "TWOMTF_CB2_0 = read_samples(\"2MTF\", \"csiborg2_main\", 0, return_MCsamples=True)\n",
    "TWOMTF_CB2_1 = read_samples(\"2MTF\", \"csiborg2_main\", 1, return_MCsamples=True)\n"
   ]
  },
  {
   "cell_type": "code",
   "execution_count": null,
   "metadata": {},
   "outputs": [],
   "source": [
    "X = [\n",
    "    TWOMTF_Carrick_0,\n",
    "    # TWOMTF_Carrick_1,\n",
    "    # TWOMTF_CB1_0,\n",
    "    TWOMTF_CB1_1,\n",
    "    TWOMTF_CB2_0,\n",
    "    TWOMTF_CB2_1,\n",
    "    ]\n",
    "\n",
    "g = plots.get_subplot_plotter()\n",
    "g.settings.figure_legend_frame = False\n",
    "g.settings.alpha_filled_add = 0.75\n",
    "# g.settings.title_limit_fontsize = 14\n",
    "g.triangle_plot(X, filled=True, legend_loc='upper right')\n",
    "g.export(f\"../plots/2MTF_comparison.png\", dpi=500,)"
   ]
  },
  {
   "cell_type": "markdown",
   "metadata": {},
   "source": [
    "### SFI galaxies"
   ]
  },
  {
   "cell_type": "code",
   "execution_count": null,
   "metadata": {},
   "outputs": [],
   "source": [
    "SFIGAL_Carrick_0 = read_samples(\"SFI_gals\", \"Carrick2015\", 0, return_MCsamples=True)\n",
    "SFIGAL_Carrick_1 = read_samples(\"SFI_gals\", \"Carrick2015\", 1, return_MCsamples=True)\n",
    "\n",
    "# SFIGAL_CB1_0 = read_samples(\"SFI_gals\", \"csiborg1\", 0, return_MCsamples=True)\n",
    "# SFIGAL_CB1_1 = read_samples(\"SFI_gals\", \"csiborg1\", 1, return_MCsamples=True)\n",
    "\n",
    "SFIGAL_CB2_0 = read_samples(\"SFI_gals\", \"csiborg2_main\", 0, return_MCsamples=True)\n",
    "SFIGAL_CB2_1 = read_samples(\"SFI_gals\", \"csiborg2_main\", 1, return_MCsamples=True)"
   ]
  },
  {
   "cell_type": "code",
   "execution_count": null,
   "metadata": {},
   "outputs": [],
   "source": [
    "X = [\n",
    "    SFIGAL_Carrick_0,\n",
    "    # SFIGAL_Carrick_1,\n",
    "    # SFIGAL_CB1_0,\n",
    "    # SFIGAL_CB1_1,\n",
    "    # SFIGAL_CB2_0,\n",
    "    SFIGAL_CB2_1,\n",
    "    ]\n",
    "\n",
    "g = plots.get_subplot_plotter()\n",
    "g.settings.figure_legend_frame = False\n",
    "g.settings.alpha_filled_add = 0.75\n",
    "# g.settings.title_limit_fontsize = 14\n",
    "g.triangle_plot(X, filled=True, legend_loc='upper right')\n",
    "g.export(f\"../plots/SFI_gals_comparison.png\", dpi=500,)"
   ]
  },
  {
   "cell_type": "markdown",
   "metadata": {},
   "source": [
    "### External flow consistency"
   ]
  },
  {
   "cell_type": "markdown",
   "metadata": {},
   "source": [
    "#### Carrick2015"
   ]
  },
  {
   "cell_type": "code",
   "execution_count": null,
   "metadata": {},
   "outputs": [],
   "source": [
    "X = [\n",
    "    # LOSS_Carrick_0,\n",
    "    # FOUNDATION_Carrick_0,\n",
    "    PANTHEONP_Carrick_0,\n",
    "    TWOMTF_Carrick_0,\n",
    "    SFIGAL_Carrick_0,\n",
    "    ]\n",
    "\n",
    "params = [\"Vmag\", \"l\", \"b\", \"beta\"]\n",
    "g = plots.get_subplot_plotter()\n",
    "g.settings.figure_legend_frame = False\n",
    "g.settings.alpha_filled_add = 0.75\n",
    "# g.settings.title_limit_fontsize = 14\n",
    "g.triangle_plot(X, params=params, filled=True, legend_loc='upper right',)\n",
    "g.export(f\"../plots/Carrick2015_external_flow.png\", dpi=500,)"
   ]
  },
  {
   "cell_type": "markdown",
   "metadata": {},
   "source": [
    "#### CSiBORG1"
   ]
  },
  {
   "cell_type": "code",
   "execution_count": null,
   "metadata": {},
   "outputs": [],
   "source": [
    "X = [\n",
    "    # LOSS_CB1_1,\n",
    "    # FOUNDATION_CB1_1,\n",
    "    PANTHEONP_CB1_1,\n",
    "    TWOMTF_CB1_1,\n",
    "    # SFIGAL_CB1_1,\n",
    "    ]\n",
    "\n",
    "params = [\"Vmag\", \"l\", \"b\", \"beta\"]\n",
    "g = plots.get_subplot_plotter()\n",
    "g.settings.figure_legend_frame = False\n",
    "g.settings.alpha_filled_add = 0.75\n",
    "# g.settings.title_limit_fontsize = 14\n",
    "g.triangle_plot(X, params=params, filled=True, legend_loc='upper right',)\n",
    "g.export(f\"../plots/CB1_external_flow.png\", dpi=500,)"
   ]
  },
  {
   "cell_type": "markdown",
   "metadata": {},
   "source": [
    "#### CSiBORG2"
   ]
  },
  {
   "cell_type": "code",
   "execution_count": null,
   "metadata": {},
   "outputs": [],
   "source": [
    "X = [\n",
    "    # LOSS_CB2_1,\n",
    "    # FOUNDATION_CB2_1,\n",
    "    PANTHEONP_CB2_1,\n",
    "    TWOMTF_CB2_1,\n",
    "    SFIGAL_CB2_1,\n",
    "    ]\n",
    "\n",
    "params = [\"Vmag\", \"l\", \"b\", \"beta\"]\n",
    "g = plots.get_subplot_plotter()\n",
    "g.settings.figure_legend_frame = False\n",
    "g.settings.alpha_filled_add = 0.75\n",
    "# g.settings.title_limit_fontsize = 14\n",
    "g.triangle_plot(X, params=params, filled=True, legend_loc='upper right',)\n",
    "g.export(f\"../plots/CB2_external_flow.png\", dpi=500,)"
   ]
  },
  {
   "cell_type": "code",
   "execution_count": null,
   "metadata": {},
   "outputs": [],
   "source": []
  }
 ],
 "metadata": {
  "kernelspec": {
   "display_name": "venv_csiborg",
   "language": "python",
   "name": "python3"
  },
  "language_info": {
   "codemirror_mode": {
    "name": "ipython",
    "version": 3
   },
   "file_extension": ".py",
   "mimetype": "text/x-python",
   "name": "python",
   "nbconvert_exporter": "python",
   "pygments_lexer": "ipython3",
   "version": "3.11.7"
  }
 },
 "nbformat": 4,
 "nbformat_minor": 2
}
