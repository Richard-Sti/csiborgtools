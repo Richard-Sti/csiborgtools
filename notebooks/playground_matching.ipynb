{
 "cells": [
  {
   "cell_type": "code",
   "execution_count": 1,
   "id": "5a38ed25",
   "metadata": {
    "ExecuteTime": {
     "end_time": "2023-03-18T16:48:24.478310Z",
     "start_time": "2023-03-18T16:48:19.148881Z"
    },
    "scrolled": true
   },
   "outputs": [
    {
     "name": "stdout",
     "output_type": "stream",
     "text": [
      "not found\n"
     ]
    }
   ],
   "source": [
    "import numpy as np\n",
    "import numpy\n",
    "%matplotlib notebook\n",
    "import matplotlib\n",
    "import matplotlib.pyplot as plt\n",
    "try:\n",
    "    import csiborgtools\n",
    "except ModuleNotFoundError:\n",
    "    print(\"not found\")\n",
    "    import sys\n",
    "    sys.path.append(\"../\")\n",
    "    import csiborgtools\n",
    "import utils\n",
    "import joblib\n",
    "\n",
    "from scipy.stats import spearmanr\n",
    "from datetime import datetime\n",
    "\n",
    "from tqdm import tqdm, trange\n",
    "\n",
    "from os.path import join\n",
    "%load_ext autoreload\n",
    "%autoreload 2\n",
    "\n",
    "%load_ext line_profiler"
   ]
  },
  {
   "cell_type": "code",
   "execution_count": 2,
   "id": "190d39e6",
   "metadata": {
    "ExecuteTime": {
     "end_time": "2023-03-18T16:48:30.002956Z",
     "start_time": "2023-03-18T16:48:24.480000Z"
    }
   },
   "outputs": [],
   "source": [
    "cat0 = csiborgtools.read.HaloCatalogue(7468)\n",
    "catx = csiborgtools.read.HaloCatalogue(7588)"
   ]
  },
  {
   "cell_type": "code",
   "execution_count": null,
   "id": "09c93ab0",
   "metadata": {
    "ExecuteTime": {
     "end_time": "2023-03-18T15:50:02.083954Z",
     "start_time": "2023-03-18T15:49:58.820283Z"
    }
   },
   "outputs": [],
   "source": [
    "reader = csiborgtools.read.PairOverlap(cat0, catx)"
   ]
  },
  {
   "cell_type": "code",
   "execution_count": null,
   "id": "650cbe8a",
   "metadata": {
    "ExecuteTime": {
     "end_time": "2023-03-18T15:01:38.944905Z",
     "start_time": "2023-03-18T15:01:34.825937Z"
    },
    "scrolled": false
   },
   "outputs": [],
   "source": [
    "ks = np.argsort(reader.cat0(\"totpartmass\"))[::-1]\n",
    "k = ks[2]\n",
    "\n",
    "\n",
    "plt.figure()\n",
    "plt.scatter(reader.dist(False, \"r200\")[k], reader.mass_ratio()[k], c=reader[\"overlap\"][k])\n",
    "plt.colorbar(label=\"Overlap\")\n",
    "\n",
    "plt.title(r\"$\\log M_{{\\rm tot}} / M_\\odot = {:.4f}$\".format(np.log10(reader.cat0(\"totpartmass\")[k])))\n",
    "plt.xlabel(r\"$\\Delta r_i / R_{200c}$\")\n",
    "plt.ylabel(r\"$|\\log \\dfrac{M_i}{M_{\\rm tot}}|$\")\n",
    "plt.tight_layout()\n",
    "plt.show()"
   ]
  },
  {
   "cell_type": "code",
   "execution_count": null,
   "id": "51dd52f0",
   "metadata": {
    "ExecuteTime": {
     "end_time": "2023-03-18T15:11:52.756612Z",
     "start_time": "2023-03-18T15:01:41.488130Z"
    }
   },
   "outputs": [],
   "source": [
    "print(\"Starting: {}.\".format(datetime.now()))\n",
    "clumps0 = np.load(\"/mnt/extraspace/rstiskalek/csiborg/initmatch/clump_7468_particles.npy\", allow_pickle=True)\n",
    "print(\"Loaded `clump0`: {}.\".format(datetime.now()))\n",
    "clumpsx = np.load(\"/mnt/extraspace/rstiskalek/csiborg/initmatch/clump_7588_particles.npy\", allow_pickle=True)\n",
    "print(\"Loaded `clumpx`: {}.\".format(datetime.now()))\n",
    "\n",
    "overlapper = csiborgtools.match.ParticleOverlap()"
   ]
  },
  {
   "cell_type": "code",
   "execution_count": null,
   "id": "bcef2505",
   "metadata": {
    "ExecuteTime": {
     "end_time": "2023-03-18T15:12:41.774012Z",
     "start_time": "2023-03-18T15:11:58.302494Z"
    }
   },
   "outputs": [],
   "source": [
    "# Convert positions to cell IDs\n",
    "csiborgtools.read.clumps_pos2cell(clumps0, overlapper)\n",
    "csiborgtools.read.clumps_pos2cell(clumpsx, overlapper)\n",
    "\n",
    "mins0, maxs0 = csiborgtools.match.get_clumplims(clumps0, overlapper.inv_clength, overlapper.nshift)\n",
    "minsx, maxsx = csiborgtools.match.get_clumplims(clumpsx, overlapper.inv_clength, overlapper.nshift)"
   ]
  },
  {
   "cell_type": "code",
   "execution_count": null,
   "id": "e2c24b54",
   "metadata": {
    "ExecuteTime": {
     "end_time": "2023-03-18T15:13:27.212408Z",
     "start_time": "2023-03-18T15:13:01.150497Z"
    }
   },
   "outputs": [],
   "source": [
    "delta_bckg0 = overlapper.make_bckg_delta(clumps0)\n",
    "delta_bckgx = overlapper.make_bckg_delta(clumpsx)"
   ]
  },
  {
   "cell_type": "code",
   "execution_count": null,
   "id": "fb4e8c0a",
   "metadata": {
    "ExecuteTime": {
     "end_time": "2023-03-18T15:15:44.538975Z",
     "start_time": "2023-03-18T15:13:27.214058Z"
    }
   },
   "outputs": [],
   "source": [
    "smooth_kwargs = {\"sigma\": 1}\n",
    "\n",
    "delta_bckg0_smooth = overlapper.make_bckg_delta(clumps0, smooth_kwargs)\n",
    "delta_bckgx_smooth = overlapper.make_bckg_delta(clumpsx, smooth_kwargs)"
   ]
  },
  {
   "cell_type": "code",
   "execution_count": null,
   "id": "bb707fb2",
   "metadata": {
    "ExecuteTime": {
     "end_time": "2023-03-18T15:25:14.444975Z",
     "start_time": "2023-03-18T15:25:12.815042Z"
    }
   },
   "outputs": [],
   "source": [
    "# cat0 = reader.cat0\n",
    "# catx = reader.catx\n",
    "ks = np.argsort(cat0[\"totpartmass\"])[::-1]\n",
    "k = ks[2]\n",
    "n = -3\n",
    "\n",
    "print(\"Original overlap is \", reader[\"overlap\"][k][n])\n",
    "\n",
    "index_cl0 = [cl[1] for cl in clumps0].index(cat0[k][\"index\"])\n",
    "cl0 = clumps0[index_cl0][0]\n",
    "mins_cl0, maxs_cl0 = mins0[index_cl0], maxs0[index_cl0]\n",
    "\n",
    "index_clx = [cl[1] for cl in clumpsx].index(catx[\"index\"][reader[\"match_indxs\"][k]][n])\n",
    "clx = clumpsx[index_clx][0]\n",
    "mins_clx, maxs_clx = minsx[index_clx], maxsx[index_clx]\n",
    "\n",
    "\n",
    "\n",
    "delta1, delta2, cellmins, nonzero1 = overlapper.make_deltas(\n",
    "    cl0, clx, mins_cl0, maxs_cl0, mins_clx, maxs_clx, smooth_kwargs=smooth_kwargs)\n",
    "\n",
    "# m1 = np.sum(cl0[\"M\"])\n",
    "# m2 = np.sum(clx[\"M\"])\n",
    "\n",
    "print(cl0.size, clx.size)"
   ]
  },
  {
   "cell_type": "code",
   "execution_count": null,
   "id": "264da97c",
   "metadata": {
    "ExecuteTime": {
     "end_time": "2023-03-18T16:02:22.092641Z",
     "start_time": "2023-03-18T16:02:18.888194Z"
    }
   },
   "outputs": [],
   "source": [
    "d = np.load(\"/mnt/extraspace/rstiskalek/csiborg/overlap/cross_7468_7588.npz\", allow_pickle=True)\n",
    "ref_indxs = d[\"ref_indxs\"]\n",
    "cross_indxs = d[\"cross_indxs\"]\n",
    "match_indxs = d[\"match_indxs\"]\n",
    "overlap = d[\"overlap\"]"
   ]
  },
  {
   "cell_type": "code",
   "execution_count": null,
   "id": "344a5bd9",
   "metadata": {
    "ExecuteTime": {
     "end_time": "2023-03-18T16:02:29.737039Z",
     "start_time": "2023-03-18T16:02:29.713335Z"
    }
   },
   "outputs": [],
   "source": [
    "match_indxs"
   ]
  },
  {
   "cell_type": "code",
   "execution_count": null,
   "id": "feaefd8c",
   "metadata": {
    "ExecuteTime": {
     "end_time": "2023-03-18T15:31:47.353723Z",
     "start_time": "2023-03-18T15:31:46.688268Z"
    }
   },
   "outputs": [],
   "source": [
    "cat0[\"index\"]"
   ]
  },
  {
   "cell_type": "code",
   "execution_count": null,
   "id": "cd1fc44c",
   "metadata": {
    "ExecuteTime": {
     "end_time": "2023-03-17T18:06:47.606934Z",
     "start_time": "2023-03-17T18:06:40.671567Z"
    }
   },
   "outputs": [],
   "source": [
    "d[\"match_indxs\"]"
   ]
  },
  {
   "cell_type": "code",
   "execution_count": null,
   "id": "ffc3ec5f",
   "metadata": {
    "ExecuteTime": {
     "end_time": "2023-03-17T18:09:54.933215Z",
     "start_time": "2023-03-17T18:09:54.149431Z"
    }
   },
   "outputs": [],
   "source": [
    "d[\"cross_indxs\"][494]"
   ]
  },
  {
   "cell_type": "code",
   "execution_count": null,
   "id": "751c7baf",
   "metadata": {},
   "outputs": [],
   "source": []
  },
  {
   "cell_type": "code",
   "execution_count": null,
   "id": "8b8ba985",
   "metadata": {},
   "outputs": [],
   "source": []
  },
  {
   "cell_type": "code",
   "execution_count": null,
   "id": "0e20e56e",
   "metadata": {
    "ExecuteTime": {
     "end_time": "2023-03-17T18:09:45.273716Z",
     "start_time": "2023-03-17T18:09:45.249627Z"
    }
   },
   "outputs": [],
   "source": [
    "d.files"
   ]
  },
  {
   "cell_type": "code",
   "execution_count": null,
   "id": "105d9f87",
   "metadata": {},
   "outputs": [],
   "source": []
  },
  {
   "cell_type": "code",
   "execution_count": null,
   "id": "bc12fb2d",
   "metadata": {
    "ExecuteTime": {
     "end_time": "2023-03-17T17:43:37.465181Z",
     "start_time": "2023-03-17T17:43:37.424976Z"
    }
   },
   "outputs": [],
   "source": [
    "reader._cat2clump_mapping(clumps0[\"ID\"], cat0[\"index\"])"
   ]
  },
  {
   "cell_type": "code",
   "execution_count": null,
   "id": "76a9e0dc",
   "metadata": {
    "ExecuteTime": {
     "end_time": "2023-03-17T17:45:55.297716Z",
     "start_time": "2023-03-17T17:45:54.751106Z"
    }
   },
   "outputs": [],
   "source": [
    "d[\"cross_indxs\"]"
   ]
  },
  {
   "cell_type": "code",
   "execution_count": null,
   "id": "0fb163e7",
   "metadata": {
    "ExecuteTime": {
     "end_time": "2023-03-17T17:46:00.452857Z",
     "start_time": "2023-03-17T17:45:59.205943Z"
    }
   },
   "outputs": [],
   "source": [
    "d[\"ref_indxs\"]"
   ]
  },
  {
   "cell_type": "code",
   "execution_count": null,
   "id": "f484901a",
   "metadata": {
    "ExecuteTime": {
     "end_time": "2023-03-17T17:45:50.762920Z",
     "start_time": "2023-03-17T17:45:50.736090Z"
    }
   },
   "outputs": [],
   "source": [
    "d.files"
   ]
  },
  {
   "cell_type": "code",
   "execution_count": null,
   "id": "fc7ec046",
   "metadata": {},
   "outputs": [],
   "source": []
  },
  {
   "cell_type": "code",
   "execution_count": null,
   "id": "380502e4",
   "metadata": {
    "ExecuteTime": {
     "end_time": "2023-03-17T17:41:58.896462Z",
     "start_time": "2023-03-17T17:41:58.358217Z"
    }
   },
   "outputs": [],
   "source": [
    "clumps0[\"ID\"]"
   ]
  },
  {
   "cell_type": "code",
   "execution_count": null,
   "id": "3ffb2e50",
   "metadata": {},
   "outputs": [],
   "source": []
  },
  {
   "cell_type": "code",
   "execution_count": null,
   "id": "c335dfd6",
   "metadata": {},
   "outputs": [],
   "source": []
  },
  {
   "cell_type": "code",
   "execution_count": null,
   "id": "e20c9231",
   "metadata": {
    "ExecuteTime": {
     "end_time": "2023-03-17T17:38:18.763555Z",
     "start_time": "2023-03-17T17:38:18.735243Z"
    }
   },
   "outputs": [],
   "source": [
    "reader.cat0(\"totpartmass\")"
   ]
  },
  {
   "cell_type": "code",
   "execution_count": null,
   "id": "ec221d0c",
   "metadata": {
    "ExecuteTime": {
     "end_time": "2023-03-17T17:39:43.377134Z",
     "start_time": "2023-03-17T17:39:43.338973Z"
    }
   },
   "outputs": [],
   "source": [
    "clumps0[\"clump\"]#[reader[\"index\"]]"
   ]
  },
  {
   "cell_type": "code",
   "execution_count": null,
   "id": "61aa94c1",
   "metadata": {},
   "outputs": [],
   "source": []
  },
  {
   "cell_type": "code",
   "execution_count": null,
   "id": "8ac89026",
   "metadata": {
    "ExecuteTime": {
     "end_time": "2023-03-17T17:37:58.237942Z",
     "start_time": "2023-03-17T17:37:58.211164Z"
    }
   },
   "outputs": [],
   "source": [
    "reader[\"overlap\"]"
   ]
  },
  {
   "cell_type": "code",
   "execution_count": null,
   "id": "7c332d26",
   "metadata": {},
   "outputs": [],
   "source": []
  },
  {
   "cell_type": "code",
   "execution_count": null,
   "id": "aee31257",
   "metadata": {
    "ExecuteTime": {
     "end_time": "2023-03-17T16:42:46.943519Z",
     "start_time": "2023-03-17T16:42:46.457231Z"
    }
   },
   "outputs": [],
   "source": [
    "overlapper(cl0, clx, delta_bckg0_smooth, delta_bckgx_smooth, mins_cl0, maxs_cl0, mins_clx, maxs_clx,\n",
    "          smooth_kwargs=smooth_kwargs)"
   ]
  },
  {
   "cell_type": "code",
   "execution_count": null,
   "id": "fd22019a",
   "metadata": {
    "ExecuteTime": {
     "end_time": "2023-03-17T17:02:09.063682Z",
     "start_time": "2023-03-17T17:02:09.029935Z"
    }
   },
   "outputs": [],
   "source": [
    "fpath = \"/mnt/extraspace/rstiskalek/csiborg/overlap/cross_7468_7588.npz\"\n",
    "\n",
    "d = np.load(fpath, allow_pickle=True)"
   ]
  },
  {
   "cell_type": "code",
   "execution_count": null,
   "id": "42364ac3",
   "metadata": {
    "ExecuteTime": {
     "end_time": "2023-03-17T17:06:13.733456Z",
     "start_time": "2023-03-17T17:06:06.050531Z"
    }
   },
   "outputs": [],
   "source": [
    "d[\"match_indxs\"]"
   ]
  },
  {
   "cell_type": "code",
   "execution_count": null,
   "id": "7e26d29a",
   "metadata": {
    "ExecuteTime": {
     "end_time": "2023-03-17T17:20:15.140196Z",
     "start_time": "2023-03-17T17:20:12.647388Z"
    }
   },
   "outputs": [],
   "source": [
    "from csiborgtools.utils import now"
   ]
  },
  {
   "cell_type": "code",
   "execution_count": null,
   "id": "2d0e3ba2",
   "metadata": {
    "ExecuteTime": {
     "end_time": "2023-03-17T17:29:21.865139Z",
     "start_time": "2023-03-17T17:29:13.200929Z"
    }
   },
   "outputs": [],
   "source": [
    "x = d[\"overlap\"]"
   ]
  },
  {
   "cell_type": "code",
   "execution_count": null,
   "id": "cc62d3c6",
   "metadata": {
    "ExecuteTime": {
     "end_time": "2023-03-17T17:29:37.407762Z",
     "start_time": "2023-03-17T17:29:37.382207Z"
    }
   },
   "outputs": [],
   "source": [
    "np.zeros_like(x)"
   ]
  },
  {
   "cell_type": "code",
   "execution_count": null,
   "id": "bc9d884e",
   "metadata": {},
   "outputs": [],
   "source": []
  },
  {
   "cell_type": "code",
   "execution_count": null,
   "id": "fd0f34e5",
   "metadata": {
    "ExecuteTime": {
     "end_time": "2023-03-17T17:14:18.032010Z",
     "start_time": "2023-03-17T17:14:18.009796Z"
    }
   },
   "outputs": [],
   "source": [
    "printv(\"aadsad\", \"asda\", verbose=True)"
   ]
  },
  {
   "cell_type": "code",
   "execution_count": null,
   "id": "8c49a844",
   "metadata": {
    "ExecuteTime": {
     "end_time": "2023-03-17T17:18:03.516589Z",
     "start_time": "2023-03-17T17:18:03.492235Z"
    }
   },
   "outputs": [],
   "source": [
    "from datetime import datetime"
   ]
  },
  {
   "cell_type": "code",
   "execution_count": null,
   "id": "29d97996",
   "metadata": {
    "ExecuteTime": {
     "end_time": "2023-03-17T17:18:12.585547Z",
     "start_time": "2023-03-17T17:18:12.562548Z"
    }
   },
   "outputs": [],
   "source": [
    "datetime.now()k"
   ]
  },
  {
   "cell_type": "code",
   "execution_count": null,
   "id": "234eb570",
   "metadata": {
    "ExecuteTime": {
     "end_time": "2023-03-17T17:03:03.155064Z",
     "start_time": "2023-03-17T17:03:01.878720Z"
    }
   },
   "outputs": [],
   "source": [
    "d[\"ref_indxs\"]"
   ]
  },
  {
   "cell_type": "code",
   "execution_count": null,
   "id": "cf9daf05",
   "metadata": {
    "ExecuteTime": {
     "end_time": "2023-03-17T17:02:57.199262Z",
     "start_time": "2023-03-17T17:02:57.166230Z"
    }
   },
   "outputs": [],
   "source": [
    "d[\"cross_indxs\"]"
   ]
  },
  {
   "cell_type": "code",
   "execution_count": null,
   "id": "c564db1b",
   "metadata": {},
   "outputs": [],
   "source": []
  },
  {
   "cell_type": "code",
   "execution_count": null,
   "id": "ccf2c54e",
   "metadata": {},
   "outputs": [],
   "source": []
  },
  {
   "cell_type": "code",
   "execution_count": null,
   "id": "44c05197",
   "metadata": {},
   "outputs": [],
   "source": []
  },
  {
   "cell_type": "code",
   "execution_count": null,
   "id": "2ff4e5d7",
   "metadata": {
    "ExecuteTime": {
     "end_time": "2023-03-17T16:43:21.444921Z",
     "start_time": "2023-03-17T16:43:10.716560Z"
    }
   },
   "outputs": [],
   "source": [
    "%timeit overlapper(cl0, clx, delta_bckg0, delta_bckgx, mins_cl0, maxs_cl0, mins_clx, maxs_clx)\n"
   ]
  },
  {
   "cell_type": "markdown",
   "id": "2bfe8c99",
   "metadata": {},
   "source": [
    "13 $m s$"
   ]
  },
  {
   "cell_type": "code",
   "execution_count": null,
   "id": "0dc6bba6",
   "metadata": {
    "ExecuteTime": {
     "end_time": "2023-03-17T16:35:41.682839Z",
     "start_time": "2023-03-17T16:35:41.533204Z"
    }
   },
   "outputs": [],
   "source": [
    "fig, axs = plt.subplots(ncols=2, figsize=(6.4 * 1.5, 6.4 * 0.75), sharey=True)\n",
    "axs[0].imshow(np.sum(delta1, axis=2))\n",
    "axs[1].imshow(np.sum(delta2, axis=2))\n",
    "\n",
    "\n",
    "plt.tight_layout()\n",
    "fig.show()"
   ]
  },
  {
   "cell_type": "code",
   "execution_count": null,
   "id": "7d80e631",
   "metadata": {},
   "outputs": [],
   "source": []
  },
  {
   "cell_type": "code",
   "execution_count": null,
   "id": "6fa12e2c",
   "metadata": {
    "ExecuteTime": {
     "end_time": "2023-03-08T16:54:29.505269Z",
     "start_time": "2023-03-08T16:54:16.854347Z"
    }
   },
   "outputs": [],
   "source": [
    "%timeit csiborgtools.match.calculate_overlap(delta1, delta2, cellmins, delta_bckg0, delta_bckgx)"
   ]
  },
  {
   "cell_type": "code",
   "execution_count": null,
   "id": "df3daf44",
   "metadata": {
    "ExecuteTime": {
     "end_time": "2023-03-08T16:54:32.673533Z",
     "start_time": "2023-03-08T16:54:29.507011Z"
    }
   },
   "outputs": [],
   "source": [
    "%timeit csiborgtools.match.calculate_overlap_indxs(delta1, delta2, cellmins, delta_bckg0, delta_bckgx, nonzero1, m1, m2)"
   ]
  },
  {
   "cell_type": "code",
   "execution_count": null,
   "id": "eba5c561",
   "metadata": {},
   "outputs": [],
   "source": []
  },
  {
   "cell_type": "raw",
   "id": "977d6689",
   "metadata": {},
   "source": [
    "x1 = np.arange(10)"
   ]
  },
  {
   "cell_type": "code",
   "execution_count": null,
   "id": "5e240691",
   "metadata": {},
   "outputs": [],
   "source": []
  },
  {
   "cell_type": "code",
   "execution_count": null,
   "id": "f2479bc6",
   "metadata": {
    "ExecuteTime": {
     "end_time": "2023-02-19T13:04:11.219411Z",
     "start_time": "2023-02-19T13:03:54.067641Z"
    }
   },
   "outputs": [],
   "source": [
    "csiborgtools.match.calculate_overlap_new(delta1, delta2, cellmins, delta)"
   ]
  },
  {
   "cell_type": "code",
   "execution_count": null,
   "id": "67275b22",
   "metadata": {
    "ExecuteTime": {
     "end_time": "2023-02-19T13:04:55.142793Z",
     "start_time": "2023-02-19T13:04:37.744126Z"
    }
   },
   "outputs": [],
   "source": [
    "csiborgtools.match.calculate_overlap(delta1, delta2, cellmins, delta)"
   ]
  },
  {
   "cell_type": "code",
   "execution_count": null,
   "id": "e27c5d05",
   "metadata": {
    "ExecuteTime": {
     "end_time": "2023-02-19T13:05:12.457435Z",
     "start_time": "2023-02-19T13:04:55.144454Z"
    }
   },
   "outputs": [],
   "source": [
    "csiborgtools.match.calculate_overlap_new(delta1, delta2, cellmins, delta)"
   ]
  },
  {
   "cell_type": "code",
   "execution_count": null,
   "id": "ef3c7b60",
   "metadata": {},
   "outputs": [],
   "source": []
  },
  {
   "cell_type": "code",
   "execution_count": null,
   "id": "ef93a057",
   "metadata": {
    "ExecuteTime": {
     "end_time": "2023-02-06T16:14:14.832154Z",
     "start_time": "2023-02-06T16:14:11.119558Z"
    },
    "scrolled": false
   },
   "outputs": [],
   "source": [
    "for k in trange(len(indxs)):\n",
    "    dist = dist0[k] / (cat[0][\"lagpatch\"][k] + cat[1][\"lagpatch\"][indxs[k]])\n",
    "    \n",
    "    mask = (overlap[k] > 0.01) & (dist > 0.95)\n",
    "    if np.any(mask):\n",
    "        print(k, np.where(mask))\n",
    "        print(overlap[k][mask], dist[mask])\n",
    "    \n",
    "    \n",
    "    \n",
    "    \n",
    "    \n",
    "    \n",
    "\n",
    "# cat[1][\"patch95\"][indxs[k]]\n",
    "#     sep[k] = dist[k] / cat[0][\"r200\"][k]\n",
    "#     mass[k] = np.ones(indxs[k].size) * cat[0][\"totpartmass\"][k]\n",
    "#     dlogm[k] = np.abs(np.log10(cat[0][\"totpartmass\"][k]) - np.log10(cat[1][\"totpartmass\"][indxs[k]]))\n"
   ]
  },
  {
   "cell_type": "code",
   "execution_count": null,
   "id": "c7ccc955",
   "metadata": {},
   "outputs": [],
   "source": []
  },
  {
   "cell_type": "code",
   "execution_count": null,
   "id": "2202f3c3",
   "metadata": {},
   "outputs": [],
   "source": []
  },
  {
   "cell_type": "code",
   "execution_count": null,
   "id": "bd90836a",
   "metadata": {
    "ExecuteTime": {
     "end_time": "2023-02-04T15:19:37.762724Z",
     "start_time": "2023-02-04T15:19:37.161058Z"
    }
   },
   "outputs": [],
   "source": [
    "overlapper = csiborgtools.match.ParticleOverlap(inv_clength=2048, smooth_scale=None)"
   ]
  },
  {
   "cell_type": "code",
   "execution_count": null,
   "id": "a5da9aec",
   "metadata": {
    "ExecuteTime": {
     "end_time": "2023-02-06T16:15:33.323187Z",
     "start_time": "2023-02-06T16:15:32.644574Z"
    }
   },
   "outputs": [],
   "source": [
    "# k = ks[1000]\n",
    "k = 104397\n",
    "n = 1\n",
    "\n",
    "\n",
    "index_cl0 = [cl[1] for cl in clumps0].index(cat[0][k][\"index\"])\n",
    "cl0 = clumps0[index_cl0][0]\n",
    "mins_cl0, maxs_cl0 = mins0[index_cl0], maxs0[index_cl0]\n",
    "\n",
    "index_clx = [cl[1] for cl in clumpsx].index(cat[1][\"index\"][indxs[k]][n])\n",
    "clx = clumpsx[index_clx][0]\n",
    "mins_clx, maxs_clx = minsx[index_clx], maxsx[index_clx]\n",
    "\n",
    "# clx = clumpsx[[cl[1] for cl in clumpsx].index(cat[1][\"index\"][indxs[k]][n])][0]\n",
    "\n",
    "\n",
    "\n",
    "delta1, delta2, cellmins, nonzero1 = overlapper.make_deltas(cl0, clx, mins_cl0, maxs_cl0, mins_clx, maxs_clx, return_nonzero1=True)"
   ]
  },
  {
   "cell_type": "code",
   "execution_count": null,
   "id": "7b10f9c4",
   "metadata": {
    "ExecuteTime": {
     "end_time": "2023-02-06T16:15:34.429119Z",
     "start_time": "2023-02-06T16:15:34.395221Z"
    }
   },
   "outputs": [],
   "source": [
    "box = cat[0].box\n",
    "np.log10(box.box2solarmass(delta1.sum())), np.log10(box.box2solarmass(delta2.sum()))"
   ]
  },
  {
   "cell_type": "code",
   "execution_count": null,
   "id": "732afe13",
   "metadata": {
    "ExecuteTime": {
     "end_time": "2023-02-06T16:15:36.054541Z",
     "start_time": "2023-02-06T16:15:35.451185Z"
    }
   },
   "outputs": [],
   "source": [
    "fig = plt.figure()\n",
    "\n",
    "ax = fig.add_subplot(projection='3d')\n",
    "\n",
    "ax.scatter(cl0['x'], cl0['y'], cl0['z'])\n",
    "\n",
    "ax.scatter(clx['x'], clx['y'], clx['z'])\n",
    "\n",
    "\n",
    "plt.tight_layout()\n",
    "\n",
    "plt.savefig(\"../plots/example.png\", dpi=450)\n",
    "plt.show()\n",
    "\n",
    "\n",
    "\n",
    "# plt.figure()\n",
    "# # plt.imshow(np.sum(delta1, axis=2))\n",
    "# plt.scatter(cl0['x'], cl0['y'])\n",
    "\n",
    "# plt.scatter(clx['x'], clx['y'])\n",
    "# plt.show()\n",
    "\n",
    "\n",
    "# # plt.figure()\n",
    "# # plt.imshow(np.sum(delta2, axis=2))\n",
    "# # plt.show()"
   ]
  },
  {
   "cell_type": "code",
   "execution_count": null,
   "id": "200a9a90",
   "metadata": {},
   "outputs": [],
   "source": []
  },
  {
   "cell_type": "code",
   "execution_count": null,
   "id": "00e4f887",
   "metadata": {},
   "outputs": [],
   "source": []
  },
  {
   "cell_type": "code",
   "execution_count": null,
   "id": "8dbec1ec",
   "metadata": {
    "ExecuteTime": {
     "end_time": "2023-02-06T16:03:29.826974Z",
     "start_time": "2023-02-06T16:03:29.187512Z"
    }
   },
   "outputs": [],
   "source": [
    "overlapper.overlap(delta1, delta2, cellmins, delta)"
   ]
  },
  {
   "cell_type": "code",
   "execution_count": null,
   "id": "e3c70058",
   "metadata": {},
   "outputs": [],
   "source": []
  },
  {
   "cell_type": "code",
   "execution_count": null,
   "id": "bd5255e1",
   "metadata": {},
   "outputs": [],
   "source": []
  },
  {
   "cell_type": "code",
   "execution_count": null,
   "id": "941d7382",
   "metadata": {},
   "outputs": [],
   "source": []
  },
  {
   "cell_type": "code",
   "execution_count": null,
   "id": "6907a60f",
   "metadata": {
    "ExecuteTime": {
     "end_time": "2023-02-05T19:39:06.226518Z",
     "start_time": "2023-02-05T19:39:00.235899Z"
    }
   },
   "outputs": [],
   "source": [
    "sep = [None] * len(indxs)\n",
    "mass = [None] * len(indxs)\n",
    "dlogm = [None] * len(indxs)\n",
    "for k in trange(len(indxs)):\n",
    "#     sep[k] = dist0[k] / cat[0][\"patch95\"][k]\n",
    "    sep[k] = dist0[k] / (cat[0][\"lagpatch\"][k] + cat[1][\"lagpatch\"][indxs[k]])\n",
    "\n",
    "# cat[1][\"patch95\"][indxs[k]]\n",
    "#     sep[k] = dist[k] / cat[0][\"r200\"][k]\n",
    "    mass[k] = np.ones(indxs[k].size) * cat[0][\"totpartmass\"][k]\n",
    "    dlogm[k] = np.abs(np.log10(cat[0][\"totpartmass\"][k]) - np.log10(cat[1][\"totpartmass\"][indxs[k]]))\n",
    "sep = np.concatenate(np.asanyarray(sep))\n",
    "logmass = np.log10(np.concatenate(np.asanyarray(mass)))\n",
    "conc_overlap = np.concatenate(overlap)\n",
    "dlogm = np.concatenate(np.asanyarray(dlogm))"
   ]
  },
  {
   "cell_type": "code",
   "execution_count": null,
   "id": "c94e10fb",
   "metadata": {
    "ExecuteTime": {
     "end_time": "2023-02-05T19:44:57.511805Z",
     "start_time": "2023-02-05T19:44:55.345605Z"
    }
   },
   "outputs": [],
   "source": [
    "arrmax = lambda arr: np.max(arr) if arr.size > 0 else np.nan\n",
    "\n",
    "sum_overlap = np.asanyarray([np.sum(ovr) for ovr in overlap])\n",
    "\n",
    "max_overlap = np.asanyarray([arrmax(ovr) for ovr in overlap])\n",
    "\n",
    "\n",
    "\n",
    "plt.figure()\n",
    "\n",
    "# mask = sep > 0.95\n",
    "\n",
    "plt.scatter(sep, conc_overlap, s=0.5, rasterized=True)\n",
    "\n",
    "# plt.scatter(cat[0][\"totpartmass\"], sum_overlap, s=2, rasterized=True)\n",
    "\n",
    "# t = np.linspace(0,1)\n",
    "# plt.scatter(t,t)\n",
    "# plt.scatter(cat[0][\"totpartmass\"], sum_overlap, s=2, c=max_overlap / sum_overlap, rasterized=True)\n",
    "# plt.colorbar(label=\"maximum overlap / summed_overlap\")\n",
    "\n",
    "# plt.xscale(\"log\")\n",
    "# plt.yscale(\"log\")\n",
    "\n",
    "plt.xlabel(r\"CM separation / sum of their Lag. patch sizes\")\n",
    "plt.ylabel(\"Pair overlap\")\n",
    "\n",
    "plt.tight_layout()\n",
    "\n",
    "plt.savefig(\"../plots/morepoints.png\", dpi=300)\n",
    "plt.show()"
   ]
  },
  {
   "cell_type": "code",
   "execution_count": null,
   "id": "c99f226a",
   "metadata": {},
   "outputs": [],
   "source": []
  },
  {
   "cell_type": "code",
   "execution_count": null,
   "id": "e9979e43",
   "metadata": {
    "ExecuteTime": {
     "end_time": "2023-02-03T10:44:37.801641Z",
     "start_time": "2023-02-03T10:44:36.352607Z"
    }
   },
   "outputs": [],
   "source": [
    "plt.figure()\n",
    "\n",
    "\n",
    "mask = logmass > 13.5\n",
    "plt.scatter(sep[mask], conc_overlap[mask], s=0.75, rasterized=True, zorder=1, label=r\"$M > 10^{13.5} M_\\odot$\")\n",
    "\n",
    "mask = logmass < 13.5\n",
    "plt.scatter(sep[mask], conc_overlap[mask], s=0.75, rasterized=True, zorder=0, label=r\"$M \\leq 10^{13.5} M_\\odot$\")\n",
    "\n",
    "\n",
    "# mask = logmass < 13\n",
    "# plt.scatter(sep[mask], conc_overlap[mask], s=0.75, rasterized=True, zorder=0)\n",
    "\n",
    "\n",
    "plt.xscale(\"log\")\n",
    "\n",
    "plt.xlabel(r\"$\\Delta r_{\\rm CM} / r_{200c}$\")\n",
    "plt.ylabel(r\"Overlap between pairs\")\n",
    "plt.title(\"Paired overlap as a final snapshot separation\")\n",
    "\n",
    "plt.legend()\n",
    "plt.tight_layout()\n",
    "plt.savefig(\"../plots/final_separation.png\")\n",
    "\n",
    "plt.show()"
   ]
  },
  {
   "cell_type": "code",
   "execution_count": null,
   "id": "1db1bc57",
   "metadata": {},
   "outputs": [],
   "source": []
  },
  {
   "cell_type": "code",
   "execution_count": null,
   "id": "5883ecc7",
   "metadata": {
    "ExecuteTime": {
     "end_time": "2023-01-31T17:51:03.510067Z",
     "start_time": "2023-01-31T17:51:03.469080Z"
    }
   },
   "outputs": [],
   "source": []
  },
  {
   "cell_type": "code",
   "execution_count": null,
   "id": "a58b300c",
   "metadata": {},
   "outputs": [],
   "source": []
  },
  {
   "cell_type": "code",
   "execution_count": null,
   "id": "56b90375",
   "metadata": {
    "ExecuteTime": {
     "end_time": "2023-01-28T18:54:51.064154Z",
     "start_time": "2023-01-28T18:54:47.314086Z"
    }
   },
   "outputs": [],
   "source": [
    "dlogm = [None] * len(indxs)\n",
    "mass = [None] * len(indxs)\n",
    "for k in trange(len(indxs)):\n",
    "    dlogm[k] = np.abs(np.log10(cat[0][\"totpartmass\"][k]) - np.log10(cat[1][\"totpartmass\"][indxs[k]]))\n",
    "    mass[k] = np.ones(indxs[k].size) * cat[0][\"totpartmass\"][k]\n",
    "dlogm = np.asanyarray(dlogm)\n",
    "mass = np.asanyarray(mass)"
   ]
  },
  {
   "cell_type": "code",
   "execution_count": null,
   "id": "e44414b7",
   "metadata": {
    "ExecuteTime": {
     "end_time": "2023-01-28T18:56:19.841434Z",
     "start_time": "2023-01-28T18:56:19.041227Z"
    }
   },
   "outputs": [],
   "source": [
    "plt.figure()\n",
    "plt.scatter(np.concatenate(dlogm), np.concatenate(overlap), s=1, rasterized=True)\n",
    "t = np.linspace(0, 2)\n",
    "plt.plot(t, 10**(-t), c=\"red\", label=r\"$10^{-|\\log M_1 / M_2|}$\")\n",
    "plt.xlabel(r\"$|\\log M_1 / M_2|$\")\n",
    "plt.ylabel(r\"$\\mathcal{O}$\")\n",
    "plt.legend()\n",
    "plt.tight_layout()\n",
    "# plt.savefig(\"../plots/mass_comparison.png\", dpi=450)\n",
    "plt.show()"
   ]
  },
  {
   "cell_type": "code",
   "execution_count": null,
   "id": "03cec1b7",
   "metadata": {},
   "outputs": [],
   "source": []
  },
  {
   "cell_type": "code",
   "execution_count": null,
   "id": "1cde4797",
   "metadata": {
    "ExecuteTime": {
     "end_time": "2023-01-28T15:19:36.573717Z",
     "start_time": "2023-01-28T15:19:34.985074Z"
    }
   },
   "outputs": [],
   "source": [
    "for k in trange(len(indxs)):\n",
    "    if np.any((dlogm[k] > 1.75) & (overlap[k] > 0.15)):\n",
    "        print(k)"
   ]
  },
  {
   "cell_type": "code",
   "execution_count": null,
   "id": "58b2cb87",
   "metadata": {
    "ExecuteTime": {
     "end_time": "2023-01-28T15:27:57.709539Z",
     "start_time": "2023-01-28T15:27:57.131915Z"
    }
   },
   "outputs": [],
   "source": [
    "k = 97788\n",
    "print(dlogm[k])\n",
    "print(overlap[k])\n",
    "n = np.argmax(overlap[k])\n",
    "\n",
    "index_cl0 = [cl[1] for cl in clumps0].index(cat[0][k][\"index\"])\n",
    "cl0 = clumps0[index_cl0][0]\n",
    "mins_cl0, maxs_cl0 = mins0[index_cl0], maxs0[index_cl0]\n",
    "\n",
    "index_clx = [cl[1] for cl in clumpsx].index(cat[1][\"index\"][indxs[k]][n])\n",
    "clx = clumpsx[index_clx][0]\n",
    "mins_clx, maxs_clx = minsx[index_clx], maxsx[index_clx]"
   ]
  },
  {
   "cell_type": "code",
   "execution_count": null,
   "id": "f5193d37",
   "metadata": {
    "ExecuteTime": {
     "end_time": "2023-01-28T15:28:02.049121Z",
     "start_time": "2023-01-28T15:28:02.016020Z"
    }
   },
   "outputs": [],
   "source": [
    "delta1, delta2, cellmins = overlapper.make_deltas(cl0, clx, mins_cl0, maxs_cl0, mins_clx, maxs_clx)"
   ]
  },
  {
   "cell_type": "code",
   "execution_count": null,
   "id": "6e0176db",
   "metadata": {
    "ExecuteTime": {
     "end_time": "2023-01-28T15:28:03.044781Z",
     "start_time": "2023-01-28T15:28:03.010050Z"
    }
   },
   "outputs": [],
   "source": [
    "overlapper.overlap(delta1, delta2, cellmins, delta)"
   ]
  },
  {
   "cell_type": "code",
   "execution_count": null,
   "id": "a3993216",
   "metadata": {
    "ExecuteTime": {
     "end_time": "2023-01-28T15:28:03.662552Z",
     "start_time": "2023-01-28T15:28:03.630680Z"
    }
   },
   "outputs": [],
   "source": [
    "delta1.sum() / delta2.sum()"
   ]
  },
  {
   "cell_type": "code",
   "execution_count": null,
   "id": "120b0b61",
   "metadata": {},
   "outputs": [],
   "source": []
  },
  {
   "cell_type": "code",
   "execution_count": null,
   "id": "5170b359",
   "metadata": {
    "ExecuteTime": {
     "end_time": "2023-01-28T15:28:05.961500Z",
     "start_time": "2023-01-28T15:28:05.857277Z"
    }
   },
   "outputs": [],
   "source": [
    "plt.figure()\n",
    "plt.imshow(np.sum(delta1, axis=2))\n",
    "plt.show()\n",
    "\n",
    "plt.figure()\n",
    "plt.imshow(np.sum(delta2, axis=2))\n",
    "plt.show()"
   ]
  },
  {
   "cell_type": "code",
   "execution_count": null,
   "id": "adcca1e1",
   "metadata": {},
   "outputs": [],
   "source": []
  },
  {
   "cell_type": "code",
   "execution_count": null,
   "id": "d74da689",
   "metadata": {},
   "outputs": [],
   "source": []
  },
  {
   "cell_type": "code",
   "execution_count": null,
   "id": "0989f96e",
   "metadata": {
    "ExecuteTime": {
     "start_time": "2023-01-26T09:49:07.667Z"
    }
   },
   "outputs": [],
   "source": [
    "ncounter = len(indxs[k])\n",
    "true_overlap = np.full(ncounter, np.nan)\n",
    "spherical_overlap = np.full(ncounter, np.nan)\n",
    "\n",
    "for n in trange(len(indxs[k])):\n",
    "    clx = clumpsx[[cl[1] for cl in clumpsx].index(cat[1][\"index\"][indxs[k]][n])][0]\n",
    "    \n",
    "    R1 = (3 * cl0.size / (4 * np.pi))**(1./3) * 1 / 2048\n",
    "    R2 = (3 * clx.size / (4 * np.pi))**(1./3) * 1 / 2048\n",
    "    d = np.linalg.norm([np.mean(cl0[p]) - np.mean(clx[p]) for p in ('x', 'y', 'z')])\n",
    "    \n",
    "    spherical_overlap[n] = csiborgtools.match.spherical_overlap(R1, R2, d)\n",
    "    true_overlap[n] = overlapper(cl0, clx, delta)\n",
    "    \n",
    "#     print(true_overlap, spherical_overlap)\n",
    "    "
   ]
  },
  {
   "cell_type": "code",
   "execution_count": null,
   "id": "6007e537",
   "metadata": {
    "ExecuteTime": {
     "start_time": "2023-01-26T09:49:07.668Z"
    }
   },
   "outputs": [],
   "source": [
    "plt.figure()\n",
    "plt.scatter(true_overlap, spherical_overlap)\n",
    "\n",
    "t = np.linspace(0, 1, 100)\n",
    "plt.plot(t, t, c=\"k\", ls=\"--\")\n",
    "\n",
    "plt.xlabel(\"True overlap\")\n",
    "plt.ylabel(\"Spherical overlap\")\n",
    "# plt.xscale(\"log\")\n",
    "# plt.yscale(\"log\")\n",
    "plt.show()"
   ]
  },
  {
   "cell_type": "code",
   "execution_count": null,
   "id": "fd1a9591",
   "metadata": {},
   "outputs": [],
   "source": []
  },
  {
   "cell_type": "code",
   "execution_count": null,
   "id": "2a4062f2",
   "metadata": {
    "ExecuteTime": {
     "start_time": "2023-01-26T09:49:07.670Z"
    }
   },
   "outputs": [],
   "source": [
    "R1 = (3 * cl0.size / (4 * np.pi))**(1./3) * 1 / 2048\n",
    "R2 = (3 * clx.size / (4 * np.pi))**(1./3) * 1 / 2048\n",
    "d = np.linalg.norm([np.mean(cl0[p]) - np.mean(clx[p]) for p in ('x', 'y', 'z')])"
   ]
  },
  {
   "cell_type": "code",
   "execution_count": null,
   "id": "d2b0dcd5",
   "metadata": {
    "ExecuteTime": {
     "end_time": "2023-01-23T20:52:54.565480Z",
     "start_time": "2023-01-23T20:52:54.534775Z"
    }
   },
   "outputs": [],
   "source": []
  },
  {
   "cell_type": "code",
   "execution_count": null,
   "id": "64634315",
   "metadata": {},
   "outputs": [],
   "source": []
  },
  {
   "cell_type": "code",
   "execution_count": null,
   "id": "9cfcc924",
   "metadata": {
    "ExecuteTime": {
     "end_time": "2023-01-23T19:00:54.795153Z",
     "start_time": "2023-01-23T19:00:54.447475Z"
    }
   },
   "outputs": [],
   "source": []
  },
  {
   "cell_type": "code",
   "execution_count": null,
   "id": "a747a632",
   "metadata": {
    "ExecuteTime": {
     "start_time": "2023-01-26T09:49:07.686Z"
    }
   },
   "outputs": [],
   "source": [
    "box = cat[0].box\n",
    "maverage = box.box2solarmass(clumps0[2][0][\"M\"][0])\n",
    "cell = box.box2mpc(1/2048)"
   ]
  },
  {
   "cell_type": "code",
   "execution_count": null,
   "id": "27bb5c36",
   "metadata": {
    "ExecuteTime": {
     "start_time": "2023-01-26T09:49:07.686Z"
    }
   },
   "outputs": [],
   "source": [
    "n_sim = 0\n",
    "import numpy\n",
    "\n",
    "R = (3 * cat.cats[n_sim][\"npart\"] / (4 * numpy.pi))**(1./3) * 1 / 2048\n",
    "R = cat.cats[n_sim].box.box2mpc(R)"
   ]
  },
  {
   "cell_type": "code",
   "execution_count": null,
   "id": "03a7825f",
   "metadata": {
    "ExecuteTime": {
     "start_time": "2023-01-26T09:49:07.687Z"
    }
   },
   "outputs": [],
   "source": [
    "# dlogm = [None] * len(indxs)\n",
    "# for k in trange(len(indxs)):\n",
    "#     dlogm[k] = np.abs(np.log10(cat[0][\"totpartmass\"][k]) - np.log10(cat[1][\"totpartmass\"][indxs[k]]))\n",
    "# dlogm = np.asanyarray(dlogm)\n",
    "\n",
    "normdist = [None] * len(indxs)\n",
    "masses = [None] * len(indxs)\n",
    "for k in trange(len(indxs)):\n",
    "    normdist[k] = dist0[k] / ((3 * cat[0][\"totpartmass\"][k] / (4 * np.pi * maverage))**(1/3) * cell)\n",
    "    masses[k] = np.log10(np.ones(indxs[k].size) * cat[0][\"totpartmass\"][k])\n",
    "    \n",
    "normdist = np.asanyarray(normdist)\n",
    "masses = np.asanyarray(masses)"
   ]
  },
  {
   "cell_type": "code",
   "execution_count": null,
   "id": "e0330ca5",
   "metadata": {
    "ExecuteTime": {
     "start_time": "2023-01-26T09:49:07.688Z"
    },
    "scrolled": false
   },
   "outputs": [],
   "source": [
    "plt.figure()\n",
    "\n",
    "# plt.scatter(np.concatenate(normdist), np.concatenate(overlap), c=np.concatenate(masses), s=4)\n",
    "\n",
    "plt.scatter(np.concatenate(normdist), np.concatenate(masses), c=np.concatenate(overlap), s=4)\n",
    "\n",
    "\n",
    "plt.colorbar()\n",
    "# plt.xlabel(r\"$z = 0$ normalised separation by $\\hat{R}$\")\n",
    "# plt.xlabel(r\"Absolute difference in total mass [dex]\")\n",
    "# plt.xscale(\"log\")\n",
    "# plt.ylabel(r\"$\\mathcal{O}$\")\n",
    "plt.xscale(\"log\")\n",
    "plt.tight_layout()\n",
    "# plt.savefig(\"../plots/another_view.png\", dpi=450)\n",
    "plt.show()"
   ]
  },
  {
   "cell_type": "code",
   "execution_count": null,
   "id": "de23a8a1",
   "metadata": {},
   "outputs": [],
   "source": []
  },
  {
   "cell_type": "code",
   "execution_count": null,
   "id": "a6b5e4f8",
   "metadata": {},
   "outputs": [],
   "source": []
  },
  {
   "cell_type": "code",
   "execution_count": null,
   "id": "43bc17db",
   "metadata": {},
   "outputs": [],
   "source": []
  },
  {
   "cell_type": "code",
   "execution_count": null,
   "id": "b4df25af",
   "metadata": {},
   "outputs": [],
   "source": []
  },
  {
   "cell_type": "code",
   "execution_count": null,
   "id": "0d25a16d",
   "metadata": {
    "ExecuteTime": {
     "start_time": "2023-01-26T09:49:07.690Z"
    }
   },
   "outputs": [],
   "source": [
    "cl0 = clumps0[[cl[1] for cl in clumps0].index(cat[0][k][\"index\"])][0]\n",
    "\n",
    "\n",
    "\n",
    "\n",
    "\n",
    "\n",
    "clx = clumpsx[[cl[1] for cl in clumpsx].index(cat[1][\"index\"][indxs[k]][n])][0]"
   ]
  },
  {
   "cell_type": "code",
   "execution_count": null,
   "id": "be26cbcc",
   "metadata": {},
   "outputs": [],
   "source": []
  }
 ],
 "metadata": {
  "kernelspec": {
   "display_name": "venv_galomatch",
   "language": "python",
   "name": "venv_galomatch"
  },
  "language_info": {
   "codemirror_mode": {
    "name": "ipython",
    "version": 3
   },
   "file_extension": ".py",
   "mimetype": "text/x-python",
   "name": "python",
   "nbconvert_exporter": "python",
   "pygments_lexer": "ipython3",
   "version": "3.8.0"
  },
  "vscode": {
   "interpreter": {
    "hash": "f29d02a8350410abc2a9fb79641689d10bf7ab64afc03ec87ca3cf6ed2daa499"
   }
  }
 },
 "nbformat": 4,
 "nbformat_minor": 5
}
