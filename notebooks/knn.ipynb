{
 "cells": [
  {
   "cell_type": "code",
   "execution_count": 2,
   "id": "5a38ed25",
   "metadata": {
    "ExecuteTime": {
     "end_time": "2023-04-04T14:12:45.341128Z",
     "start_time": "2023-04-04T14:12:44.294696Z"
    },
    "scrolled": true
   },
   "outputs": [],
   "source": [
    "import numpy as np\n",
    "import matplotlib\n",
    "import matplotlib.pyplot as plt\n",
    "from sklearn.neighbors import NearestNeighbors\n",
    "import joblib\n",
    "from glob import glob\n",
    "from tqdm import tqdm\n",
    "try:\n",
    "    import csiborgtools\n",
    "except ModuleNotFoundError:\n",
    "    print(\"not found\")\n",
    "    import sys\n",
    "    sys.path.append(\"../\")\n",
    "    import csiborgtools\n",
    "\n",
    "\n",
    "%matplotlib notebook\n",
    "%load_ext autoreload\n",
    "%autoreload 2"
   ]
  },
  {
   "cell_type": "code",
   "execution_count": null,
   "id": "3bbf38d6",
   "metadata": {
    "ExecuteTime": {
     "end_time": "2023-04-03T17:10:20.146952Z",
     "start_time": "2023-04-03T17:10:20.119027Z"
    }
   },
   "outputs": [],
   "source": [
    "\n",
    "knnreader = csiborgtools.read.kNNCDFReader()"
   ]
  },
  {
   "cell_type": "code",
   "execution_count": null,
   "id": "9a79dde6",
   "metadata": {
    "ExecuteTime": {
     "end_time": "2023-04-03T17:10:28.580372Z",
     "start_time": "2023-04-03T17:10:20.148151Z"
    }
   },
   "outputs": [],
   "source": [
    "files = glob(\"/mnt/extraspace/rstiskalek/csiborg/knn/auto/*\")\n",
    "\n",
    "ks = [0, 1, 2, 3, 4]\n",
    "rs, cdf, thresholds = knnreader.read(files, ks, rmin=0.01,)"
   ]
  },
  {
   "cell_type": "code",
   "execution_count": null,
   "id": "20bbeb54",
   "metadata": {
    "ExecuteTime": {
     "end_time": "2023-04-03T17:10:30.078450Z",
     "start_time": "2023-04-03T17:10:29.171089Z"
    }
   },
   "outputs": [],
   "source": [
    "n = 2\n",
    "k = 1\n",
    "\n",
    "x = cdf[:, n, k - 1, :] - cdf[:, n, k, :]\n",
    "\n",
    "plt.figure()\n",
    "for i in range(101):\n",
    "    plt.plot(rs, x[i, :])\n",
    "\n",
    "plt.xscale(\"log\")\n",
    "\n",
    "plt.show()"
   ]
  },
  {
   "cell_type": "code",
   "execution_count": null,
   "id": "86091fcc",
   "metadata": {
    "ExecuteTime": {
     "end_time": "2023-04-03T17:13:07.495144Z",
     "start_time": "2023-04-03T17:13:06.635811Z"
    }
   },
   "outputs": [],
   "source": [
    "files = knnreader.cross_files(7444, \"/mnt/extraspace/rstiskalek/csiborg/knn/cross/\")"
   ]
  },
  {
   "cell_type": "code",
   "execution_count": null,
   "id": "c0917bd5",
   "metadata": {
    "ExecuteTime": {
     "end_time": "2023-04-03T17:13:11.011391Z",
     "start_time": "2023-04-03T17:13:07.496523Z"
    }
   },
   "outputs": [],
   "source": [
    "ks = [0, 1, 2, 3, 4, 5, 6, 7]\n",
    "rs, cross, threshold = knnreader.read(files, ks, rmin=0.5)"
   ]
  },
  {
   "cell_type": "code",
   "execution_count": null,
   "id": "beba86db",
   "metadata": {
    "ExecuteTime": {
     "end_time": "2023-04-03T17:13:11.152680Z",
     "start_time": "2023-04-03T17:13:11.013209Z"
    }
   },
   "outputs": [],
   "source": [
    "n = 0\n",
    "k = 1\n",
    "\n",
    "plt.figure()\n",
    "for i in range(100):\n",
    "    plt.plot(rs, cross[i, n, k - 1, :] - cross[i, n, k, :])\n",
    "\n",
    "plt.xscale(\"log\")\n",
    "plt.axvline(2.65 / 0.705)\n",
    "plt.show()"
   ]
  },
  {
   "cell_type": "code",
   "execution_count": null,
   "id": "adf96c3b",
   "metadata": {
    "ExecuteTime": {
     "end_time": "2023-04-03T14:25:45.275844Z",
     "start_time": "2023-04-03T14:25:44.855207Z"
    }
   },
   "outputs": [],
   "source": [
    "\"/mnt/extraspace/hdesmond/ramses_out_7444/output_00950/clump_00950.dat\""
   ]
  },
  {
   "cell_type": "code",
   "execution_count": null,
   "id": "8179c3e0",
   "metadata": {},
   "outputs": [],
   "source": []
  },
  {
   "cell_type": "code",
   "execution_count": null,
   "id": "f803105a",
   "metadata": {},
   "outputs": [],
   "source": []
  },
  {
   "cell_type": "code",
   "execution_count": null,
   "id": "55544ddd",
   "metadata": {},
   "outputs": [],
   "source": []
  },
  {
   "cell_type": "code",
   "execution_count": null,
   "id": "3c7add55",
   "metadata": {},
   "outputs": [],
   "source": []
  },
  {
   "cell_type": "code",
   "execution_count": null,
   "id": "75a5e6f7",
   "metadata": {},
   "outputs": [],
   "source": []
  },
  {
   "cell_type": "code",
   "execution_count": null,
   "id": "7b6d813b",
   "metadata": {},
   "outputs": [],
   "source": []
  },
  {
   "cell_type": "code",
   "execution_count": null,
   "id": "19115f4c",
   "metadata": {},
   "outputs": [],
   "source": []
  },
  {
   "cell_type": "code",
   "execution_count": null,
   "id": "4218b673",
   "metadata": {
    "ExecuteTime": {
     "end_time": "2023-04-01T08:27:07.868868Z",
     "start_time": "2023-04-01T08:27:04.088778Z"
    }
   },
   "outputs": [],
   "source": [
    "cat1 = csiborgtools.read.HaloCatalogue(7444, min_mass=1e13, max_dist=155 / 0.705)\n",
    "cat2 = csiborgtools.read.HaloCatalogue(7468, min_mass=1e13, max_dist=155 / 0.705)"
   ]
  },
  {
   "cell_type": "code",
   "execution_count": null,
   "id": "5ff7a1b6",
   "metadata": {
    "ExecuteTime": {
     "end_time": "2023-04-01T08:27:07.923418Z",
     "start_time": "2023-04-01T08:27:07.870519Z"
    }
   },
   "outputs": [],
   "source": [
    "knncdf = csiborgtools.match.kNN_CDF()\n",
    "\n",
    "\n",
    "knn1 = NearestNeighbors()\n",
    "knn1.fit(cat1.positions)\n",
    "\n",
    "knn2 = NearestNeighbors()\n",
    "knn2.fit(cat2.positions)\n",
    "\n",
    "# rs, cdf = knncdf(knn, nneighbours=2, Rmax=155 / 0.705, rmin=0.01, rmax=100,\n",
    "#                   nsamples=int(1e6), neval=int(1e4), random_state=42, batch_size=int(1e6))"
   ]
  },
  {
   "cell_type": "code",
   "execution_count": null,
   "id": "88a31951",
   "metadata": {
    "ExecuteTime": {
     "end_time": "2023-04-01T08:46:56.273595Z",
     "start_time": "2023-04-01T08:46:56.088408Z"
    }
   },
   "outputs": [],
   "source": [
    "!ls /mnt/extraspace/rstiskalek/csiborg/knn/cross/knncdf_7444_7468.p"
   ]
  },
  {
   "cell_type": "code",
   "execution_count": null,
   "id": "b7c2d465",
   "metadata": {
    "ExecuteTime": {
     "end_time": "2023-04-01T10:05:26.294670Z",
     "start_time": "2023-04-01T10:05:25.954223Z"
    }
   },
   "outputs": [],
   "source": [
    "from glob import glob"
   ]
  },
  {
   "cell_type": "code",
   "execution_count": null,
   "id": "6083fcbe",
   "metadata": {
    "ExecuteTime": {
     "end_time": "2023-04-01T10:05:52.758709Z",
     "start_time": "2023-04-01T10:05:52.705627Z"
    }
   },
   "outputs": [],
   "source": [
    "files = glob(\"/mnt/extraspace/rstiskalek/csiborg/knn/cross/*\")"
   ]
  },
  {
   "cell_type": "code",
   "execution_count": null,
   "id": "6d6b9d57",
   "metadata": {
    "ExecuteTime": {
     "end_time": "2023-04-01T10:06:00.023427Z",
     "start_time": "2023-04-01T10:05:59.645149Z"
    }
   },
   "outputs": [],
   "source": []
  },
  {
   "cell_type": "code",
   "execution_count": null,
   "id": "980f74df",
   "metadata": {
    "ExecuteTime": {
     "end_time": "2023-04-01T10:12:49.924557Z",
     "start_time": "2023-04-01T10:12:49.714545Z"
    }
   },
   "outputs": [],
   "source": [
    "cols = plt.rcParams[\"axes.prop_cycle\"].by_key()[\"color\"]\n",
    "\n",
    "plt.figure()\n",
    "for file in files:\n",
    "    d = joblib.load(file)\n",
    "    mask = d[\"rs\"] > 0.1\n",
    "    plt.plot(d[\"rs\"][mask], d[\"corr_0\"][0, mask], c=cols[0], lw=0.4)\n",
    "\n",
    "plt.xscale(\"log\")\n",
    "plt.axvline(2.65 / 0.705, lw=0.8, c=\"red\", ls=\"--\")\n",
    "# plt.yscale(\"log\")\n",
    "\n",
    "plt.show()"
   ]
  },
  {
   "cell_type": "code",
   "execution_count": null,
   "id": "997e8f91",
   "metadata": {},
   "outputs": [],
   "source": []
  },
  {
   "cell_type": "code",
   "execution_count": null,
   "id": "25936419",
   "metadata": {
    "ExecuteTime": {
     "end_time": "2023-04-01T08:51:11.896378Z",
     "start_time": "2023-04-01T08:51:11.865150Z"
    }
   },
   "outputs": [],
   "source": [
    "5500 / comb(5, 3)"
   ]
  },
  {
   "cell_type": "code",
   "execution_count": null,
   "id": "043a93ff",
   "metadata": {
    "ExecuteTime": {
     "end_time": "2023-04-01T08:50:37.181588Z",
     "start_time": "2023-04-01T08:50:36.718438Z"
    }
   },
   "outputs": [],
   "source": [
    "plt.figure()\n",
    "plt.plot(d[\"rs\"], d[\"corr_0\"][1, :])\n",
    "plt.plot(d[\"rs\"], d[\"corr_1\"][1, :])\n",
    "plt.plot(d[\"rs\"], d[\"corr_2\"][1, :])\n",
    "\n",
    "# plt.yscale(\"log\")\n",
    "# plt.xscale(\"log\")\n",
    "plt.show()"
   ]
  },
  {
   "cell_type": "code",
   "execution_count": null,
   "id": "279d8e58",
   "metadata": {},
   "outputs": [],
   "source": []
  },
  {
   "cell_type": "code",
   "execution_count": null,
   "id": "d08b0dc3",
   "metadata": {
    "ExecuteTime": {
     "end_time": "2023-04-01T08:27:19.271922Z",
     "start_time": "2023-04-01T08:27:07.925222Z"
    }
   },
   "outputs": [],
   "source": [
    "# rs, cdf = knncdf(knn1, nneighbours=2, Rmax=155 / 0.705, rmin=0.01, rmax=100,\n",
    "#                  nsamples=int(1e6), neval=int(1e4), random_state=42, batch_size=int(1e6))\n",
    "\n",
    "rs, cdf0, cdf1, joint_cdf = knncdf.joint(knn1, knn2, nneighbours=8, Rmax=155 / 0.705,\n",
    "                                         rmin=0.01, rmax=100, nsamples=int(1e6), neval=int(1e4),\n",
    "                                         random_state=42, batch_size=int(1e6))"
   ]
  },
  {
   "cell_type": "code",
   "execution_count": null,
   "id": "0866fe23",
   "metadata": {
    "ExecuteTime": {
     "end_time": "2023-04-01T08:27:19.436097Z",
     "start_time": "2023-04-01T08:27:19.397998Z"
    }
   },
   "outputs": [],
   "source": [
    "cdf0 = knncdf.clipped_cdf(cdf0)\n",
    "cdf1 = knncdf.clipped_cdf(cdf1)\n",
    "joint_cdf = knncdf.clipped_cdf(joint_cdf)"
   ]
  },
  {
   "cell_type": "code",
   "execution_count": null,
   "id": "b0649b7e",
   "metadata": {
    "ExecuteTime": {
     "end_time": "2023-04-01T08:27:59.413449Z",
     "start_time": "2023-04-01T08:27:59.244281Z"
    }
   },
   "outputs": [],
   "source": [
    "corr = knncdf.joint_to_corr(cdf0, cdf1, joint_cdf)"
   ]
  },
  {
   "cell_type": "code",
   "execution_count": null,
   "id": "b4d28785",
   "metadata": {
    "ExecuteTime": {
     "end_time": "2023-04-01T08:33:12.811065Z",
     "start_time": "2023-04-01T08:33:12.386639Z"
    }
   },
   "outputs": [],
   "source": [
    "ics = [7444, 7468, 7492, 7516, 7540, 7564, 7588, 7612, 7636, 7660, 7684,\n",
    "       7708, 7732, 7756, 7780, 7804, 7828, 7852, 7876, 7900, 7924, 7948,\n",
    "       7972, 7996, 8020, 8044, 8068, 8092, 8116, 8140, 8164, 8188, 8212,\n",
    "       8236, 8260, 8284, 8308, 8332, 8356, 8380, 8404, 8428, 8452, 8476,\n",
    "       8500, 8524, 8548, 8572, 8596, 8620, 8644, 8668, 8692, 8716, 8740,\n",
    "       8764, 8788, 8812, 8836, 8860, 8884, 8908, 8932, 8956, 8980, 9004,\n",
    "       9028, 9052, 9076, 9100, 9124, 9148, 9172, 9196, 9220, 9244, 9268,\n",
    "       9292, 9316, 9340, 9364, 9388, 9412, 9436, 9460, 9484, 9508, 9532,\n",
    "       9556, 9580, 9604, 9628, 9652, 9676, 9700, 9724, 9748, 9772, 9796,\n",
    "       9820, 9844]"
   ]
  },
  {
   "cell_type": "code",
   "execution_count": null,
   "id": "aaac3eff",
   "metadata": {
    "ExecuteTime": {
     "end_time": "2023-04-01T08:34:00.873304Z",
     "start_time": "2023-04-01T08:34:00.842613Z"
    }
   },
   "outputs": [],
   "source": [
    "from scipy.special import comb\n",
    "\n",
    "from itertools import combinations\n",
    "# for subset in itertools.combinations(stuff, L):"
   ]
  },
  {
   "cell_type": "code",
   "execution_count": null,
   "id": "042fe713",
   "metadata": {
    "ExecuteTime": {
     "end_time": "2023-04-01T08:34:21.387439Z",
     "start_time": "2023-04-01T08:34:21.325627Z"
    }
   },
   "outputs": [],
   "source": [
    "list(combinations(ics, 2))"
   ]
  },
  {
   "cell_type": "code",
   "execution_count": null,
   "id": "762ec153",
   "metadata": {},
   "outputs": [],
   "source": []
  },
  {
   "cell_type": "code",
   "execution_count": null,
   "id": "8c43f012",
   "metadata": {
    "ExecuteTime": {
     "end_time": "2023-04-01T08:33:18.308219Z",
     "start_time": "2023-04-01T08:33:18.275965Z"
    }
   },
   "outputs": [],
   "source": [
    "comb()"
   ]
  },
  {
   "cell_type": "code",
   "execution_count": null,
   "id": "aaca64f3",
   "metadata": {},
   "outputs": [],
   "source": []
  },
  {
   "cell_type": "code",
   "execution_count": null,
   "id": "9fb9e08e",
   "metadata": {
    "ExecuteTime": {
     "end_time": "2023-04-01T08:28:35.326570Z",
     "start_time": "2023-04-01T08:28:35.158664Z"
    }
   },
   "outputs": [],
   "source": [
    "plt.figure()\n",
    "\n",
    "# plt.plot(rs, knncdf.peaked_cdf(cdf0[0, :]))\n",
    "# plt.plot(rs, knncdf.peaked_cdf(cdf1[0, :]))\n",
    "# plt.plot(rs, knncdf.peaked_cdf(joint_cdf[0, :]))\n",
    "for i in range(8):\n",
    "    plt.plot(rs, corr[i, :])\n",
    "\n",
    "\n",
    "# plt.yscale(\"log\")\n",
    "# plt.xscale(\"log\")\n",
    "plt.axvline(2.65 / 0.705, c=\"red\", ls=\"--\")\n",
    "\n",
    "plt.show()"
   ]
  },
  {
   "cell_type": "code",
   "execution_count": null,
   "id": "f295a0f9",
   "metadata": {},
   "outputs": [],
   "source": []
  },
  {
   "cell_type": "code",
   "execution_count": null,
   "id": "0d5f3d02",
   "metadata": {
    "ExecuteTime": {
     "end_time": "2023-04-01T07:20:34.202874Z",
     "start_time": "2023-04-01T07:20:28.353637Z"
    }
   },
   "outputs": [],
   "source": [
    "dist1, dist2 = knncdf.joint(knn1, knn2, nneighbours=2, Rmax=155 / 0.705, rmin=0.01, rmax=100,\n",
    "             nsamples=int(1e6), neval=int(1e4), random_state=42, batch_size=int(1e6))"
   ]
  },
  {
   "cell_type": "code",
   "execution_count": null,
   "id": "a76c8124",
   "metadata": {
    "ExecuteTime": {
     "end_time": "2023-04-01T07:20:41.074933Z",
     "start_time": "2023-04-01T07:20:41.041448Z"
    }
   },
   "outputs": [],
   "source": []
  },
  {
   "cell_type": "code",
   "execution_count": null,
   "id": "127b91a8",
   "metadata": {},
   "outputs": [],
   "source": []
  },
  {
   "cell_type": "code",
   "execution_count": null,
   "id": "8b9a8cf0",
   "metadata": {},
   "outputs": [],
   "source": []
  },
  {
   "cell_type": "code",
   "execution_count": null,
   "id": "a1825f00",
   "metadata": {
    "ExecuteTime": {
     "end_time": "2023-04-01T06:01:29.388586Z",
     "start_time": "2023-04-01T06:01:29.321025Z"
    },
    "scrolled": false
   },
   "outputs": [],
   "source": [
    "plt.figure()\n",
    "plt.plot(rs, knncdf.peaked_cdf(cdf[0, :]))\n",
    "\n",
    "plt.yscale(\"log\" )\n",
    "plt.xscale(\"log\")\n",
    "plt.show()"
   ]
  },
  {
   "cell_type": "code",
   "execution_count": null,
   "id": "289549a0",
   "metadata": {
    "ExecuteTime": {
     "end_time": "2023-03-31T22:55:20.690887Z",
     "start_time": "2023-03-31T22:55:20.656550Z"
    }
   },
   "outputs": [],
   "source": [
    "mask"
   ]
  },
  {
   "cell_type": "code",
   "execution_count": null,
   "id": "7a8c5202",
   "metadata": {
    "ExecuteTime": {
     "end_time": "2023-03-31T22:54:52.330633Z",
     "start_time": "2023-03-31T22:54:52.299548Z"
    }
   },
   "outputs": [],
   "source": []
  },
  {
   "cell_type": "code",
   "execution_count": null,
   "id": "46f54897",
   "metadata": {
    "ExecuteTime": {
     "end_time": "2023-03-31T22:54:25.138813Z",
     "start_time": "2023-03-31T22:54:25.105044Z"
    }
   },
   "outputs": [],
   "source": [
    "dist"
   ]
  },
  {
   "cell_type": "code",
   "execution_count": null,
   "id": "58806ab9",
   "metadata": {},
   "outputs": [],
   "source": []
  },
  {
   "cell_type": "code",
   "execution_count": null,
   "id": "c59b3a19",
   "metadata": {},
   "outputs": [],
   "source": []
  },
  {
   "cell_type": "code",
   "execution_count": null,
   "id": "e345945c",
   "metadata": {
    "ExecuteTime": {
     "end_time": "2023-03-31T09:35:49.059172Z",
     "start_time": "2023-03-31T09:35:42.817291Z"
    }
   },
   "outputs": [],
   "source": [
    "m1 = (rs > 1) & (rs < 35)\n",
    "\n",
    "fig, axs = plt.subplots(ncols=3, figsize=(6.4 * 1.5, 4.8), sharey=True)\n",
    "fig.subplots_adjust(wspace=0)\n",
    "for k in range(3):\n",
    "    for n in range(len(ics)):\n",
    "        m = m1 & (cdfs[n, k, :] > 1e-3)\n",
    "        axs[k].plot(rs[m], cdfs[n, k, m], c=\"black\", lw=0.05)\n",
    "\n",
    "    axs[k].set_xscale(\"log\")\n",
    "    axs[k].set_yscale(\"log\")\n",
    "    axs[k].set_title(r\"$k = {}$\".format(k))\n",
    "    axs[k].set_xlabel(r\"$r~\\left[\\mathrm{Mpc}\\right]$\")\n",
    "\n",
    "axs[0].set_ylabel(r\"Peaked CDF\")\n",
    "\n",
    "plt.tight_layout(w_pad=0)\n",
    "fig.savefig(\"../plots/peaked_cdf.png\", dpi=450)\n",
    "fig.show()"
   ]
  },
  {
   "cell_type": "code",
   "execution_count": null,
   "id": "9f8786c0",
   "metadata": {
    "ExecuteTime": {
     "end_time": "2023-03-31T09:50:10.103650Z",
     "start_time": "2023-03-31T09:50:02.221741Z"
    }
   },
   "outputs": [],
   "source": [
    "m = (rs > 0.5) & (rs < 35)\n",
    "\n",
    "fig, axs = plt.subplots(ncols=3, figsize=(6.4 * 1.5, 4.8), sharey=True)\n",
    "fig.subplots_adjust(wspace=0)\n",
    "for k in range(3):\n",
    "    mu = np.nanmean(cdfs[:, k, :], axis=0)\n",
    "\n",
    "    for n in range(len(ics)):\n",
    "        axs[k].plot(rs[m], (cdfs[n, k, :] / mu)[m], c=\"black\", lw=0.1)\n",
    "\n",
    "    axs[k].set_ylim(0.5, 1.5)\n",
    "    axs[k].axhline(1, ls=\"--\", c=\"red\", zorder=0)\n",
    "    axs[k].axvline(2.65 / 0.705, ls=\"--\", c=\"red\", zorder=0)\n",
    "    axs[k].set_xscale(\"log\")\n",
    "    axs[k].set_xlabel(r\"$r~\\left[\\mathrm{Mpc}\\right]$\")\n",
    "    axs[k].set_title(r\"$k = {}$\".format(k))\n",
    "    \n",
    "axs[0].set_ylabel(r\"Relative peaked CDF\")\n",
    "plt.tight_layout(w_pad=0)\n",
    "fig.savefig(\"../plots/peaked_cdf_ratios.png\", dpi=450)\n",
    "fig.show()"
   ]
  },
  {
   "cell_type": "code",
   "execution_count": null,
   "id": "2f64cec1",
   "metadata": {
    "ExecuteTime": {
     "end_time": "2023-03-30T15:46:31.532259Z",
     "start_time": "2023-03-30T15:46:30.977449Z"
    }
   },
   "outputs": [],
   "source": [
    "plt.figure()\n",
    "k = 2\n",
    "mu = np.nanmean(cdfs[:, k, :], axis=0)\n",
    "# plt.plot(rs, mu, c=\"black\")\n",
    "for i in range(len(ics)):\n",
    "    plt.plot(rs, cdfs[i, k, :] / mu)\n",
    "\n",
    "\n",
    "plt.ylim(0.75, 1.25)\n",
    "plt.axhline(1, ls=\"--\", c=\"black\")\n",
    "plt.xscale(\"log\")\n",
    "# plt.yscale(\"log\")\n",
    "plt.show()"
   ]
  },
  {
   "cell_type": "code",
   "execution_count": null,
   "id": "a6784766",
   "metadata": {},
   "outputs": [],
   "source": []
  },
  {
   "cell_type": "code",
   "execution_count": null,
   "id": "b416efb3",
   "metadata": {},
   "outputs": [],
   "source": []
  },
  {
   "cell_type": "code",
   "execution_count": null,
   "id": "e650fe2c",
   "metadata": {},
   "outputs": [],
   "source": []
  },
  {
   "cell_type": "code",
   "execution_count": null,
   "id": "1311187d",
   "metadata": {},
   "outputs": [],
   "source": []
  },
  {
   "cell_type": "code",
   "execution_count": null,
   "id": "03e49a11",
   "metadata": {
    "ExecuteTime": {
     "end_time": "2023-03-30T14:58:29.937514Z",
     "start_time": "2023-03-30T14:58:29.530552Z"
    }
   },
   "outputs": [],
   "source": [
    "x.shape"
   ]
  },
  {
   "cell_type": "code",
   "execution_count": null,
   "id": "24578cba",
   "metadata": {},
   "outputs": [],
   "source": []
  },
  {
   "cell_type": "code",
   "execution_count": null,
   "id": "b0024bbf",
   "metadata": {},
   "outputs": [],
   "source": []
  },
  {
   "cell_type": "code",
   "execution_count": null,
   "id": "6dc55410",
   "metadata": {
    "ExecuteTime": {
     "end_time": "2023-03-30T14:41:24.290602Z",
     "start_time": "2023-03-30T14:41:16.204679Z"
    }
   },
   "outputs": [],
   "source": [
    "dist0, __ = knn0.kneighbors(X, 3)\n",
    "distx, __ = knnx.kneighbors(X, 3)"
   ]
  },
  {
   "cell_type": "code",
   "execution_count": null,
   "id": "11508c3c",
   "metadata": {
    "ExecuteTime": {
     "end_time": "2023-03-30T14:41:24.560538Z",
     "start_time": "2023-03-30T14:41:24.292674Z"
    }
   },
   "outputs": [],
   "source": [
    "x0, y0 = knncdf.peaked_cdf_from_samples(dist0[:, 0], 0.5, 20, neval=10000)\n",
    "xx, yx = knncdf.peaked_cdf_from_samples(distx[:, 0], 0.5, 20, neval=10000)"
   ]
  },
  {
   "cell_type": "code",
   "execution_count": null,
   "id": "404501ad",
   "metadata": {
    "ExecuteTime": {
     "end_time": "2023-03-30T14:41:24.598933Z",
     "start_time": "2023-03-30T14:41:24.562062Z"
    }
   },
   "outputs": [],
   "source": [
    "distx[:, 0].min()"
   ]
  },
  {
   "cell_type": "code",
   "execution_count": null,
   "id": "43e08969",
   "metadata": {
    "ExecuteTime": {
     "end_time": "2023-03-30T14:46:10.262865Z",
     "start_time": "2023-03-30T14:46:09.486658Z"
    }
   },
   "outputs": [],
   "source": [
    "plt.figure()\n",
    "plt.plot(x0, y0)\n",
    "plt.plot(xx, yx)\n",
    "\n",
    "plt.yscale(\"log\")\n",
    "plt.xscale(\"log\")\n",
    "plt.show()"
   ]
  },
  {
   "cell_type": "code",
   "execution_count": null,
   "id": "39547a75",
   "metadata": {},
   "outputs": [],
   "source": []
  },
  {
   "cell_type": "code",
   "execution_count": null,
   "id": "9e160b38",
   "metadata": {
    "ExecuteTime": {
     "end_time": "2023-03-30T13:02:02.033125Z",
     "start_time": "2023-03-30T13:02:00.674878Z"
    }
   },
   "outputs": [],
   "source": [
    "plt.figure()\n",
    "\n",
    "for i in range(3):\n",
    "    plt.plot(*knncdf.cdf_from_samples(dist0[:, i], 1, 25))\n",
    "    plt.plot(*knncdf.cdf_from_samples(distx[:, i], 1, 25))\n",
    "\n",
    "# plt.xlim(0.5, 25)\n",
    "\n",
    "plt.yscale(\"log\")\n",
    "plt.xscale(\"log\")\n",
    "plt.xlabel(r\"$r~\\left[\\mathrm{Mpc}\\right]$\")\n",
    "\n",
    "\n",
    "\n",
    "plt.show()"
   ]
  },
  {
   "cell_type": "code",
   "execution_count": null,
   "id": "4bfb65d8",
   "metadata": {},
   "outputs": [],
   "source": []
  },
  {
   "cell_type": "code",
   "execution_count": null,
   "id": "4703d81c",
   "metadata": {
    "ExecuteTime": {
     "end_time": "2023-03-30T12:13:35.958444Z",
     "start_time": "2023-03-30T12:13:35.924241Z"
    }
   },
   "outputs": [],
   "source": [
    "x = dist[:, 0]\n",
    "q = np.linspace(0, 100, int(x.size / 5))\n",
    "\n",
    "p = np.percentile(x, q)"
   ]
  },
  {
   "cell_type": "code",
   "execution_count": null,
   "id": "b054c6df",
   "metadata": {
    "ExecuteTime": {
     "end_time": "2023-03-30T12:16:50.052225Z",
     "start_time": "2023-03-30T12:16:50.020395Z"
    }
   },
   "outputs": [],
   "source": [
    "y = np.sort(x)\n",
    "\n",
    "yy = np.arange(y.size) / y.size"
   ]
  },
  {
   "cell_type": "code",
   "execution_count": null,
   "id": "5445c964",
   "metadata": {
    "ExecuteTime": {
     "end_time": "2023-03-30T12:16:53.599925Z",
     "start_time": "2023-03-30T12:16:53.521266Z"
    }
   },
   "outputs": [],
   "source": [
    "plt.figure()\n",
    "plt.plot(p, q / 100)\n",
    "\n",
    "plt.plot(y, yy)\n",
    "\n",
    "# plt.yscale(\"log\")\n",
    "plt.show()"
   ]
  },
  {
   "cell_type": "code",
   "execution_count": null,
   "id": "87fe5874",
   "metadata": {},
   "outputs": [],
   "source": []
  },
  {
   "cell_type": "code",
   "execution_count": null,
   "id": "fb0ad6b9",
   "metadata": {
    "ExecuteTime": {
     "end_time": "2023-03-30T12:03:34.387625Z",
     "start_time": "2023-03-30T12:03:34.290961Z"
    }
   },
   "outputs": [],
   "source": [
    "plt.figure()\n",
    "plt.hist(dist[:, 0], bins=\"auto\", histtype=\"step\")\n",
    "plt.hist(dist[:, 1], bins=\"auto\", histtype=\"step\")\n",
    "plt.hist(dist[:, 2], bins=\"auto\", histtype=\"step\")\n",
    "\n",
    "plt.show()"
   ]
  },
  {
   "cell_type": "code",
   "execution_count": null,
   "id": "c2aba833",
   "metadata": {},
   "outputs": [],
   "source": []
  },
  {
   "cell_type": "code",
   "execution_count": null,
   "id": "6f70f238",
   "metadata": {},
   "outputs": [],
   "source": []
  },
  {
   "cell_type": "code",
   "execution_count": null,
   "id": "03bcb191",
   "metadata": {
    "ExecuteTime": {
     "end_time": "2023-03-30T11:38:04.906150Z",
     "start_time": "2023-03-30T11:38:04.758107Z"
    }
   },
   "outputs": [],
   "source": [
    "plt.figure()\n",
    "plt.hist(cat0[\"dec\"], bins=\"auto\")\n",
    "\n",
    "plt.show()"
   ]
  },
  {
   "cell_type": "code",
   "execution_count": null,
   "id": "e5ad4722",
   "metadata": {
    "ExecuteTime": {
     "end_time": "2023-03-30T11:53:23.004853Z",
     "start_time": "2023-03-30T11:53:22.971967Z"
    }
   },
   "outputs": [],
   "source": [
    "gen = np.random.default_rng(22)"
   ]
  },
  {
   "cell_type": "code",
   "execution_count": null,
   "id": "785b530a",
   "metadata": {
    "ExecuteTime": {
     "end_time": "2023-03-30T11:53:23.330397Z",
     "start_time": "2023-03-30T11:53:23.296612Z"
    }
   },
   "outputs": [],
   "source": [
    "gen.normal()"
   ]
  },
  {
   "cell_type": "code",
   "execution_count": null,
   "id": "b3d3b5e6",
   "metadata": {},
   "outputs": [],
   "source": []
  },
  {
   "cell_type": "code",
   "execution_count": null,
   "id": "464b606d",
   "metadata": {
    "ExecuteTime": {
     "end_time": "2023-03-30T11:36:13.649124Z",
     "start_time": "2023-03-30T11:36:12.995693Z"
    }
   },
   "outputs": [],
   "source": [
    "theta = np.linspace( t, np.pi, 100)\n",
    "\n",
    "plt.figure()\n",
    "plt.plot(theta, np.sin(theta))\n",
    "plt.show()"
   ]
  },
  {
   "cell_type": "code",
   "execution_count": null,
   "id": "c29049f5",
   "metadata": {},
   "outputs": [],
   "source": []
  },
  {
   "cell_type": "code",
   "execution_count": null,
   "id": "cd2a3295",
   "metadata": {},
   "outputs": [],
   "source": []
  },
  {
   "cell_type": "code",
   "execution_count": null,
   "id": "af9abf04",
   "metadata": {
    "ExecuteTime": {
     "end_time": "2023-03-30T11:10:11.104389Z",
     "start_time": "2023-03-30T11:10:11.070499Z"
    }
   },
   "outputs": [],
   "source": [
    "X = np.array([-3.9514747, -0.6966991,  2.97158]).reshape(1, -1)\n",
    "\n",
    "X"
   ]
  },
  {
   "cell_type": "code",
   "execution_count": null,
   "id": "e181b3c3",
   "metadata": {
    "ExecuteTime": {
     "end_time": "2023-03-30T11:32:17.840355Z",
     "start_time": "2023-03-30T11:32:17.351883Z"
    }
   },
   "outputs": [],
   "source": [
    "dist, indxs = knn0.kneighbors(X, n_neighbors=1)\n",
    "\n",
    "dist, indxs"
   ]
  },
  {
   "cell_type": "code",
   "execution_count": null,
   "id": "d38fd960",
   "metadata": {
    "ExecuteTime": {
     "end_time": "2023-03-30T11:10:18.182326Z",
     "start_time": "2023-03-30T11:10:18.145629Z"
    }
   },
   "outputs": [],
   "source": [
    "cat0.positions[indxs]"
   ]
  },
  {
   "cell_type": "code",
   "execution_count": null,
   "id": "a16ddc2f",
   "metadata": {},
   "outputs": [],
   "source": []
  },
  {
   "cell_type": "code",
   "execution_count": null,
   "id": "bbbe8fb6",
   "metadata": {},
   "outputs": [],
   "source": []
  },
  {
   "cell_type": "code",
   "execution_count": null,
   "id": "759a0149",
   "metadata": {},
   "outputs": [],
   "source": []
  },
  {
   "cell_type": "code",
   "execution_count": null,
   "id": "312c96c9",
   "metadata": {},
   "outputs": [],
   "source": []
  },
  {
   "cell_type": "code",
   "execution_count": null,
   "id": "b097637b",
   "metadata": {},
   "outputs": [],
   "source": []
  },
  {
   "cell_type": "code",
   "execution_count": null,
   "id": "2ced23cb",
   "metadata": {},
   "outputs": [],
   "source": []
  },
  {
   "cell_type": "code",
   "execution_count": null,
   "id": "be26cbcc",
   "metadata": {},
   "outputs": [],
   "source": []
  }
 ],
 "metadata": {
  "kernelspec": {
   "display_name": "venv_galomatch",
   "language": "python",
   "name": "venv_galomatch"
  },
  "language_info": {
   "codemirror_mode": {
    "name": "ipython",
    "version": 3
   },
   "file_extension": ".py",
   "mimetype": "text/x-python",
   "name": "python",
   "nbconvert_exporter": "python",
   "pygments_lexer": "ipython3",
   "version": "3.8.0"
  },
  "vscode": {
   "interpreter": {
    "hash": "f29d02a8350410abc2a9fb79641689d10bf7ab64afc03ec87ca3cf6ed2daa499"
   }
  }
 },
 "nbformat": 4,
 "nbformat_minor": 5
}
