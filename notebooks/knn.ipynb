{
 "cells": [
  {
   "cell_type": "code",
   "execution_count": 1,
   "id": "5a38ed25",
   "metadata": {
    "ExecuteTime": {
     "end_time": "2023-04-05T10:08:35.127670Z",
     "start_time": "2023-04-05T10:08:29.875068Z"
    },
    "scrolled": true
   },
   "outputs": [
    {
     "name": "stdout",
     "output_type": "stream",
     "text": [
      "not found\n"
     ]
    }
   ],
   "source": [
    "import numpy as np\n",
    "import matplotlib\n",
    "import matplotlib.pyplot as plt\n",
    "from sklearn.neighbors import NearestNeighbors\n",
    "import joblib\n",
    "from glob import glob\n",
    "from tqdm import tqdm\n",
    "try:\n",
    "    import csiborgtools\n",
    "except ModuleNotFoundError:\n",
    "    print(\"not found\")\n",
    "    import sys\n",
    "    sys.path.append(\"../\")\n",
    "    import csiborgtools\n",
    "\n",
    "\n",
    "%matplotlib notebook\n",
    "%load_ext autoreload\n",
    "%autoreload 2"
   ]
  },
  {
   "cell_type": "code",
   "execution_count": 135,
   "id": "3bbf38d6",
   "metadata": {
    "ExecuteTime": {
     "end_time": "2023-04-05T13:41:02.225736Z",
     "start_time": "2023-04-05T13:41:00.875529Z"
    }
   },
   "outputs": [],
   "source": [
    "knnreader = csiborgtools.read.kNNCDFReader()"
   ]
  },
  {
   "cell_type": "code",
   "execution_count": 142,
   "id": "9a79dde6",
   "metadata": {
    "ExecuteTime": {
     "end_time": "2023-04-05T13:42:26.370674Z",
     "start_time": "2023-04-05T13:42:22.862756Z"
    }
   },
   "outputs": [
    {
     "name": "stderr",
     "output_type": "stream",
     "text": [
      "100%|██████████| 101/101 [00:01<00:00, 76.37it/s]\n"
     ]
    }
   ],
   "source": [
    "files = glob(\"/mnt/extraspace/rstiskalek/csiborg/knn/auto/*\")\n",
    "\n",
    "ks = [0, 1, 2, 3, 4, 5, 6, 7]\n",
    "rs, cdf, thresholds = knnreader.read(files, ks, rmin=0.01, rmax=100)"
   ]
  },
  {
   "cell_type": "code",
   "execution_count": 143,
   "id": "88de6882",
   "metadata": {
    "ExecuteTime": {
     "end_time": "2023-04-05T13:42:26.943147Z",
     "start_time": "2023-04-05T13:42:26.372382Z"
    }
   },
   "outputs": [],
   "source": [
    "pk = knnreader.prob_kvolume(cdf, rs, True)"
   ]
  },
  {
   "cell_type": "code",
   "execution_count": 147,
   "id": "dbb11ba2",
   "metadata": {
    "ExecuteTime": {
     "end_time": "2023-04-05T13:43:45.754506Z",
     "start_time": "2023-04-05T13:43:38.953908Z"
    }
   },
   "outputs": [
    {
     "data": {
      "application/javascript": [
       "/* Put everything inside the global mpl namespace */\n",
       "/* global mpl */\n",
       "window.mpl = {};\n",
       "\n",
       "mpl.get_websocket_type = function () {\n",
       "    if (typeof WebSocket !== 'undefined') {\n",
       "        return WebSocket;\n",
       "    } else if (typeof MozWebSocket !== 'undefined') {\n",
       "        return MozWebSocket;\n",
       "    } else {\n",
       "        alert(\n",
       "            'Your browser does not have WebSocket support. ' +\n",
       "                'Please try Chrome, Safari or Firefox ≥ 6. ' +\n",
       "                'Firefox 4 and 5 are also supported but you ' +\n",
       "                'have to enable WebSockets in about:config.'\n",
       "        );\n",
       "    }\n",
       "};\n",
       "\n",
       "mpl.figure = function (figure_id, websocket, ondownload, parent_element) {\n",
       "    this.id = figure_id;\n",
       "\n",
       "    this.ws = websocket;\n",
       "\n",
       "    this.supports_binary = this.ws.binaryType !== undefined;\n",
       "\n",
       "    if (!this.supports_binary) {\n",
       "        var warnings = document.getElementById('mpl-warnings');\n",
       "        if (warnings) {\n",
       "            warnings.style.display = 'block';\n",
       "            warnings.textContent =\n",
       "                'This browser does not support binary websocket messages. ' +\n",
       "                'Performance may be slow.';\n",
       "        }\n",
       "    }\n",
       "\n",
       "    this.imageObj = new Image();\n",
       "\n",
       "    this.context = undefined;\n",
       "    this.message = undefined;\n",
       "    this.canvas = undefined;\n",
       "    this.rubberband_canvas = undefined;\n",
       "    this.rubberband_context = undefined;\n",
       "    this.format_dropdown = undefined;\n",
       "\n",
       "    this.image_mode = 'full';\n",
       "\n",
       "    this.root = document.createElement('div');\n",
       "    this.root.setAttribute('style', 'display: inline-block');\n",
       "    this._root_extra_style(this.root);\n",
       "\n",
       "    parent_element.appendChild(this.root);\n",
       "\n",
       "    this._init_header(this);\n",
       "    this._init_canvas(this);\n",
       "    this._init_toolbar(this);\n",
       "\n",
       "    var fig = this;\n",
       "\n",
       "    this.waiting = false;\n",
       "\n",
       "    this.ws.onopen = function () {\n",
       "        fig.send_message('supports_binary', { value: fig.supports_binary });\n",
       "        fig.send_message('send_image_mode', {});\n",
       "        if (fig.ratio !== 1) {\n",
       "            fig.send_message('set_device_pixel_ratio', {\n",
       "                device_pixel_ratio: fig.ratio,\n",
       "            });\n",
       "        }\n",
       "        fig.send_message('refresh', {});\n",
       "    };\n",
       "\n",
       "    this.imageObj.onload = function () {\n",
       "        if (fig.image_mode === 'full') {\n",
       "            // Full images could contain transparency (where diff images\n",
       "            // almost always do), so we need to clear the canvas so that\n",
       "            // there is no ghosting.\n",
       "            fig.context.clearRect(0, 0, fig.canvas.width, fig.canvas.height);\n",
       "        }\n",
       "        fig.context.drawImage(fig.imageObj, 0, 0);\n",
       "    };\n",
       "\n",
       "    this.imageObj.onunload = function () {\n",
       "        fig.ws.close();\n",
       "    };\n",
       "\n",
       "    this.ws.onmessage = this._make_on_message_function(this);\n",
       "\n",
       "    this.ondownload = ondownload;\n",
       "};\n",
       "\n",
       "mpl.figure.prototype._init_header = function () {\n",
       "    var titlebar = document.createElement('div');\n",
       "    titlebar.classList =\n",
       "        'ui-dialog-titlebar ui-widget-header ui-corner-all ui-helper-clearfix';\n",
       "    var titletext = document.createElement('div');\n",
       "    titletext.classList = 'ui-dialog-title';\n",
       "    titletext.setAttribute(\n",
       "        'style',\n",
       "        'width: 100%; text-align: center; padding: 3px;'\n",
       "    );\n",
       "    titlebar.appendChild(titletext);\n",
       "    this.root.appendChild(titlebar);\n",
       "    this.header = titletext;\n",
       "};\n",
       "\n",
       "mpl.figure.prototype._canvas_extra_style = function (_canvas_div) {};\n",
       "\n",
       "mpl.figure.prototype._root_extra_style = function (_canvas_div) {};\n",
       "\n",
       "mpl.figure.prototype._init_canvas = function () {\n",
       "    var fig = this;\n",
       "\n",
       "    var canvas_div = (this.canvas_div = document.createElement('div'));\n",
       "    canvas_div.setAttribute(\n",
       "        'style',\n",
       "        'border: 1px solid #ddd;' +\n",
       "            'box-sizing: content-box;' +\n",
       "            'clear: both;' +\n",
       "            'min-height: 1px;' +\n",
       "            'min-width: 1px;' +\n",
       "            'outline: 0;' +\n",
       "            'overflow: hidden;' +\n",
       "            'position: relative;' +\n",
       "            'resize: both;'\n",
       "    );\n",
       "\n",
       "    function on_keyboard_event_closure(name) {\n",
       "        return function (event) {\n",
       "            return fig.key_event(event, name);\n",
       "        };\n",
       "    }\n",
       "\n",
       "    canvas_div.addEventListener(\n",
       "        'keydown',\n",
       "        on_keyboard_event_closure('key_press')\n",
       "    );\n",
       "    canvas_div.addEventListener(\n",
       "        'keyup',\n",
       "        on_keyboard_event_closure('key_release')\n",
       "    );\n",
       "\n",
       "    this._canvas_extra_style(canvas_div);\n",
       "    this.root.appendChild(canvas_div);\n",
       "\n",
       "    var canvas = (this.canvas = document.createElement('canvas'));\n",
       "    canvas.classList.add('mpl-canvas');\n",
       "    canvas.setAttribute('style', 'box-sizing: content-box;');\n",
       "\n",
       "    this.context = canvas.getContext('2d');\n",
       "\n",
       "    var backingStore =\n",
       "        this.context.backingStorePixelRatio ||\n",
       "        this.context.webkitBackingStorePixelRatio ||\n",
       "        this.context.mozBackingStorePixelRatio ||\n",
       "        this.context.msBackingStorePixelRatio ||\n",
       "        this.context.oBackingStorePixelRatio ||\n",
       "        this.context.backingStorePixelRatio ||\n",
       "        1;\n",
       "\n",
       "    this.ratio = (window.devicePixelRatio || 1) / backingStore;\n",
       "\n",
       "    var rubberband_canvas = (this.rubberband_canvas = document.createElement(\n",
       "        'canvas'\n",
       "    ));\n",
       "    rubberband_canvas.setAttribute(\n",
       "        'style',\n",
       "        'box-sizing: content-box; position: absolute; left: 0; top: 0; z-index: 1;'\n",
       "    );\n",
       "\n",
       "    // Apply a ponyfill if ResizeObserver is not implemented by browser.\n",
       "    if (this.ResizeObserver === undefined) {\n",
       "        if (window.ResizeObserver !== undefined) {\n",
       "            this.ResizeObserver = window.ResizeObserver;\n",
       "        } else {\n",
       "            var obs = _JSXTOOLS_RESIZE_OBSERVER({});\n",
       "            this.ResizeObserver = obs.ResizeObserver;\n",
       "        }\n",
       "    }\n",
       "\n",
       "    this.resizeObserverInstance = new this.ResizeObserver(function (entries) {\n",
       "        var nentries = entries.length;\n",
       "        for (var i = 0; i < nentries; i++) {\n",
       "            var entry = entries[i];\n",
       "            var width, height;\n",
       "            if (entry.contentBoxSize) {\n",
       "                if (entry.contentBoxSize instanceof Array) {\n",
       "                    // Chrome 84 implements new version of spec.\n",
       "                    width = entry.contentBoxSize[0].inlineSize;\n",
       "                    height = entry.contentBoxSize[0].blockSize;\n",
       "                } else {\n",
       "                    // Firefox implements old version of spec.\n",
       "                    width = entry.contentBoxSize.inlineSize;\n",
       "                    height = entry.contentBoxSize.blockSize;\n",
       "                }\n",
       "            } else {\n",
       "                // Chrome <84 implements even older version of spec.\n",
       "                width = entry.contentRect.width;\n",
       "                height = entry.contentRect.height;\n",
       "            }\n",
       "\n",
       "            // Keep the size of the canvas and rubber band canvas in sync with\n",
       "            // the canvas container.\n",
       "            if (entry.devicePixelContentBoxSize) {\n",
       "                // Chrome 84 implements new version of spec.\n",
       "                canvas.setAttribute(\n",
       "                    'width',\n",
       "                    entry.devicePixelContentBoxSize[0].inlineSize\n",
       "                );\n",
       "                canvas.setAttribute(\n",
       "                    'height',\n",
       "                    entry.devicePixelContentBoxSize[0].blockSize\n",
       "                );\n",
       "            } else {\n",
       "                canvas.setAttribute('width', width * fig.ratio);\n",
       "                canvas.setAttribute('height', height * fig.ratio);\n",
       "            }\n",
       "            canvas.setAttribute(\n",
       "                'style',\n",
       "                'width: ' + width + 'px; height: ' + height + 'px;'\n",
       "            );\n",
       "\n",
       "            rubberband_canvas.setAttribute('width', width);\n",
       "            rubberband_canvas.setAttribute('height', height);\n",
       "\n",
       "            // And update the size in Python. We ignore the initial 0/0 size\n",
       "            // that occurs as the element is placed into the DOM, which should\n",
       "            // otherwise not happen due to the minimum size styling.\n",
       "            if (fig.ws.readyState == 1 && width != 0 && height != 0) {\n",
       "                fig.request_resize(width, height);\n",
       "            }\n",
       "        }\n",
       "    });\n",
       "    this.resizeObserverInstance.observe(canvas_div);\n",
       "\n",
       "    function on_mouse_event_closure(name) {\n",
       "        return function (event) {\n",
       "            return fig.mouse_event(event, name);\n",
       "        };\n",
       "    }\n",
       "\n",
       "    rubberband_canvas.addEventListener(\n",
       "        'mousedown',\n",
       "        on_mouse_event_closure('button_press')\n",
       "    );\n",
       "    rubberband_canvas.addEventListener(\n",
       "        'mouseup',\n",
       "        on_mouse_event_closure('button_release')\n",
       "    );\n",
       "    rubberband_canvas.addEventListener(\n",
       "        'dblclick',\n",
       "        on_mouse_event_closure('dblclick')\n",
       "    );\n",
       "    // Throttle sequential mouse events to 1 every 20ms.\n",
       "    rubberband_canvas.addEventListener(\n",
       "        'mousemove',\n",
       "        on_mouse_event_closure('motion_notify')\n",
       "    );\n",
       "\n",
       "    rubberband_canvas.addEventListener(\n",
       "        'mouseenter',\n",
       "        on_mouse_event_closure('figure_enter')\n",
       "    );\n",
       "    rubberband_canvas.addEventListener(\n",
       "        'mouseleave',\n",
       "        on_mouse_event_closure('figure_leave')\n",
       "    );\n",
       "\n",
       "    canvas_div.addEventListener('wheel', function (event) {\n",
       "        if (event.deltaY < 0) {\n",
       "            event.step = 1;\n",
       "        } else {\n",
       "            event.step = -1;\n",
       "        }\n",
       "        on_mouse_event_closure('scroll')(event);\n",
       "    });\n",
       "\n",
       "    canvas_div.appendChild(canvas);\n",
       "    canvas_div.appendChild(rubberband_canvas);\n",
       "\n",
       "    this.rubberband_context = rubberband_canvas.getContext('2d');\n",
       "    this.rubberband_context.strokeStyle = '#000000';\n",
       "\n",
       "    this._resize_canvas = function (width, height, forward) {\n",
       "        if (forward) {\n",
       "            canvas_div.style.width = width + 'px';\n",
       "            canvas_div.style.height = height + 'px';\n",
       "        }\n",
       "    };\n",
       "\n",
       "    // Disable right mouse context menu.\n",
       "    this.rubberband_canvas.addEventListener('contextmenu', function (_e) {\n",
       "        event.preventDefault();\n",
       "        return false;\n",
       "    });\n",
       "\n",
       "    function set_focus() {\n",
       "        canvas.focus();\n",
       "        canvas_div.focus();\n",
       "    }\n",
       "\n",
       "    window.setTimeout(set_focus, 100);\n",
       "};\n",
       "\n",
       "mpl.figure.prototype._init_toolbar = function () {\n",
       "    var fig = this;\n",
       "\n",
       "    var toolbar = document.createElement('div');\n",
       "    toolbar.classList = 'mpl-toolbar';\n",
       "    this.root.appendChild(toolbar);\n",
       "\n",
       "    function on_click_closure(name) {\n",
       "        return function (_event) {\n",
       "            return fig.toolbar_button_onclick(name);\n",
       "        };\n",
       "    }\n",
       "\n",
       "    function on_mouseover_closure(tooltip) {\n",
       "        return function (event) {\n",
       "            if (!event.currentTarget.disabled) {\n",
       "                return fig.toolbar_button_onmouseover(tooltip);\n",
       "            }\n",
       "        };\n",
       "    }\n",
       "\n",
       "    fig.buttons = {};\n",
       "    var buttonGroup = document.createElement('div');\n",
       "    buttonGroup.classList = 'mpl-button-group';\n",
       "    for (var toolbar_ind in mpl.toolbar_items) {\n",
       "        var name = mpl.toolbar_items[toolbar_ind][0];\n",
       "        var tooltip = mpl.toolbar_items[toolbar_ind][1];\n",
       "        var image = mpl.toolbar_items[toolbar_ind][2];\n",
       "        var method_name = mpl.toolbar_items[toolbar_ind][3];\n",
       "\n",
       "        if (!name) {\n",
       "            /* Instead of a spacer, we start a new button group. */\n",
       "            if (buttonGroup.hasChildNodes()) {\n",
       "                toolbar.appendChild(buttonGroup);\n",
       "            }\n",
       "            buttonGroup = document.createElement('div');\n",
       "            buttonGroup.classList = 'mpl-button-group';\n",
       "            continue;\n",
       "        }\n",
       "\n",
       "        var button = (fig.buttons[name] = document.createElement('button'));\n",
       "        button.classList = 'mpl-widget';\n",
       "        button.setAttribute('role', 'button');\n",
       "        button.setAttribute('aria-disabled', 'false');\n",
       "        button.addEventListener('click', on_click_closure(method_name));\n",
       "        button.addEventListener('mouseover', on_mouseover_closure(tooltip));\n",
       "\n",
       "        var icon_img = document.createElement('img');\n",
       "        icon_img.src = '_images/' + image + '.png';\n",
       "        icon_img.srcset = '_images/' + image + '_large.png 2x';\n",
       "        icon_img.alt = tooltip;\n",
       "        button.appendChild(icon_img);\n",
       "\n",
       "        buttonGroup.appendChild(button);\n",
       "    }\n",
       "\n",
       "    if (buttonGroup.hasChildNodes()) {\n",
       "        toolbar.appendChild(buttonGroup);\n",
       "    }\n",
       "\n",
       "    var fmt_picker = document.createElement('select');\n",
       "    fmt_picker.classList = 'mpl-widget';\n",
       "    toolbar.appendChild(fmt_picker);\n",
       "    this.format_dropdown = fmt_picker;\n",
       "\n",
       "    for (var ind in mpl.extensions) {\n",
       "        var fmt = mpl.extensions[ind];\n",
       "        var option = document.createElement('option');\n",
       "        option.selected = fmt === mpl.default_extension;\n",
       "        option.innerHTML = fmt;\n",
       "        fmt_picker.appendChild(option);\n",
       "    }\n",
       "\n",
       "    var status_bar = document.createElement('span');\n",
       "    status_bar.classList = 'mpl-message';\n",
       "    toolbar.appendChild(status_bar);\n",
       "    this.message = status_bar;\n",
       "};\n",
       "\n",
       "mpl.figure.prototype.request_resize = function (x_pixels, y_pixels) {\n",
       "    // Request matplotlib to resize the figure. Matplotlib will then trigger a resize in the client,\n",
       "    // which will in turn request a refresh of the image.\n",
       "    this.send_message('resize', { width: x_pixels, height: y_pixels });\n",
       "};\n",
       "\n",
       "mpl.figure.prototype.send_message = function (type, properties) {\n",
       "    properties['type'] = type;\n",
       "    properties['figure_id'] = this.id;\n",
       "    this.ws.send(JSON.stringify(properties));\n",
       "};\n",
       "\n",
       "mpl.figure.prototype.send_draw_message = function () {\n",
       "    if (!this.waiting) {\n",
       "        this.waiting = true;\n",
       "        this.ws.send(JSON.stringify({ type: 'draw', figure_id: this.id }));\n",
       "    }\n",
       "};\n",
       "\n",
       "mpl.figure.prototype.handle_save = function (fig, _msg) {\n",
       "    var format_dropdown = fig.format_dropdown;\n",
       "    var format = format_dropdown.options[format_dropdown.selectedIndex].value;\n",
       "    fig.ondownload(fig, format);\n",
       "};\n",
       "\n",
       "mpl.figure.prototype.handle_resize = function (fig, msg) {\n",
       "    var size = msg['size'];\n",
       "    if (size[0] !== fig.canvas.width || size[1] !== fig.canvas.height) {\n",
       "        fig._resize_canvas(size[0], size[1], msg['forward']);\n",
       "        fig.send_message('refresh', {});\n",
       "    }\n",
       "};\n",
       "\n",
       "mpl.figure.prototype.handle_rubberband = function (fig, msg) {\n",
       "    var x0 = msg['x0'] / fig.ratio;\n",
       "    var y0 = (fig.canvas.height - msg['y0']) / fig.ratio;\n",
       "    var x1 = msg['x1'] / fig.ratio;\n",
       "    var y1 = (fig.canvas.height - msg['y1']) / fig.ratio;\n",
       "    x0 = Math.floor(x0) + 0.5;\n",
       "    y0 = Math.floor(y0) + 0.5;\n",
       "    x1 = Math.floor(x1) + 0.5;\n",
       "    y1 = Math.floor(y1) + 0.5;\n",
       "    var min_x = Math.min(x0, x1);\n",
       "    var min_y = Math.min(y0, y1);\n",
       "    var width = Math.abs(x1 - x0);\n",
       "    var height = Math.abs(y1 - y0);\n",
       "\n",
       "    fig.rubberband_context.clearRect(\n",
       "        0,\n",
       "        0,\n",
       "        fig.canvas.width / fig.ratio,\n",
       "        fig.canvas.height / fig.ratio\n",
       "    );\n",
       "\n",
       "    fig.rubberband_context.strokeRect(min_x, min_y, width, height);\n",
       "};\n",
       "\n",
       "mpl.figure.prototype.handle_figure_label = function (fig, msg) {\n",
       "    // Updates the figure title.\n",
       "    fig.header.textContent = msg['label'];\n",
       "};\n",
       "\n",
       "mpl.figure.prototype.handle_cursor = function (fig, msg) {\n",
       "    fig.rubberband_canvas.style.cursor = msg['cursor'];\n",
       "};\n",
       "\n",
       "mpl.figure.prototype.handle_message = function (fig, msg) {\n",
       "    fig.message.textContent = msg['message'];\n",
       "};\n",
       "\n",
       "mpl.figure.prototype.handle_draw = function (fig, _msg) {\n",
       "    // Request the server to send over a new figure.\n",
       "    fig.send_draw_message();\n",
       "};\n",
       "\n",
       "mpl.figure.prototype.handle_image_mode = function (fig, msg) {\n",
       "    fig.image_mode = msg['mode'];\n",
       "};\n",
       "\n",
       "mpl.figure.prototype.handle_history_buttons = function (fig, msg) {\n",
       "    for (var key in msg) {\n",
       "        if (!(key in fig.buttons)) {\n",
       "            continue;\n",
       "        }\n",
       "        fig.buttons[key].disabled = !msg[key];\n",
       "        fig.buttons[key].setAttribute('aria-disabled', !msg[key]);\n",
       "    }\n",
       "};\n",
       "\n",
       "mpl.figure.prototype.handle_navigate_mode = function (fig, msg) {\n",
       "    if (msg['mode'] === 'PAN') {\n",
       "        fig.buttons['Pan'].classList.add('active');\n",
       "        fig.buttons['Zoom'].classList.remove('active');\n",
       "    } else if (msg['mode'] === 'ZOOM') {\n",
       "        fig.buttons['Pan'].classList.remove('active');\n",
       "        fig.buttons['Zoom'].classList.add('active');\n",
       "    } else {\n",
       "        fig.buttons['Pan'].classList.remove('active');\n",
       "        fig.buttons['Zoom'].classList.remove('active');\n",
       "    }\n",
       "};\n",
       "\n",
       "mpl.figure.prototype.updated_canvas_event = function () {\n",
       "    // Called whenever the canvas gets updated.\n",
       "    this.send_message('ack', {});\n",
       "};\n",
       "\n",
       "// A function to construct a web socket function for onmessage handling.\n",
       "// Called in the figure constructor.\n",
       "mpl.figure.prototype._make_on_message_function = function (fig) {\n",
       "    return function socket_on_message(evt) {\n",
       "        if (evt.data instanceof Blob) {\n",
       "            var img = evt.data;\n",
       "            if (img.type !== 'image/png') {\n",
       "                /* FIXME: We get \"Resource interpreted as Image but\n",
       "                 * transferred with MIME type text/plain:\" errors on\n",
       "                 * Chrome.  But how to set the MIME type?  It doesn't seem\n",
       "                 * to be part of the websocket stream */\n",
       "                img.type = 'image/png';\n",
       "            }\n",
       "\n",
       "            /* Free the memory for the previous frames */\n",
       "            if (fig.imageObj.src) {\n",
       "                (window.URL || window.webkitURL).revokeObjectURL(\n",
       "                    fig.imageObj.src\n",
       "                );\n",
       "            }\n",
       "\n",
       "            fig.imageObj.src = (window.URL || window.webkitURL).createObjectURL(\n",
       "                img\n",
       "            );\n",
       "            fig.updated_canvas_event();\n",
       "            fig.waiting = false;\n",
       "            return;\n",
       "        } else if (\n",
       "            typeof evt.data === 'string' &&\n",
       "            evt.data.slice(0, 21) === 'data:image/png;base64'\n",
       "        ) {\n",
       "            fig.imageObj.src = evt.data;\n",
       "            fig.updated_canvas_event();\n",
       "            fig.waiting = false;\n",
       "            return;\n",
       "        }\n",
       "\n",
       "        var msg = JSON.parse(evt.data);\n",
       "        var msg_type = msg['type'];\n",
       "\n",
       "        // Call the  \"handle_{type}\" callback, which takes\n",
       "        // the figure and JSON message as its only arguments.\n",
       "        try {\n",
       "            var callback = fig['handle_' + msg_type];\n",
       "        } catch (e) {\n",
       "            console.log(\n",
       "                \"No handler for the '\" + msg_type + \"' message type: \",\n",
       "                msg\n",
       "            );\n",
       "            return;\n",
       "        }\n",
       "\n",
       "        if (callback) {\n",
       "            try {\n",
       "                // console.log(\"Handling '\" + msg_type + \"' message: \", msg);\n",
       "                callback(fig, msg);\n",
       "            } catch (e) {\n",
       "                console.log(\n",
       "                    \"Exception inside the 'handler_\" + msg_type + \"' callback:\",\n",
       "                    e,\n",
       "                    e.stack,\n",
       "                    msg\n",
       "                );\n",
       "            }\n",
       "        }\n",
       "    };\n",
       "};\n",
       "\n",
       "// from https://stackoverflow.com/questions/1114465/getting-mouse-location-in-canvas\n",
       "mpl.findpos = function (e) {\n",
       "    //this section is from http://www.quirksmode.org/js/events_properties.html\n",
       "    var targ;\n",
       "    if (!e) {\n",
       "        e = window.event;\n",
       "    }\n",
       "    if (e.target) {\n",
       "        targ = e.target;\n",
       "    } else if (e.srcElement) {\n",
       "        targ = e.srcElement;\n",
       "    }\n",
       "    if (targ.nodeType === 3) {\n",
       "        // defeat Safari bug\n",
       "        targ = targ.parentNode;\n",
       "    }\n",
       "\n",
       "    // pageX,Y are the mouse positions relative to the document\n",
       "    var boundingRect = targ.getBoundingClientRect();\n",
       "    var x = e.pageX - (boundingRect.left + document.body.scrollLeft);\n",
       "    var y = e.pageY - (boundingRect.top + document.body.scrollTop);\n",
       "\n",
       "    return { x: x, y: y };\n",
       "};\n",
       "\n",
       "/*\n",
       " * return a copy of an object with only non-object keys\n",
       " * we need this to avoid circular references\n",
       " * https://stackoverflow.com/a/24161582/3208463\n",
       " */\n",
       "function simpleKeys(original) {\n",
       "    return Object.keys(original).reduce(function (obj, key) {\n",
       "        if (typeof original[key] !== 'object') {\n",
       "            obj[key] = original[key];\n",
       "        }\n",
       "        return obj;\n",
       "    }, {});\n",
       "}\n",
       "\n",
       "mpl.figure.prototype.mouse_event = function (event, name) {\n",
       "    var canvas_pos = mpl.findpos(event);\n",
       "\n",
       "    if (name === 'button_press') {\n",
       "        this.canvas.focus();\n",
       "        this.canvas_div.focus();\n",
       "    }\n",
       "\n",
       "    var x = canvas_pos.x * this.ratio;\n",
       "    var y = canvas_pos.y * this.ratio;\n",
       "\n",
       "    this.send_message(name, {\n",
       "        x: x,\n",
       "        y: y,\n",
       "        button: event.button,\n",
       "        step: event.step,\n",
       "        guiEvent: simpleKeys(event),\n",
       "    });\n",
       "\n",
       "    /* This prevents the web browser from automatically changing to\n",
       "     * the text insertion cursor when the button is pressed.  We want\n",
       "     * to control all of the cursor setting manually through the\n",
       "     * 'cursor' event from matplotlib */\n",
       "    event.preventDefault();\n",
       "    return false;\n",
       "};\n",
       "\n",
       "mpl.figure.prototype._key_event_extra = function (_event, _name) {\n",
       "    // Handle any extra behaviour associated with a key event\n",
       "};\n",
       "\n",
       "mpl.figure.prototype.key_event = function (event, name) {\n",
       "    // Prevent repeat events\n",
       "    if (name === 'key_press') {\n",
       "        if (event.key === this._key) {\n",
       "            return;\n",
       "        } else {\n",
       "            this._key = event.key;\n",
       "        }\n",
       "    }\n",
       "    if (name === 'key_release') {\n",
       "        this._key = null;\n",
       "    }\n",
       "\n",
       "    var value = '';\n",
       "    if (event.ctrlKey && event.key !== 'Control') {\n",
       "        value += 'ctrl+';\n",
       "    }\n",
       "    else if (event.altKey && event.key !== 'Alt') {\n",
       "        value += 'alt+';\n",
       "    }\n",
       "    else if (event.shiftKey && event.key !== 'Shift') {\n",
       "        value += 'shift+';\n",
       "    }\n",
       "\n",
       "    value += 'k' + event.key;\n",
       "\n",
       "    this._key_event_extra(event, name);\n",
       "\n",
       "    this.send_message(name, { key: value, guiEvent: simpleKeys(event) });\n",
       "    return false;\n",
       "};\n",
       "\n",
       "mpl.figure.prototype.toolbar_button_onclick = function (name) {\n",
       "    if (name === 'download') {\n",
       "        this.handle_save(this, null);\n",
       "    } else {\n",
       "        this.send_message('toolbar_button', { name: name });\n",
       "    }\n",
       "};\n",
       "\n",
       "mpl.figure.prototype.toolbar_button_onmouseover = function (tooltip) {\n",
       "    this.message.textContent = tooltip;\n",
       "};\n",
       "\n",
       "///////////////// REMAINING CONTENT GENERATED BY embed_js.py /////////////////\n",
       "// prettier-ignore\n",
       "var _JSXTOOLS_RESIZE_OBSERVER=function(A){var t,i=new WeakMap,n=new WeakMap,a=new WeakMap,r=new WeakMap,o=new Set;function s(e){if(!(this instanceof s))throw new TypeError(\"Constructor requires 'new' operator\");i.set(this,e)}function h(){throw new TypeError(\"Function is not a constructor\")}function c(e,t,i,n){e=0 in arguments?Number(arguments[0]):0,t=1 in arguments?Number(arguments[1]):0,i=2 in arguments?Number(arguments[2]):0,n=3 in arguments?Number(arguments[3]):0,this.right=(this.x=this.left=e)+(this.width=i),this.bottom=(this.y=this.top=t)+(this.height=n),Object.freeze(this)}function d(){t=requestAnimationFrame(d);var s=new WeakMap,p=new Set;o.forEach((function(t){r.get(t).forEach((function(i){var r=t instanceof window.SVGElement,o=a.get(t),d=r?0:parseFloat(o.paddingTop),f=r?0:parseFloat(o.paddingRight),l=r?0:parseFloat(o.paddingBottom),u=r?0:parseFloat(o.paddingLeft),g=r?0:parseFloat(o.borderTopWidth),m=r?0:parseFloat(o.borderRightWidth),w=r?0:parseFloat(o.borderBottomWidth),b=u+f,F=d+l,v=(r?0:parseFloat(o.borderLeftWidth))+m,W=g+w,y=r?0:t.offsetHeight-W-t.clientHeight,E=r?0:t.offsetWidth-v-t.clientWidth,R=b+v,z=F+W,M=r?t.width:parseFloat(o.width)-R-E,O=r?t.height:parseFloat(o.height)-z-y;if(n.has(t)){var k=n.get(t);if(k[0]===M&&k[1]===O)return}n.set(t,[M,O]);var S=Object.create(h.prototype);S.target=t,S.contentRect=new c(u,d,M,O),s.has(i)||(s.set(i,[]),p.add(i)),s.get(i).push(S)}))})),p.forEach((function(e){i.get(e).call(e,s.get(e),e)}))}return s.prototype.observe=function(i){if(i instanceof window.Element){r.has(i)||(r.set(i,new Set),o.add(i),a.set(i,window.getComputedStyle(i)));var n=r.get(i);n.has(this)||n.add(this),cancelAnimationFrame(t),t=requestAnimationFrame(d)}},s.prototype.unobserve=function(i){if(i instanceof window.Element&&r.has(i)){var n=r.get(i);n.has(this)&&(n.delete(this),n.size||(r.delete(i),o.delete(i))),n.size||r.delete(i),o.size||cancelAnimationFrame(t)}},A.DOMRectReadOnly=c,A.ResizeObserver=s,A.ResizeObserverEntry=h,A}; // eslint-disable-line\n",
       "mpl.toolbar_items = [[\"Home\", \"Reset original view\", \"fa fa-home\", \"home\"], [\"Back\", \"Back to previous view\", \"fa fa-arrow-left\", \"back\"], [\"Forward\", \"Forward to next view\", \"fa fa-arrow-right\", \"forward\"], [\"\", \"\", \"\", \"\"], [\"Pan\", \"Left button pans, Right button zooms\\nx/y fixes axis, CTRL fixes aspect\", \"fa fa-arrows\", \"pan\"], [\"Zoom\", \"Zoom to rectangle\\nx/y fixes axis\", \"fa fa-square-o\", \"zoom\"], [\"\", \"\", \"\", \"\"], [\"Download\", \"Download plot\", \"fa fa-floppy-o\", \"download\"]];\n",
       "\n",
       "mpl.extensions = [\"eps\", \"jpeg\", \"pgf\", \"pdf\", \"png\", \"ps\", \"raw\", \"svg\", \"tif\", \"webp\"];\n",
       "\n",
       "mpl.default_extension = \"png\";/* global mpl */\n",
       "\n",
       "var comm_websocket_adapter = function (comm) {\n",
       "    // Create a \"websocket\"-like object which calls the given IPython comm\n",
       "    // object with the appropriate methods. Currently this is a non binary\n",
       "    // socket, so there is still some room for performance tuning.\n",
       "    var ws = {};\n",
       "\n",
       "    ws.binaryType = comm.kernel.ws.binaryType;\n",
       "    ws.readyState = comm.kernel.ws.readyState;\n",
       "    function updateReadyState(_event) {\n",
       "        if (comm.kernel.ws) {\n",
       "            ws.readyState = comm.kernel.ws.readyState;\n",
       "        } else {\n",
       "            ws.readyState = 3; // Closed state.\n",
       "        }\n",
       "    }\n",
       "    comm.kernel.ws.addEventListener('open', updateReadyState);\n",
       "    comm.kernel.ws.addEventListener('close', updateReadyState);\n",
       "    comm.kernel.ws.addEventListener('error', updateReadyState);\n",
       "\n",
       "    ws.close = function () {\n",
       "        comm.close();\n",
       "    };\n",
       "    ws.send = function (m) {\n",
       "        //console.log('sending', m);\n",
       "        comm.send(m);\n",
       "    };\n",
       "    // Register the callback with on_msg.\n",
       "    comm.on_msg(function (msg) {\n",
       "        //console.log('receiving', msg['content']['data'], msg);\n",
       "        var data = msg['content']['data'];\n",
       "        if (data['blob'] !== undefined) {\n",
       "            data = {\n",
       "                data: new Blob(msg['buffers'], { type: data['blob'] }),\n",
       "            };\n",
       "        }\n",
       "        // Pass the mpl event to the overridden (by mpl) onmessage function.\n",
       "        ws.onmessage(data);\n",
       "    });\n",
       "    return ws;\n",
       "};\n",
       "\n",
       "mpl.mpl_figure_comm = function (comm, msg) {\n",
       "    // This is the function which gets called when the mpl process\n",
       "    // starts-up an IPython Comm through the \"matplotlib\" channel.\n",
       "\n",
       "    var id = msg.content.data.id;\n",
       "    // Get hold of the div created by the display call when the Comm\n",
       "    // socket was opened in Python.\n",
       "    var element = document.getElementById(id);\n",
       "    var ws_proxy = comm_websocket_adapter(comm);\n",
       "\n",
       "    function ondownload(figure, _format) {\n",
       "        window.open(figure.canvas.toDataURL());\n",
       "    }\n",
       "\n",
       "    var fig = new mpl.figure(id, ws_proxy, ondownload, element);\n",
       "\n",
       "    // Call onopen now - mpl needs it, as it is assuming we've passed it a real\n",
       "    // web socket which is closed, not our websocket->open comm proxy.\n",
       "    ws_proxy.onopen();\n",
       "\n",
       "    fig.parent_element = element;\n",
       "    fig.cell_info = mpl.find_output_cell(\"<div id='\" + id + \"'></div>\");\n",
       "    if (!fig.cell_info) {\n",
       "        console.error('Failed to find cell for figure', id, fig);\n",
       "        return;\n",
       "    }\n",
       "    fig.cell_info[0].output_area.element.on(\n",
       "        'cleared',\n",
       "        { fig: fig },\n",
       "        fig._remove_fig_handler\n",
       "    );\n",
       "};\n",
       "\n",
       "mpl.figure.prototype.handle_close = function (fig, msg) {\n",
       "    var width = fig.canvas.width / fig.ratio;\n",
       "    fig.cell_info[0].output_area.element.off(\n",
       "        'cleared',\n",
       "        fig._remove_fig_handler\n",
       "    );\n",
       "    fig.resizeObserverInstance.unobserve(fig.canvas_div);\n",
       "\n",
       "    // Update the output cell to use the data from the current canvas.\n",
       "    fig.push_to_output();\n",
       "    var dataURL = fig.canvas.toDataURL();\n",
       "    // Re-enable the keyboard manager in IPython - without this line, in FF,\n",
       "    // the notebook keyboard shortcuts fail.\n",
       "    IPython.keyboard_manager.enable();\n",
       "    fig.parent_element.innerHTML =\n",
       "        '<img src=\"' + dataURL + '\" width=\"' + width + '\">';\n",
       "    fig.close_ws(fig, msg);\n",
       "};\n",
       "\n",
       "mpl.figure.prototype.close_ws = function (fig, msg) {\n",
       "    fig.send_message('closing', msg);\n",
       "    // fig.ws.close()\n",
       "};\n",
       "\n",
       "mpl.figure.prototype.push_to_output = function (_remove_interactive) {\n",
       "    // Turn the data on the canvas into data in the output cell.\n",
       "    var width = this.canvas.width / this.ratio;\n",
       "    var dataURL = this.canvas.toDataURL();\n",
       "    this.cell_info[1]['text/html'] =\n",
       "        '<img src=\"' + dataURL + '\" width=\"' + width + '\">';\n",
       "};\n",
       "\n",
       "mpl.figure.prototype.updated_canvas_event = function () {\n",
       "    // Tell IPython that the notebook contents must change.\n",
       "    IPython.notebook.set_dirty(true);\n",
       "    this.send_message('ack', {});\n",
       "    var fig = this;\n",
       "    // Wait a second, then push the new image to the DOM so\n",
       "    // that it is saved nicely (might be nice to debounce this).\n",
       "    setTimeout(function () {\n",
       "        fig.push_to_output();\n",
       "    }, 1000);\n",
       "};\n",
       "\n",
       "mpl.figure.prototype._init_toolbar = function () {\n",
       "    var fig = this;\n",
       "\n",
       "    var toolbar = document.createElement('div');\n",
       "    toolbar.classList = 'btn-toolbar';\n",
       "    this.root.appendChild(toolbar);\n",
       "\n",
       "    function on_click_closure(name) {\n",
       "        return function (_event) {\n",
       "            return fig.toolbar_button_onclick(name);\n",
       "        };\n",
       "    }\n",
       "\n",
       "    function on_mouseover_closure(tooltip) {\n",
       "        return function (event) {\n",
       "            if (!event.currentTarget.disabled) {\n",
       "                return fig.toolbar_button_onmouseover(tooltip);\n",
       "            }\n",
       "        };\n",
       "    }\n",
       "\n",
       "    fig.buttons = {};\n",
       "    var buttonGroup = document.createElement('div');\n",
       "    buttonGroup.classList = 'btn-group';\n",
       "    var button;\n",
       "    for (var toolbar_ind in mpl.toolbar_items) {\n",
       "        var name = mpl.toolbar_items[toolbar_ind][0];\n",
       "        var tooltip = mpl.toolbar_items[toolbar_ind][1];\n",
       "        var image = mpl.toolbar_items[toolbar_ind][2];\n",
       "        var method_name = mpl.toolbar_items[toolbar_ind][3];\n",
       "\n",
       "        if (!name) {\n",
       "            /* Instead of a spacer, we start a new button group. */\n",
       "            if (buttonGroup.hasChildNodes()) {\n",
       "                toolbar.appendChild(buttonGroup);\n",
       "            }\n",
       "            buttonGroup = document.createElement('div');\n",
       "            buttonGroup.classList = 'btn-group';\n",
       "            continue;\n",
       "        }\n",
       "\n",
       "        button = fig.buttons[name] = document.createElement('button');\n",
       "        button.classList = 'btn btn-default';\n",
       "        button.href = '#';\n",
       "        button.title = name;\n",
       "        button.innerHTML = '<i class=\"fa ' + image + ' fa-lg\"></i>';\n",
       "        button.addEventListener('click', on_click_closure(method_name));\n",
       "        button.addEventListener('mouseover', on_mouseover_closure(tooltip));\n",
       "        buttonGroup.appendChild(button);\n",
       "    }\n",
       "\n",
       "    if (buttonGroup.hasChildNodes()) {\n",
       "        toolbar.appendChild(buttonGroup);\n",
       "    }\n",
       "\n",
       "    // Add the status bar.\n",
       "    var status_bar = document.createElement('span');\n",
       "    status_bar.classList = 'mpl-message pull-right';\n",
       "    toolbar.appendChild(status_bar);\n",
       "    this.message = status_bar;\n",
       "\n",
       "    // Add the close button to the window.\n",
       "    var buttongrp = document.createElement('div');\n",
       "    buttongrp.classList = 'btn-group inline pull-right';\n",
       "    button = document.createElement('button');\n",
       "    button.classList = 'btn btn-mini btn-primary';\n",
       "    button.href = '#';\n",
       "    button.title = 'Stop Interaction';\n",
       "    button.innerHTML = '<i class=\"fa fa-power-off icon-remove icon-large\"></i>';\n",
       "    button.addEventListener('click', function (_evt) {\n",
       "        fig.handle_close(fig, {});\n",
       "    });\n",
       "    button.addEventListener(\n",
       "        'mouseover',\n",
       "        on_mouseover_closure('Stop Interaction')\n",
       "    );\n",
       "    buttongrp.appendChild(button);\n",
       "    var titlebar = this.root.querySelector('.ui-dialog-titlebar');\n",
       "    titlebar.insertBefore(buttongrp, titlebar.firstChild);\n",
       "};\n",
       "\n",
       "mpl.figure.prototype._remove_fig_handler = function (event) {\n",
       "    var fig = event.data.fig;\n",
       "    if (event.target !== this) {\n",
       "        // Ignore bubbled events from children.\n",
       "        return;\n",
       "    }\n",
       "    fig.close_ws(fig, {});\n",
       "};\n",
       "\n",
       "mpl.figure.prototype._root_extra_style = function (el) {\n",
       "    el.style.boxSizing = 'content-box'; // override notebook setting of border-box.\n",
       "};\n",
       "\n",
       "mpl.figure.prototype._canvas_extra_style = function (el) {\n",
       "    // this is important to make the div 'focusable\n",
       "    el.setAttribute('tabindex', 0);\n",
       "    // reach out to IPython and tell the keyboard manager to turn it's self\n",
       "    // off when our div gets focus\n",
       "\n",
       "    // location in version 3\n",
       "    if (IPython.notebook.keyboard_manager) {\n",
       "        IPython.notebook.keyboard_manager.register_events(el);\n",
       "    } else {\n",
       "        // location in version 2\n",
       "        IPython.keyboard_manager.register_events(el);\n",
       "    }\n",
       "};\n",
       "\n",
       "mpl.figure.prototype._key_event_extra = function (event, _name) {\n",
       "    // Check for shift+enter\n",
       "    if (event.shiftKey && event.which === 13) {\n",
       "        this.canvas_div.blur();\n",
       "        // select the cell after this one\n",
       "        var index = IPython.notebook.find_cell_index(this.cell_info[0]);\n",
       "        IPython.notebook.select(index + 1);\n",
       "    }\n",
       "};\n",
       "\n",
       "mpl.figure.prototype.handle_save = function (fig, _msg) {\n",
       "    fig.ondownload(fig, null);\n",
       "};\n",
       "\n",
       "mpl.find_output_cell = function (html_output) {\n",
       "    // Return the cell and output element which can be found *uniquely* in the notebook.\n",
       "    // Note - this is a bit hacky, but it is done because the \"notebook_saving.Notebook\"\n",
       "    // IPython event is triggered only after the cells have been serialised, which for\n",
       "    // our purposes (turning an active figure into a static one), is too late.\n",
       "    var cells = IPython.notebook.get_cells();\n",
       "    var ncells = cells.length;\n",
       "    for (var i = 0; i < ncells; i++) {\n",
       "        var cell = cells[i];\n",
       "        if (cell.cell_type === 'code') {\n",
       "            for (var j = 0; j < cell.output_area.outputs.length; j++) {\n",
       "                var data = cell.output_area.outputs[j];\n",
       "                if (data.data) {\n",
       "                    // IPython >= 3 moved mimebundle to data attribute of output\n",
       "                    data = data.data;\n",
       "                }\n",
       "                if (data['text/html'] === html_output) {\n",
       "                    return [cell, data, j];\n",
       "                }\n",
       "            }\n",
       "        }\n",
       "    }\n",
       "};\n",
       "\n",
       "// Register the function which deals with the matplotlib target/channel.\n",
       "// The kernel may be null if the page has been refreshed.\n",
       "if (IPython.notebook.kernel !== null) {\n",
       "    IPython.notebook.kernel.comm_manager.register_target(\n",
       "        'matplotlib',\n",
       "        mpl.mpl_figure_comm\n",
       "    );\n",
       "}\n"
      ],
      "text/plain": [
       "<IPython.core.display.Javascript object>"
      ]
     },
     "metadata": {},
     "output_type": "display_data"
    },
    {
     "data": {
      "text/html": [
       "<img src=\"data:image/png;base64,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\" width=\"640\">"
      ],
      "text/plain": [
       "<IPython.core.display.HTML object>"
      ]
     },
     "metadata": {},
     "output_type": "display_data"
    }
   ],
   "source": [
    "cols = plt.rcParams[\"axes.prop_cycle\"].by_key()[\"color\"]\n",
    "\n",
    "plt.figure()\n",
    "n = 1\n",
    "for k in range(7):\n",
    "    plt.plot(rs, np.mean(pk[:, n, k, :], axis=0), c=cols[k], label=r\"$k = {}$\".format(k))\n",
    "    for i in range(101):\n",
    "        plt.plot(rs, pk[i, n, k, :], c=cols[k], lw=0.05)\n",
    "\n",
    "plt.legend(frameon=False)\n",
    "plt.xlabel(r\"$r~\\left[\\mathrm{Mpc}\\right]$\")\n",
    "plt.ylabel(r\"$P\\left(k | V = 4 \\pi r^3 / 3\\right)$\")\n",
    "# plt.savefig(\"../plots/test.png\", dpi=450)\n",
    "plt.show()"
   ]
  },
  {
   "cell_type": "code",
   "execution_count": null,
   "id": "6999c90d",
   "metadata": {},
   "outputs": [],
   "source": []
  },
  {
   "cell_type": "code",
   "execution_count": null,
   "id": "20bbeb54",
   "metadata": {
    "ExecuteTime": {
     "end_time": "2023-04-03T17:10:30.078450Z",
     "start_time": "2023-04-03T17:10:29.171089Z"
    }
   },
   "outputs": [],
   "source": [
    "n = 2\n",
    "k = 1\n",
    "\n",
    "x = cdf[:, n, k - 1, :] - cdf[:, n, k, :]\n",
    "\n",
    "plt.figure()\n",
    "for i in range(101):\n",
    "    plt.plot(rs, x[i, :])\n",
    "\n",
    "plt.xscale(\"log\")\n",
    "\n",
    "plt.show()"
   ]
  },
  {
   "cell_type": "code",
   "execution_count": null,
   "id": "86091fcc",
   "metadata": {
    "ExecuteTime": {
     "end_time": "2023-04-03T17:13:07.495144Z",
     "start_time": "2023-04-03T17:13:06.635811Z"
    }
   },
   "outputs": [],
   "source": [
    "files = knnreader.cross_files(7444, \"/mnt/extraspace/rstiskalek/csiborg/knn/cross/\")"
   ]
  },
  {
   "cell_type": "code",
   "execution_count": null,
   "id": "c0917bd5",
   "metadata": {
    "ExecuteTime": {
     "end_time": "2023-04-03T17:13:11.011391Z",
     "start_time": "2023-04-03T17:13:07.496523Z"
    }
   },
   "outputs": [],
   "source": [
    "ks = [0, 1, 2, 3, 4, 5, 6, 7]\n",
    "rs, cross, threshold = knnreader.read(files, ks, rmin=0.5)"
   ]
  },
  {
   "cell_type": "code",
   "execution_count": null,
   "id": "beba86db",
   "metadata": {
    "ExecuteTime": {
     "end_time": "2023-04-03T17:13:11.152680Z",
     "start_time": "2023-04-03T17:13:11.013209Z"
    }
   },
   "outputs": [],
   "source": [
    "n = 0\n",
    "k = 1\n",
    "\n",
    "plt.figure()\n",
    "for i in range(100):\n",
    "    plt.plot(rs, cross[i, n, k - 1, :] - cross[i, n, k, :])\n",
    "\n",
    "plt.xscale(\"log\")\n",
    "plt.axvline(2.65 / 0.705)\n",
    "plt.show()"
   ]
  },
  {
   "cell_type": "code",
   "execution_count": null,
   "id": "adf96c3b",
   "metadata": {
    "ExecuteTime": {
     "end_time": "2023-04-03T14:25:45.275844Z",
     "start_time": "2023-04-03T14:25:44.855207Z"
    }
   },
   "outputs": [],
   "source": [
    "\"/mnt/extraspace/hdesmond/ramses_out_7444/output_00950/clump_00950.dat\""
   ]
  },
  {
   "cell_type": "code",
   "execution_count": null,
   "id": "8179c3e0",
   "metadata": {},
   "outputs": [],
   "source": []
  },
  {
   "cell_type": "code",
   "execution_count": null,
   "id": "f803105a",
   "metadata": {},
   "outputs": [],
   "source": []
  },
  {
   "cell_type": "code",
   "execution_count": null,
   "id": "55544ddd",
   "metadata": {},
   "outputs": [],
   "source": []
  },
  {
   "cell_type": "code",
   "execution_count": null,
   "id": "3c7add55",
   "metadata": {},
   "outputs": [],
   "source": []
  },
  {
   "cell_type": "code",
   "execution_count": null,
   "id": "75a5e6f7",
   "metadata": {},
   "outputs": [],
   "source": []
  },
  {
   "cell_type": "code",
   "execution_count": null,
   "id": "7b6d813b",
   "metadata": {},
   "outputs": [],
   "source": []
  },
  {
   "cell_type": "code",
   "execution_count": null,
   "id": "19115f4c",
   "metadata": {},
   "outputs": [],
   "source": []
  },
  {
   "cell_type": "code",
   "execution_count": null,
   "id": "4218b673",
   "metadata": {
    "ExecuteTime": {
     "end_time": "2023-04-01T08:27:07.868868Z",
     "start_time": "2023-04-01T08:27:04.088778Z"
    }
   },
   "outputs": [],
   "source": [
    "cat1 = csiborgtools.read.HaloCatalogue(7444, min_mass=1e13, max_dist=155 / 0.705)\n",
    "cat2 = csiborgtools.read.HaloCatalogue(7468, min_mass=1e13, max_dist=155 / 0.705)"
   ]
  },
  {
   "cell_type": "code",
   "execution_count": null,
   "id": "5ff7a1b6",
   "metadata": {
    "ExecuteTime": {
     "end_time": "2023-04-01T08:27:07.923418Z",
     "start_time": "2023-04-01T08:27:07.870519Z"
    }
   },
   "outputs": [],
   "source": [
    "knncdf = csiborgtools.match.kNN_CDF()\n",
    "\n",
    "\n",
    "knn1 = NearestNeighbors()\n",
    "knn1.fit(cat1.positions)\n",
    "\n",
    "knn2 = NearestNeighbors()\n",
    "knn2.fit(cat2.positions)\n",
    "\n",
    "# rs, cdf = knncdf(knn, nneighbours=2, Rmax=155 / 0.705, rmin=0.01, rmax=100,\n",
    "#                   nsamples=int(1e6), neval=int(1e4), random_state=42, batch_size=int(1e6))"
   ]
  },
  {
   "cell_type": "code",
   "execution_count": null,
   "id": "88a31951",
   "metadata": {
    "ExecuteTime": {
     "end_time": "2023-04-01T08:46:56.273595Z",
     "start_time": "2023-04-01T08:46:56.088408Z"
    }
   },
   "outputs": [],
   "source": [
    "!ls /mnt/extraspace/rstiskalek/csiborg/knn/cross/knncdf_7444_7468.p"
   ]
  },
  {
   "cell_type": "code",
   "execution_count": null,
   "id": "b7c2d465",
   "metadata": {
    "ExecuteTime": {
     "end_time": "2023-04-01T10:05:26.294670Z",
     "start_time": "2023-04-01T10:05:25.954223Z"
    }
   },
   "outputs": [],
   "source": [
    "from glob import glob"
   ]
  },
  {
   "cell_type": "code",
   "execution_count": null,
   "id": "6083fcbe",
   "metadata": {
    "ExecuteTime": {
     "end_time": "2023-04-01T10:05:52.758709Z",
     "start_time": "2023-04-01T10:05:52.705627Z"
    }
   },
   "outputs": [],
   "source": [
    "files = glob(\"/mnt/extraspace/rstiskalek/csiborg/knn/cross/*\")"
   ]
  },
  {
   "cell_type": "code",
   "execution_count": null,
   "id": "6d6b9d57",
   "metadata": {
    "ExecuteTime": {
     "end_time": "2023-04-01T10:06:00.023427Z",
     "start_time": "2023-04-01T10:05:59.645149Z"
    }
   },
   "outputs": [],
   "source": []
  },
  {
   "cell_type": "code",
   "execution_count": null,
   "id": "980f74df",
   "metadata": {
    "ExecuteTime": {
     "end_time": "2023-04-01T10:12:49.924557Z",
     "start_time": "2023-04-01T10:12:49.714545Z"
    }
   },
   "outputs": [],
   "source": [
    "cols = plt.rcParams[\"axes.prop_cycle\"].by_key()[\"color\"]\n",
    "\n",
    "plt.figure()\n",
    "for file in files:\n",
    "    d = joblib.load(file)\n",
    "    mask = d[\"rs\"] > 0.1\n",
    "    plt.plot(d[\"rs\"][mask], d[\"corr_0\"][0, mask], c=cols[0], lw=0.4)\n",
    "\n",
    "plt.xscale(\"log\")\n",
    "plt.axvline(2.65 / 0.705, lw=0.8, c=\"red\", ls=\"--\")\n",
    "# plt.yscale(\"log\")\n",
    "\n",
    "plt.show()"
   ]
  },
  {
   "cell_type": "code",
   "execution_count": null,
   "id": "997e8f91",
   "metadata": {},
   "outputs": [],
   "source": []
  },
  {
   "cell_type": "code",
   "execution_count": null,
   "id": "25936419",
   "metadata": {
    "ExecuteTime": {
     "end_time": "2023-04-01T08:51:11.896378Z",
     "start_time": "2023-04-01T08:51:11.865150Z"
    }
   },
   "outputs": [],
   "source": [
    "5500 / comb(5, 3)"
   ]
  },
  {
   "cell_type": "code",
   "execution_count": null,
   "id": "043a93ff",
   "metadata": {
    "ExecuteTime": {
     "end_time": "2023-04-01T08:50:37.181588Z",
     "start_time": "2023-04-01T08:50:36.718438Z"
    }
   },
   "outputs": [],
   "source": [
    "plt.figure()\n",
    "plt.plot(d[\"rs\"], d[\"corr_0\"][1, :])\n",
    "plt.plot(d[\"rs\"], d[\"corr_1\"][1, :])\n",
    "plt.plot(d[\"rs\"], d[\"corr_2\"][1, :])\n",
    "\n",
    "# plt.yscale(\"log\")\n",
    "# plt.xscale(\"log\")\n",
    "plt.show()"
   ]
  },
  {
   "cell_type": "code",
   "execution_count": null,
   "id": "279d8e58",
   "metadata": {},
   "outputs": [],
   "source": []
  },
  {
   "cell_type": "code",
   "execution_count": null,
   "id": "d08b0dc3",
   "metadata": {
    "ExecuteTime": {
     "end_time": "2023-04-01T08:27:19.271922Z",
     "start_time": "2023-04-01T08:27:07.925222Z"
    }
   },
   "outputs": [],
   "source": [
    "# rs, cdf = knncdf(knn1, nneighbours=2, Rmax=155 / 0.705, rmin=0.01, rmax=100,\n",
    "#                  nsamples=int(1e6), neval=int(1e4), random_state=42, batch_size=int(1e6))\n",
    "\n",
    "rs, cdf0, cdf1, joint_cdf = knncdf.joint(knn1, knn2, nneighbours=8, Rmax=155 / 0.705,\n",
    "                                         rmin=0.01, rmax=100, nsamples=int(1e6), neval=int(1e4),\n",
    "                                         random_state=42, batch_size=int(1e6))"
   ]
  },
  {
   "cell_type": "code",
   "execution_count": null,
   "id": "0866fe23",
   "metadata": {
    "ExecuteTime": {
     "end_time": "2023-04-01T08:27:19.436097Z",
     "start_time": "2023-04-01T08:27:19.397998Z"
    }
   },
   "outputs": [],
   "source": [
    "cdf0 = knncdf.clipped_cdf(cdf0)\n",
    "cdf1 = knncdf.clipped_cdf(cdf1)\n",
    "joint_cdf = knncdf.clipped_cdf(joint_cdf)"
   ]
  },
  {
   "cell_type": "code",
   "execution_count": null,
   "id": "b0649b7e",
   "metadata": {
    "ExecuteTime": {
     "end_time": "2023-04-01T08:27:59.413449Z",
     "start_time": "2023-04-01T08:27:59.244281Z"
    }
   },
   "outputs": [],
   "source": [
    "corr = knncdf.joint_to_corr(cdf0, cdf1, joint_cdf)"
   ]
  },
  {
   "cell_type": "code",
   "execution_count": null,
   "id": "b4d28785",
   "metadata": {
    "ExecuteTime": {
     "end_time": "2023-04-01T08:33:12.811065Z",
     "start_time": "2023-04-01T08:33:12.386639Z"
    }
   },
   "outputs": [],
   "source": [
    "ics = [7444, 7468, 7492, 7516, 7540, 7564, 7588, 7612, 7636, 7660, 7684,\n",
    "       7708, 7732, 7756, 7780, 7804, 7828, 7852, 7876, 7900, 7924, 7948,\n",
    "       7972, 7996, 8020, 8044, 8068, 8092, 8116, 8140, 8164, 8188, 8212,\n",
    "       8236, 8260, 8284, 8308, 8332, 8356, 8380, 8404, 8428, 8452, 8476,\n",
    "       8500, 8524, 8548, 8572, 8596, 8620, 8644, 8668, 8692, 8716, 8740,\n",
    "       8764, 8788, 8812, 8836, 8860, 8884, 8908, 8932, 8956, 8980, 9004,\n",
    "       9028, 9052, 9076, 9100, 9124, 9148, 9172, 9196, 9220, 9244, 9268,\n",
    "       9292, 9316, 9340, 9364, 9388, 9412, 9436, 9460, 9484, 9508, 9532,\n",
    "       9556, 9580, 9604, 9628, 9652, 9676, 9700, 9724, 9748, 9772, 9796,\n",
    "       9820, 9844]"
   ]
  },
  {
   "cell_type": "code",
   "execution_count": null,
   "id": "aaac3eff",
   "metadata": {
    "ExecuteTime": {
     "end_time": "2023-04-01T08:34:00.873304Z",
     "start_time": "2023-04-01T08:34:00.842613Z"
    }
   },
   "outputs": [],
   "source": [
    "from scipy.special import comb\n",
    "\n",
    "from itertools import combinations\n",
    "# for subset in itertools.combinations(stuff, L):"
   ]
  },
  {
   "cell_type": "code",
   "execution_count": null,
   "id": "042fe713",
   "metadata": {
    "ExecuteTime": {
     "end_time": "2023-04-01T08:34:21.387439Z",
     "start_time": "2023-04-01T08:34:21.325627Z"
    }
   },
   "outputs": [],
   "source": [
    "list(combinations(ics, 2))"
   ]
  },
  {
   "cell_type": "code",
   "execution_count": null,
   "id": "762ec153",
   "metadata": {},
   "outputs": [],
   "source": []
  },
  {
   "cell_type": "code",
   "execution_count": null,
   "id": "8c43f012",
   "metadata": {
    "ExecuteTime": {
     "end_time": "2023-04-01T08:33:18.308219Z",
     "start_time": "2023-04-01T08:33:18.275965Z"
    }
   },
   "outputs": [],
   "source": [
    "comb()"
   ]
  },
  {
   "cell_type": "code",
   "execution_count": null,
   "id": "aaca64f3",
   "metadata": {},
   "outputs": [],
   "source": []
  },
  {
   "cell_type": "code",
   "execution_count": null,
   "id": "9fb9e08e",
   "metadata": {
    "ExecuteTime": {
     "end_time": "2023-04-01T08:28:35.326570Z",
     "start_time": "2023-04-01T08:28:35.158664Z"
    }
   },
   "outputs": [],
   "source": [
    "plt.figure()\n",
    "\n",
    "# plt.plot(rs, knncdf.peaked_cdf(cdf0[0, :]))\n",
    "# plt.plot(rs, knncdf.peaked_cdf(cdf1[0, :]))\n",
    "# plt.plot(rs, knncdf.peaked_cdf(joint_cdf[0, :]))\n",
    "for i in range(8):\n",
    "    plt.plot(rs, corr[i, :])\n",
    "\n",
    "\n",
    "# plt.yscale(\"log\")\n",
    "# plt.xscale(\"log\")\n",
    "plt.axvline(2.65 / 0.705, c=\"red\", ls=\"--\")\n",
    "\n",
    "plt.show()"
   ]
  },
  {
   "cell_type": "code",
   "execution_count": null,
   "id": "f295a0f9",
   "metadata": {},
   "outputs": [],
   "source": []
  },
  {
   "cell_type": "code",
   "execution_count": null,
   "id": "0d5f3d02",
   "metadata": {
    "ExecuteTime": {
     "end_time": "2023-04-01T07:20:34.202874Z",
     "start_time": "2023-04-01T07:20:28.353637Z"
    }
   },
   "outputs": [],
   "source": [
    "dist1, dist2 = knncdf.joint(knn1, knn2, nneighbours=2, Rmax=155 / 0.705, rmin=0.01, rmax=100,\n",
    "             nsamples=int(1e6), neval=int(1e4), random_state=42, batch_size=int(1e6))"
   ]
  },
  {
   "cell_type": "code",
   "execution_count": null,
   "id": "a76c8124",
   "metadata": {
    "ExecuteTime": {
     "end_time": "2023-04-01T07:20:41.074933Z",
     "start_time": "2023-04-01T07:20:41.041448Z"
    }
   },
   "outputs": [],
   "source": []
  },
  {
   "cell_type": "code",
   "execution_count": null,
   "id": "127b91a8",
   "metadata": {},
   "outputs": [],
   "source": []
  },
  {
   "cell_type": "code",
   "execution_count": null,
   "id": "8b9a8cf0",
   "metadata": {},
   "outputs": [],
   "source": []
  },
  {
   "cell_type": "code",
   "execution_count": null,
   "id": "a1825f00",
   "metadata": {
    "ExecuteTime": {
     "end_time": "2023-04-01T06:01:29.388586Z",
     "start_time": "2023-04-01T06:01:29.321025Z"
    },
    "scrolled": false
   },
   "outputs": [],
   "source": [
    "plt.figure()\n",
    "plt.plot(rs, knncdf.peaked_cdf(cdf[0, :]))\n",
    "\n",
    "plt.yscale(\"log\" )\n",
    "plt.xscale(\"log\")\n",
    "plt.show()"
   ]
  },
  {
   "cell_type": "code",
   "execution_count": null,
   "id": "289549a0",
   "metadata": {
    "ExecuteTime": {
     "end_time": "2023-03-31T22:55:20.690887Z",
     "start_time": "2023-03-31T22:55:20.656550Z"
    }
   },
   "outputs": [],
   "source": [
    "mask"
   ]
  },
  {
   "cell_type": "code",
   "execution_count": null,
   "id": "7a8c5202",
   "metadata": {
    "ExecuteTime": {
     "end_time": "2023-03-31T22:54:52.330633Z",
     "start_time": "2023-03-31T22:54:52.299548Z"
    }
   },
   "outputs": [],
   "source": []
  },
  {
   "cell_type": "code",
   "execution_count": null,
   "id": "46f54897",
   "metadata": {
    "ExecuteTime": {
     "end_time": "2023-03-31T22:54:25.138813Z",
     "start_time": "2023-03-31T22:54:25.105044Z"
    }
   },
   "outputs": [],
   "source": [
    "dist"
   ]
  },
  {
   "cell_type": "code",
   "execution_count": null,
   "id": "58806ab9",
   "metadata": {},
   "outputs": [],
   "source": []
  },
  {
   "cell_type": "code",
   "execution_count": null,
   "id": "c59b3a19",
   "metadata": {},
   "outputs": [],
   "source": []
  },
  {
   "cell_type": "code",
   "execution_count": null,
   "id": "e345945c",
   "metadata": {
    "ExecuteTime": {
     "end_time": "2023-03-31T09:35:49.059172Z",
     "start_time": "2023-03-31T09:35:42.817291Z"
    }
   },
   "outputs": [],
   "source": [
    "m1 = (rs > 1) & (rs < 35)\n",
    "\n",
    "fig, axs = plt.subplots(ncols=3, figsize=(6.4 * 1.5, 4.8), sharey=True)\n",
    "fig.subplots_adjust(wspace=0)\n",
    "for k in range(3):\n",
    "    for n in range(len(ics)):\n",
    "        m = m1 & (cdfs[n, k, :] > 1e-3)\n",
    "        axs[k].plot(rs[m], cdfs[n, k, m], c=\"black\", lw=0.05)\n",
    "\n",
    "    axs[k].set_xscale(\"log\")\n",
    "    axs[k].set_yscale(\"log\")\n",
    "    axs[k].set_title(r\"$k = {}$\".format(k))\n",
    "    axs[k].set_xlabel(r\"$r~\\left[\\mathrm{Mpc}\\right]$\")\n",
    "\n",
    "axs[0].set_ylabel(r\"Peaked CDF\")\n",
    "\n",
    "plt.tight_layout(w_pad=0)\n",
    "fig.savefig(\"../plots/peaked_cdf.png\", dpi=450)\n",
    "fig.show()"
   ]
  },
  {
   "cell_type": "code",
   "execution_count": null,
   "id": "9f8786c0",
   "metadata": {
    "ExecuteTime": {
     "end_time": "2023-03-31T09:50:10.103650Z",
     "start_time": "2023-03-31T09:50:02.221741Z"
    }
   },
   "outputs": [],
   "source": [
    "m = (rs > 0.5) & (rs < 35)\n",
    "\n",
    "fig, axs = plt.subplots(ncols=3, figsize=(6.4 * 1.5, 4.8), sharey=True)\n",
    "fig.subplots_adjust(wspace=0)\n",
    "for k in range(3):\n",
    "    mu = np.nanmean(cdfs[:, k, :], axis=0)\n",
    "\n",
    "    for n in range(len(ics)):\n",
    "        axs[k].plot(rs[m], (cdfs[n, k, :] / mu)[m], c=\"black\", lw=0.1)\n",
    "\n",
    "    axs[k].set_ylim(0.5, 1.5)\n",
    "    axs[k].axhline(1, ls=\"--\", c=\"red\", zorder=0)\n",
    "    axs[k].axvline(2.65 / 0.705, ls=\"--\", c=\"red\", zorder=0)\n",
    "    axs[k].set_xscale(\"log\")\n",
    "    axs[k].set_xlabel(r\"$r~\\left[\\mathrm{Mpc}\\right]$\")\n",
    "    axs[k].set_title(r\"$k = {}$\".format(k))\n",
    "    \n",
    "axs[0].set_ylabel(r\"Relative peaked CDF\")\n",
    "plt.tight_layout(w_pad=0)\n",
    "fig.savefig(\"../plots/peaked_cdf_ratios.png\", dpi=450)\n",
    "fig.show()"
   ]
  },
  {
   "cell_type": "code",
   "execution_count": null,
   "id": "2f64cec1",
   "metadata": {
    "ExecuteTime": {
     "end_time": "2023-03-30T15:46:31.532259Z",
     "start_time": "2023-03-30T15:46:30.977449Z"
    }
   },
   "outputs": [],
   "source": [
    "plt.figure()\n",
    "k = 2\n",
    "mu = np.nanmean(cdfs[:, k, :], axis=0)\n",
    "# plt.plot(rs, mu, c=\"black\")\n",
    "for i in range(len(ics)):\n",
    "    plt.plot(rs, cdfs[i, k, :] / mu)\n",
    "\n",
    "\n",
    "plt.ylim(0.75, 1.25)\n",
    "plt.axhline(1, ls=\"--\", c=\"black\")\n",
    "plt.xscale(\"log\")\n",
    "# plt.yscale(\"log\")\n",
    "plt.show()"
   ]
  },
  {
   "cell_type": "code",
   "execution_count": null,
   "id": "a6784766",
   "metadata": {},
   "outputs": [],
   "source": []
  },
  {
   "cell_type": "code",
   "execution_count": null,
   "id": "b416efb3",
   "metadata": {},
   "outputs": [],
   "source": []
  },
  {
   "cell_type": "code",
   "execution_count": null,
   "id": "e650fe2c",
   "metadata": {},
   "outputs": [],
   "source": []
  },
  {
   "cell_type": "code",
   "execution_count": null,
   "id": "1311187d",
   "metadata": {},
   "outputs": [],
   "source": []
  },
  {
   "cell_type": "code",
   "execution_count": null,
   "id": "03e49a11",
   "metadata": {
    "ExecuteTime": {
     "end_time": "2023-03-30T14:58:29.937514Z",
     "start_time": "2023-03-30T14:58:29.530552Z"
    }
   },
   "outputs": [],
   "source": [
    "x.shape"
   ]
  },
  {
   "cell_type": "code",
   "execution_count": null,
   "id": "24578cba",
   "metadata": {},
   "outputs": [],
   "source": []
  },
  {
   "cell_type": "code",
   "execution_count": null,
   "id": "b0024bbf",
   "metadata": {},
   "outputs": [],
   "source": []
  },
  {
   "cell_type": "code",
   "execution_count": null,
   "id": "6dc55410",
   "metadata": {
    "ExecuteTime": {
     "end_time": "2023-03-30T14:41:24.290602Z",
     "start_time": "2023-03-30T14:41:16.204679Z"
    }
   },
   "outputs": [],
   "source": [
    "dist0, __ = knn0.kneighbors(X, 3)\n",
    "distx, __ = knnx.kneighbors(X, 3)"
   ]
  },
  {
   "cell_type": "code",
   "execution_count": null,
   "id": "11508c3c",
   "metadata": {
    "ExecuteTime": {
     "end_time": "2023-03-30T14:41:24.560538Z",
     "start_time": "2023-03-30T14:41:24.292674Z"
    }
   },
   "outputs": [],
   "source": [
    "x0, y0 = knncdf.peaked_cdf_from_samples(dist0[:, 0], 0.5, 20, neval=10000)\n",
    "xx, yx = knncdf.peaked_cdf_from_samples(distx[:, 0], 0.5, 20, neval=10000)"
   ]
  },
  {
   "cell_type": "code",
   "execution_count": null,
   "id": "404501ad",
   "metadata": {
    "ExecuteTime": {
     "end_time": "2023-03-30T14:41:24.598933Z",
     "start_time": "2023-03-30T14:41:24.562062Z"
    }
   },
   "outputs": [],
   "source": [
    "distx[:, 0].min()"
   ]
  },
  {
   "cell_type": "code",
   "execution_count": null,
   "id": "43e08969",
   "metadata": {
    "ExecuteTime": {
     "end_time": "2023-03-30T14:46:10.262865Z",
     "start_time": "2023-03-30T14:46:09.486658Z"
    }
   },
   "outputs": [],
   "source": [
    "plt.figure()\n",
    "plt.plot(x0, y0)\n",
    "plt.plot(xx, yx)\n",
    "\n",
    "plt.yscale(\"log\")\n",
    "plt.xscale(\"log\")\n",
    "plt.show()"
   ]
  },
  {
   "cell_type": "code",
   "execution_count": null,
   "id": "39547a75",
   "metadata": {},
   "outputs": [],
   "source": []
  },
  {
   "cell_type": "code",
   "execution_count": null,
   "id": "9e160b38",
   "metadata": {
    "ExecuteTime": {
     "end_time": "2023-03-30T13:02:02.033125Z",
     "start_time": "2023-03-30T13:02:00.674878Z"
    }
   },
   "outputs": [],
   "source": [
    "plt.figure()\n",
    "\n",
    "for i in range(3):\n",
    "    plt.plot(*knncdf.cdf_from_samples(dist0[:, i], 1, 25))\n",
    "    plt.plot(*knncdf.cdf_from_samples(distx[:, i], 1, 25))\n",
    "\n",
    "# plt.xlim(0.5, 25)\n",
    "\n",
    "plt.yscale(\"log\")\n",
    "plt.xscale(\"log\")\n",
    "plt.xlabel(r\"$r~\\left[\\mathrm{Mpc}\\right]$\")\n",
    "\n",
    "\n",
    "\n",
    "plt.show()"
   ]
  },
  {
   "cell_type": "code",
   "execution_count": null,
   "id": "4bfb65d8",
   "metadata": {},
   "outputs": [],
   "source": []
  },
  {
   "cell_type": "code",
   "execution_count": null,
   "id": "4703d81c",
   "metadata": {
    "ExecuteTime": {
     "end_time": "2023-03-30T12:13:35.958444Z",
     "start_time": "2023-03-30T12:13:35.924241Z"
    }
   },
   "outputs": [],
   "source": [
    "x = dist[:, 0]\n",
    "q = np.linspace(0, 100, int(x.size / 5))\n",
    "\n",
    "p = np.percentile(x, q)"
   ]
  },
  {
   "cell_type": "code",
   "execution_count": null,
   "id": "b054c6df",
   "metadata": {
    "ExecuteTime": {
     "end_time": "2023-03-30T12:16:50.052225Z",
     "start_time": "2023-03-30T12:16:50.020395Z"
    }
   },
   "outputs": [],
   "source": [
    "y = np.sort(x)\n",
    "\n",
    "yy = np.arange(y.size) / y.size"
   ]
  },
  {
   "cell_type": "code",
   "execution_count": null,
   "id": "5445c964",
   "metadata": {
    "ExecuteTime": {
     "end_time": "2023-03-30T12:16:53.599925Z",
     "start_time": "2023-03-30T12:16:53.521266Z"
    }
   },
   "outputs": [],
   "source": [
    "plt.figure()\n",
    "plt.plot(p, q / 100)\n",
    "\n",
    "plt.plot(y, yy)\n",
    "\n",
    "# plt.yscale(\"log\")\n",
    "plt.show()"
   ]
  },
  {
   "cell_type": "code",
   "execution_count": null,
   "id": "87fe5874",
   "metadata": {},
   "outputs": [],
   "source": []
  },
  {
   "cell_type": "code",
   "execution_count": null,
   "id": "fb0ad6b9",
   "metadata": {
    "ExecuteTime": {
     "end_time": "2023-03-30T12:03:34.387625Z",
     "start_time": "2023-03-30T12:03:34.290961Z"
    }
   },
   "outputs": [],
   "source": [
    "plt.figure()\n",
    "plt.hist(dist[:, 0], bins=\"auto\", histtype=\"step\")\n",
    "plt.hist(dist[:, 1], bins=\"auto\", histtype=\"step\")\n",
    "plt.hist(dist[:, 2], bins=\"auto\", histtype=\"step\")\n",
    "\n",
    "plt.show()"
   ]
  },
  {
   "cell_type": "code",
   "execution_count": null,
   "id": "c2aba833",
   "metadata": {},
   "outputs": [],
   "source": []
  },
  {
   "cell_type": "code",
   "execution_count": null,
   "id": "6f70f238",
   "metadata": {},
   "outputs": [],
   "source": []
  },
  {
   "cell_type": "code",
   "execution_count": null,
   "id": "03bcb191",
   "metadata": {
    "ExecuteTime": {
     "end_time": "2023-03-30T11:38:04.906150Z",
     "start_time": "2023-03-30T11:38:04.758107Z"
    }
   },
   "outputs": [],
   "source": [
    "plt.figure()\n",
    "plt.hist(cat0[\"dec\"], bins=\"auto\")\n",
    "\n",
    "plt.show()"
   ]
  },
  {
   "cell_type": "code",
   "execution_count": null,
   "id": "e5ad4722",
   "metadata": {
    "ExecuteTime": {
     "end_time": "2023-03-30T11:53:23.004853Z",
     "start_time": "2023-03-30T11:53:22.971967Z"
    }
   },
   "outputs": [],
   "source": [
    "gen = np.random.default_rng(22)"
   ]
  },
  {
   "cell_type": "code",
   "execution_count": null,
   "id": "785b530a",
   "metadata": {
    "ExecuteTime": {
     "end_time": "2023-03-30T11:53:23.330397Z",
     "start_time": "2023-03-30T11:53:23.296612Z"
    }
   },
   "outputs": [],
   "source": [
    "gen.normal()"
   ]
  },
  {
   "cell_type": "code",
   "execution_count": null,
   "id": "b3d3b5e6",
   "metadata": {},
   "outputs": [],
   "source": []
  },
  {
   "cell_type": "code",
   "execution_count": null,
   "id": "464b606d",
   "metadata": {
    "ExecuteTime": {
     "end_time": "2023-03-30T11:36:13.649124Z",
     "start_time": "2023-03-30T11:36:12.995693Z"
    }
   },
   "outputs": [],
   "source": [
    "theta = np.linspace( t, np.pi, 100)\n",
    "\n",
    "plt.figure()\n",
    "plt.plot(theta, np.sin(theta))\n",
    "plt.show()"
   ]
  },
  {
   "cell_type": "code",
   "execution_count": null,
   "id": "c29049f5",
   "metadata": {},
   "outputs": [],
   "source": []
  },
  {
   "cell_type": "code",
   "execution_count": null,
   "id": "cd2a3295",
   "metadata": {},
   "outputs": [],
   "source": []
  },
  {
   "cell_type": "code",
   "execution_count": null,
   "id": "af9abf04",
   "metadata": {
    "ExecuteTime": {
     "end_time": "2023-03-30T11:10:11.104389Z",
     "start_time": "2023-03-30T11:10:11.070499Z"
    }
   },
   "outputs": [],
   "source": [
    "X = np.array([-3.9514747, -0.6966991,  2.97158]).reshape(1, -1)\n",
    "\n",
    "X"
   ]
  },
  {
   "cell_type": "code",
   "execution_count": null,
   "id": "e181b3c3",
   "metadata": {
    "ExecuteTime": {
     "end_time": "2023-03-30T11:32:17.840355Z",
     "start_time": "2023-03-30T11:32:17.351883Z"
    }
   },
   "outputs": [],
   "source": [
    "dist, indxs = knn0.kneighbors(X, n_neighbors=1)\n",
    "\n",
    "dist, indxs"
   ]
  },
  {
   "cell_type": "code",
   "execution_count": null,
   "id": "d38fd960",
   "metadata": {
    "ExecuteTime": {
     "end_time": "2023-03-30T11:10:18.182326Z",
     "start_time": "2023-03-30T11:10:18.145629Z"
    }
   },
   "outputs": [],
   "source": [
    "cat0.positions[indxs]"
   ]
  },
  {
   "cell_type": "code",
   "execution_count": null,
   "id": "a16ddc2f",
   "metadata": {},
   "outputs": [],
   "source": []
  },
  {
   "cell_type": "code",
   "execution_count": null,
   "id": "bbbe8fb6",
   "metadata": {},
   "outputs": [],
   "source": []
  },
  {
   "cell_type": "code",
   "execution_count": null,
   "id": "759a0149",
   "metadata": {},
   "outputs": [],
   "source": []
  },
  {
   "cell_type": "code",
   "execution_count": null,
   "id": "312c96c9",
   "metadata": {},
   "outputs": [],
   "source": []
  },
  {
   "cell_type": "code",
   "execution_count": null,
   "id": "b097637b",
   "metadata": {},
   "outputs": [],
   "source": []
  },
  {
   "cell_type": "code",
   "execution_count": null,
   "id": "2ced23cb",
   "metadata": {},
   "outputs": [],
   "source": []
  },
  {
   "cell_type": "code",
   "execution_count": null,
   "id": "be26cbcc",
   "metadata": {},
   "outputs": [],
   "source": []
  }
 ],
 "metadata": {
  "kernelspec": {
   "display_name": "venv_galomatch",
   "language": "python",
   "name": "venv_galomatch"
  },
  "language_info": {
   "codemirror_mode": {
    "name": "ipython",
    "version": 3
   },
   "file_extension": ".py",
   "mimetype": "text/x-python",
   "name": "python",
   "nbconvert_exporter": "python",
   "pygments_lexer": "ipython3",
   "version": "3.8.0"
  },
  "vscode": {
   "interpreter": {
    "hash": "f29d02a8350410abc2a9fb79641689d10bf7ab64afc03ec87ca3cf6ed2daa499"
   }
  }
 },
 "nbformat": 4,
 "nbformat_minor": 5
}
