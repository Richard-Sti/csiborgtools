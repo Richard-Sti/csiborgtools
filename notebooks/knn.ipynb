{
 "cells": [
  {
   "cell_type": "code",
   "execution_count": 1,
   "id": "5a38ed25",
   "metadata": {
    "ExecuteTime": {
     "end_time": "2023-04-09T15:22:29.816565Z",
     "start_time": "2023-04-09T15:22:27.542273Z"
    },
    "scrolled": true
   },
   "outputs": [
    {
     "name": "stdout",
     "output_type": "stream",
     "text": [
      "not found\n"
     ]
    }
   ],
   "source": [
    "import numpy as np\n",
    "import matplotlib\n",
    "import matplotlib.pyplot as plt\n",
    "from sklearn.neighbors import NearestNeighbors\n",
    "import joblib\n",
    "from glob import glob\n",
    "from tqdm import tqdm\n",
    "try:\n",
    "    import csiborgtools\n",
    "except ModuleNotFoundError:\n",
    "    print(\"not found\")\n",
    "    import sys\n",
    "    sys.path.append(\"../\")\n",
    "    import csiborgtools\n",
    "import yaml\n",
    "\n",
    "\n",
    "%matplotlib notebook\n",
    "%load_ext autoreload\n",
    "%autoreload 2"
   ]
  },
  {
   "cell_type": "code",
   "execution_count": 2,
   "id": "3d39187a",
   "metadata": {
    "ExecuteTime": {
     "end_time": "2023-04-09T15:22:29.860546Z",
     "start_time": "2023-04-09T15:22:29.818372Z"
    }
   },
   "outputs": [],
   "source": [
    "with open('../scripts/knn_auto.yml', 'r') as file:\n",
    "    config = yaml.safe_load(file)\n",
    "\n",
    "paths = csiborgtools.read.CSiBORGPaths()\n",
    "knnreader = csiborgtools.read.kNNCDFReader()\n",
    "\n",
    "folder = \"/mnt/extraspace/rstiskalek/csiborg/knn/auto/\"\n"
   ]
  },
  {
   "cell_type": "code",
   "execution_count": 57,
   "id": "d46e176f",
   "metadata": {
    "ExecuteTime": {
     "end_time": "2023-04-09T16:12:21.080837Z",
     "start_time": "2023-04-09T16:12:19.137559Z"
    }
   },
   "outputs": [
    {
     "ename": "RuntimeError",
     "evalue": "No files found for run `mass001_spinloww`.",
     "output_type": "error",
     "traceback": [
      "\u001b[0;31m---------------------------------------------------------------------------\u001b[0m",
      "\u001b[0;31mRuntimeError\u001b[0m                              Traceback (most recent call last)",
      "Cell \u001b[0;32mIn [57], line 1\u001b[0m\n\u001b[0;32m----> 1\u001b[0m rs, cdf \u001b[38;5;241m=\u001b[39m knnreader\u001b[38;5;241m.\u001b[39mread_auto(\u001b[38;5;124m\"\u001b[39m\u001b[38;5;124mmass001_spinloww\u001b[39m\u001b[38;5;124m\"\u001b[39m, folder, rmin\u001b[38;5;241m=\u001b[39m\u001b[38;5;241m1\u001b[39m, rmax\u001b[38;5;241m=\u001b[39m\u001b[38;5;241m50\u001b[39m)\n\u001b[1;32m      2\u001b[0m pk \u001b[38;5;241m=\u001b[39m knnreader\u001b[38;5;241m.\u001b[39mmean_prob_k(cdf)\n",
      "File \u001b[0;32m~/csiborgtools/csiborgtools/read/summaries.py:215\u001b[0m, in \u001b[0;36mkNNCDFReader.read_auto\u001b[0;34m(self, run, folder, rmin, rmax, to_clip)\u001b[0m\n\u001b[1;32m    213\u001b[0m files \u001b[38;5;241m=\u001b[39m [f \u001b[38;5;28;01mfor\u001b[39;00m f \u001b[38;5;129;01min\u001b[39;00m glob(join(folder, \u001b[38;5;124m\"\u001b[39m\u001b[38;5;124m*\u001b[39m\u001b[38;5;124m\"\u001b[39m)) \u001b[38;5;28;01mif\u001b[39;00m run \u001b[38;5;129;01min\u001b[39;00m f]\n\u001b[1;32m    214\u001b[0m \u001b[38;5;28;01mif\u001b[39;00m \u001b[38;5;28mlen\u001b[39m(files) \u001b[38;5;241m==\u001b[39m \u001b[38;5;241m0\u001b[39m:\n\u001b[0;32m--> 215\u001b[0m     \u001b[38;5;28;01mraise\u001b[39;00m \u001b[38;5;167;01mRuntimeError\u001b[39;00m(\u001b[38;5;124m\"\u001b[39m\u001b[38;5;124mNo files found for run `\u001b[39m\u001b[38;5;132;01m{}\u001b[39;00m\u001b[38;5;124m`.\u001b[39m\u001b[38;5;124m\"\u001b[39m\u001b[38;5;241m.\u001b[39mformat(run[:\u001b[38;5;241m-\u001b[39m\u001b[38;5;241m2\u001b[39m]))\n\u001b[1;32m    216\u001b[0m kind \u001b[38;5;241m=\u001b[39m \u001b[38;5;124m\"\u001b[39m\u001b[38;5;124mcorr\u001b[39m\u001b[38;5;124m\"\u001b[39m \u001b[38;5;28;01mif\u001b[39;00m \u001b[38;5;124m\"\u001b[39m\u001b[38;5;124mcross\u001b[39m\u001b[38;5;124m\"\u001b[39m \u001b[38;5;129;01min\u001b[39;00m run \u001b[38;5;28;01melse\u001b[39;00m \u001b[38;5;124m\"\u001b[39m\u001b[38;5;124mcdf\u001b[39m\u001b[38;5;124m\"\u001b[39m\n\u001b[1;32m    218\u001b[0m \u001b[38;5;28;01mfor\u001b[39;00m i, file \u001b[38;5;129;01min\u001b[39;00m \u001b[38;5;28menumerate\u001b[39m(files):\n",
      "\u001b[0;31mRuntimeError\u001b[0m: No files found for run `mass001_spinloww`."
     ]
    }
   ],
   "source": [
    "rs, cdf = knnreader.read_auto(\"mass001_spinloww\", folder, rmin=1, rmax=50)\n",
    "pk = knnreader.mean_prob_k(cdf)\n",
    "\n",
    "\n",
    "# rs, cdf = knnreader.read_auto(\"mass001_spinhigh\", folder, rmin=1, rmax=50)\n",
    "# pk_perm = knnreader.mean_prob_k(cdf)"
   ]
  },
  {
   "cell_type": "code",
   "execution_count": 48,
   "id": "ad36cab2",
   "metadata": {
    "ExecuteTime": {
     "end_time": "2023-04-09T16:09:55.420866Z",
     "start_time": "2023-04-09T16:09:55.391296Z"
    }
   },
   "outputs": [
    {
     "data": {
      "text/plain": [
       "(63, 5663, 2)"
      ]
     },
     "execution_count": 48,
     "metadata": {},
     "output_type": "execute_result"
    }
   ],
   "source": [
    "pk.shape"
   ]
  },
  {
   "cell_type": "code",
   "execution_count": 58,
   "id": "09015847",
   "metadata": {
    "ExecuteTime": {
     "end_time": "2023-04-09T16:13:34.120967Z",
     "start_time": "2023-04-09T16:13:31.837869Z"
    }
   },
   "outputs": [
    {
     "data": {
      "application/javascript": [
       "/* Put everything inside the global mpl namespace */\n",
       "/* global mpl */\n",
       "window.mpl = {};\n",
       "\n",
       "mpl.get_websocket_type = function () {\n",
       "    if (typeof WebSocket !== 'undefined') {\n",
       "        return WebSocket;\n",
       "    } else if (typeof MozWebSocket !== 'undefined') {\n",
       "        return MozWebSocket;\n",
       "    } else {\n",
       "        alert(\n",
       "            'Your browser does not have WebSocket support. ' +\n",
       "                'Please try Chrome, Safari or Firefox ≥ 6. ' +\n",
       "                'Firefox 4 and 5 are also supported but you ' +\n",
       "                'have to enable WebSockets in about:config.'\n",
       "        );\n",
       "    }\n",
       "};\n",
       "\n",
       "mpl.figure = function (figure_id, websocket, ondownload, parent_element) {\n",
       "    this.id = figure_id;\n",
       "\n",
       "    this.ws = websocket;\n",
       "\n",
       "    this.supports_binary = this.ws.binaryType !== undefined;\n",
       "\n",
       "    if (!this.supports_binary) {\n",
       "        var warnings = document.getElementById('mpl-warnings');\n",
       "        if (warnings) {\n",
       "            warnings.style.display = 'block';\n",
       "            warnings.textContent =\n",
       "                'This browser does not support binary websocket messages. ' +\n",
       "                'Performance may be slow.';\n",
       "        }\n",
       "    }\n",
       "\n",
       "    this.imageObj = new Image();\n",
       "\n",
       "    this.context = undefined;\n",
       "    this.message = undefined;\n",
       "    this.canvas = undefined;\n",
       "    this.rubberband_canvas = undefined;\n",
       "    this.rubberband_context = undefined;\n",
       "    this.format_dropdown = undefined;\n",
       "\n",
       "    this.image_mode = 'full';\n",
       "\n",
       "    this.root = document.createElement('div');\n",
       "    this.root.setAttribute('style', 'display: inline-block');\n",
       "    this._root_extra_style(this.root);\n",
       "\n",
       "    parent_element.appendChild(this.root);\n",
       "\n",
       "    this._init_header(this);\n",
       "    this._init_canvas(this);\n",
       "    this._init_toolbar(this);\n",
       "\n",
       "    var fig = this;\n",
       "\n",
       "    this.waiting = false;\n",
       "\n",
       "    this.ws.onopen = function () {\n",
       "        fig.send_message('supports_binary', { value: fig.supports_binary });\n",
       "        fig.send_message('send_image_mode', {});\n",
       "        if (fig.ratio !== 1) {\n",
       "            fig.send_message('set_device_pixel_ratio', {\n",
       "                device_pixel_ratio: fig.ratio,\n",
       "            });\n",
       "        }\n",
       "        fig.send_message('refresh', {});\n",
       "    };\n",
       "\n",
       "    this.imageObj.onload = function () {\n",
       "        if (fig.image_mode === 'full') {\n",
       "            // Full images could contain transparency (where diff images\n",
       "            // almost always do), so we need to clear the canvas so that\n",
       "            // there is no ghosting.\n",
       "            fig.context.clearRect(0, 0, fig.canvas.width, fig.canvas.height);\n",
       "        }\n",
       "        fig.context.drawImage(fig.imageObj, 0, 0);\n",
       "    };\n",
       "\n",
       "    this.imageObj.onunload = function () {\n",
       "        fig.ws.close();\n",
       "    };\n",
       "\n",
       "    this.ws.onmessage = this._make_on_message_function(this);\n",
       "\n",
       "    this.ondownload = ondownload;\n",
       "};\n",
       "\n",
       "mpl.figure.prototype._init_header = function () {\n",
       "    var titlebar = document.createElement('div');\n",
       "    titlebar.classList =\n",
       "        'ui-dialog-titlebar ui-widget-header ui-corner-all ui-helper-clearfix';\n",
       "    var titletext = document.createElement('div');\n",
       "    titletext.classList = 'ui-dialog-title';\n",
       "    titletext.setAttribute(\n",
       "        'style',\n",
       "        'width: 100%; text-align: center; padding: 3px;'\n",
       "    );\n",
       "    titlebar.appendChild(titletext);\n",
       "    this.root.appendChild(titlebar);\n",
       "    this.header = titletext;\n",
       "};\n",
       "\n",
       "mpl.figure.prototype._canvas_extra_style = function (_canvas_div) {};\n",
       "\n",
       "mpl.figure.prototype._root_extra_style = function (_canvas_div) {};\n",
       "\n",
       "mpl.figure.prototype._init_canvas = function () {\n",
       "    var fig = this;\n",
       "\n",
       "    var canvas_div = (this.canvas_div = document.createElement('div'));\n",
       "    canvas_div.setAttribute(\n",
       "        'style',\n",
       "        'border: 1px solid #ddd;' +\n",
       "            'box-sizing: content-box;' +\n",
       "            'clear: both;' +\n",
       "            'min-height: 1px;' +\n",
       "            'min-width: 1px;' +\n",
       "            'outline: 0;' +\n",
       "            'overflow: hidden;' +\n",
       "            'position: relative;' +\n",
       "            'resize: both;'\n",
       "    );\n",
       "\n",
       "    function on_keyboard_event_closure(name) {\n",
       "        return function (event) {\n",
       "            return fig.key_event(event, name);\n",
       "        };\n",
       "    }\n",
       "\n",
       "    canvas_div.addEventListener(\n",
       "        'keydown',\n",
       "        on_keyboard_event_closure('key_press')\n",
       "    );\n",
       "    canvas_div.addEventListener(\n",
       "        'keyup',\n",
       "        on_keyboard_event_closure('key_release')\n",
       "    );\n",
       "\n",
       "    this._canvas_extra_style(canvas_div);\n",
       "    this.root.appendChild(canvas_div);\n",
       "\n",
       "    var canvas = (this.canvas = document.createElement('canvas'));\n",
       "    canvas.classList.add('mpl-canvas');\n",
       "    canvas.setAttribute('style', 'box-sizing: content-box;');\n",
       "\n",
       "    this.context = canvas.getContext('2d');\n",
       "\n",
       "    var backingStore =\n",
       "        this.context.backingStorePixelRatio ||\n",
       "        this.context.webkitBackingStorePixelRatio ||\n",
       "        this.context.mozBackingStorePixelRatio ||\n",
       "        this.context.msBackingStorePixelRatio ||\n",
       "        this.context.oBackingStorePixelRatio ||\n",
       "        this.context.backingStorePixelRatio ||\n",
       "        1;\n",
       "\n",
       "    this.ratio = (window.devicePixelRatio || 1) / backingStore;\n",
       "\n",
       "    var rubberband_canvas = (this.rubberband_canvas = document.createElement(\n",
       "        'canvas'\n",
       "    ));\n",
       "    rubberband_canvas.setAttribute(\n",
       "        'style',\n",
       "        'box-sizing: content-box; position: absolute; left: 0; top: 0; z-index: 1;'\n",
       "    );\n",
       "\n",
       "    // Apply a ponyfill if ResizeObserver is not implemented by browser.\n",
       "    if (this.ResizeObserver === undefined) {\n",
       "        if (window.ResizeObserver !== undefined) {\n",
       "            this.ResizeObserver = window.ResizeObserver;\n",
       "        } else {\n",
       "            var obs = _JSXTOOLS_RESIZE_OBSERVER({});\n",
       "            this.ResizeObserver = obs.ResizeObserver;\n",
       "        }\n",
       "    }\n",
       "\n",
       "    this.resizeObserverInstance = new this.ResizeObserver(function (entries) {\n",
       "        var nentries = entries.length;\n",
       "        for (var i = 0; i < nentries; i++) {\n",
       "            var entry = entries[i];\n",
       "            var width, height;\n",
       "            if (entry.contentBoxSize) {\n",
       "                if (entry.contentBoxSize instanceof Array) {\n",
       "                    // Chrome 84 implements new version of spec.\n",
       "                    width = entry.contentBoxSize[0].inlineSize;\n",
       "                    height = entry.contentBoxSize[0].blockSize;\n",
       "                } else {\n",
       "                    // Firefox implements old version of spec.\n",
       "                    width = entry.contentBoxSize.inlineSize;\n",
       "                    height = entry.contentBoxSize.blockSize;\n",
       "                }\n",
       "            } else {\n",
       "                // Chrome <84 implements even older version of spec.\n",
       "                width = entry.contentRect.width;\n",
       "                height = entry.contentRect.height;\n",
       "            }\n",
       "\n",
       "            // Keep the size of the canvas and rubber band canvas in sync with\n",
       "            // the canvas container.\n",
       "            if (entry.devicePixelContentBoxSize) {\n",
       "                // Chrome 84 implements new version of spec.\n",
       "                canvas.setAttribute(\n",
       "                    'width',\n",
       "                    entry.devicePixelContentBoxSize[0].inlineSize\n",
       "                );\n",
       "                canvas.setAttribute(\n",
       "                    'height',\n",
       "                    entry.devicePixelContentBoxSize[0].blockSize\n",
       "                );\n",
       "            } else {\n",
       "                canvas.setAttribute('width', width * fig.ratio);\n",
       "                canvas.setAttribute('height', height * fig.ratio);\n",
       "            }\n",
       "            canvas.setAttribute(\n",
       "                'style',\n",
       "                'width: ' + width + 'px; height: ' + height + 'px;'\n",
       "            );\n",
       "\n",
       "            rubberband_canvas.setAttribute('width', width);\n",
       "            rubberband_canvas.setAttribute('height', height);\n",
       "\n",
       "            // And update the size in Python. We ignore the initial 0/0 size\n",
       "            // that occurs as the element is placed into the DOM, which should\n",
       "            // otherwise not happen due to the minimum size styling.\n",
       "            if (fig.ws.readyState == 1 && width != 0 && height != 0) {\n",
       "                fig.request_resize(width, height);\n",
       "            }\n",
       "        }\n",
       "    });\n",
       "    this.resizeObserverInstance.observe(canvas_div);\n",
       "\n",
       "    function on_mouse_event_closure(name) {\n",
       "        return function (event) {\n",
       "            return fig.mouse_event(event, name);\n",
       "        };\n",
       "    }\n",
       "\n",
       "    rubberband_canvas.addEventListener(\n",
       "        'mousedown',\n",
       "        on_mouse_event_closure('button_press')\n",
       "    );\n",
       "    rubberband_canvas.addEventListener(\n",
       "        'mouseup',\n",
       "        on_mouse_event_closure('button_release')\n",
       "    );\n",
       "    rubberband_canvas.addEventListener(\n",
       "        'dblclick',\n",
       "        on_mouse_event_closure('dblclick')\n",
       "    );\n",
       "    // Throttle sequential mouse events to 1 every 20ms.\n",
       "    rubberband_canvas.addEventListener(\n",
       "        'mousemove',\n",
       "        on_mouse_event_closure('motion_notify')\n",
       "    );\n",
       "\n",
       "    rubberband_canvas.addEventListener(\n",
       "        'mouseenter',\n",
       "        on_mouse_event_closure('figure_enter')\n",
       "    );\n",
       "    rubberband_canvas.addEventListener(\n",
       "        'mouseleave',\n",
       "        on_mouse_event_closure('figure_leave')\n",
       "    );\n",
       "\n",
       "    canvas_div.addEventListener('wheel', function (event) {\n",
       "        if (event.deltaY < 0) {\n",
       "            event.step = 1;\n",
       "        } else {\n",
       "            event.step = -1;\n",
       "        }\n",
       "        on_mouse_event_closure('scroll')(event);\n",
       "    });\n",
       "\n",
       "    canvas_div.appendChild(canvas);\n",
       "    canvas_div.appendChild(rubberband_canvas);\n",
       "\n",
       "    this.rubberband_context = rubberband_canvas.getContext('2d');\n",
       "    this.rubberband_context.strokeStyle = '#000000';\n",
       "\n",
       "    this._resize_canvas = function (width, height, forward) {\n",
       "        if (forward) {\n",
       "            canvas_div.style.width = width + 'px';\n",
       "            canvas_div.style.height = height + 'px';\n",
       "        }\n",
       "    };\n",
       "\n",
       "    // Disable right mouse context menu.\n",
       "    this.rubberband_canvas.addEventListener('contextmenu', function (_e) {\n",
       "        event.preventDefault();\n",
       "        return false;\n",
       "    });\n",
       "\n",
       "    function set_focus() {\n",
       "        canvas.focus();\n",
       "        canvas_div.focus();\n",
       "    }\n",
       "\n",
       "    window.setTimeout(set_focus, 100);\n",
       "};\n",
       "\n",
       "mpl.figure.prototype._init_toolbar = function () {\n",
       "    var fig = this;\n",
       "\n",
       "    var toolbar = document.createElement('div');\n",
       "    toolbar.classList = 'mpl-toolbar';\n",
       "    this.root.appendChild(toolbar);\n",
       "\n",
       "    function on_click_closure(name) {\n",
       "        return function (_event) {\n",
       "            return fig.toolbar_button_onclick(name);\n",
       "        };\n",
       "    }\n",
       "\n",
       "    function on_mouseover_closure(tooltip) {\n",
       "        return function (event) {\n",
       "            if (!event.currentTarget.disabled) {\n",
       "                return fig.toolbar_button_onmouseover(tooltip);\n",
       "            }\n",
       "        };\n",
       "    }\n",
       "\n",
       "    fig.buttons = {};\n",
       "    var buttonGroup = document.createElement('div');\n",
       "    buttonGroup.classList = 'mpl-button-group';\n",
       "    for (var toolbar_ind in mpl.toolbar_items) {\n",
       "        var name = mpl.toolbar_items[toolbar_ind][0];\n",
       "        var tooltip = mpl.toolbar_items[toolbar_ind][1];\n",
       "        var image = mpl.toolbar_items[toolbar_ind][2];\n",
       "        var method_name = mpl.toolbar_items[toolbar_ind][3];\n",
       "\n",
       "        if (!name) {\n",
       "            /* Instead of a spacer, we start a new button group. */\n",
       "            if (buttonGroup.hasChildNodes()) {\n",
       "                toolbar.appendChild(buttonGroup);\n",
       "            }\n",
       "            buttonGroup = document.createElement('div');\n",
       "            buttonGroup.classList = 'mpl-button-group';\n",
       "            continue;\n",
       "        }\n",
       "\n",
       "        var button = (fig.buttons[name] = document.createElement('button'));\n",
       "        button.classList = 'mpl-widget';\n",
       "        button.setAttribute('role', 'button');\n",
       "        button.setAttribute('aria-disabled', 'false');\n",
       "        button.addEventListener('click', on_click_closure(method_name));\n",
       "        button.addEventListener('mouseover', on_mouseover_closure(tooltip));\n",
       "\n",
       "        var icon_img = document.createElement('img');\n",
       "        icon_img.src = '_images/' + image + '.png';\n",
       "        icon_img.srcset = '_images/' + image + '_large.png 2x';\n",
       "        icon_img.alt = tooltip;\n",
       "        button.appendChild(icon_img);\n",
       "\n",
       "        buttonGroup.appendChild(button);\n",
       "    }\n",
       "\n",
       "    if (buttonGroup.hasChildNodes()) {\n",
       "        toolbar.appendChild(buttonGroup);\n",
       "    }\n",
       "\n",
       "    var fmt_picker = document.createElement('select');\n",
       "    fmt_picker.classList = 'mpl-widget';\n",
       "    toolbar.appendChild(fmt_picker);\n",
       "    this.format_dropdown = fmt_picker;\n",
       "\n",
       "    for (var ind in mpl.extensions) {\n",
       "        var fmt = mpl.extensions[ind];\n",
       "        var option = document.createElement('option');\n",
       "        option.selected = fmt === mpl.default_extension;\n",
       "        option.innerHTML = fmt;\n",
       "        fmt_picker.appendChild(option);\n",
       "    }\n",
       "\n",
       "    var status_bar = document.createElement('span');\n",
       "    status_bar.classList = 'mpl-message';\n",
       "    toolbar.appendChild(status_bar);\n",
       "    this.message = status_bar;\n",
       "};\n",
       "\n",
       "mpl.figure.prototype.request_resize = function (x_pixels, y_pixels) {\n",
       "    // Request matplotlib to resize the figure. Matplotlib will then trigger a resize in the client,\n",
       "    // which will in turn request a refresh of the image.\n",
       "    this.send_message('resize', { width: x_pixels, height: y_pixels });\n",
       "};\n",
       "\n",
       "mpl.figure.prototype.send_message = function (type, properties) {\n",
       "    properties['type'] = type;\n",
       "    properties['figure_id'] = this.id;\n",
       "    this.ws.send(JSON.stringify(properties));\n",
       "};\n",
       "\n",
       "mpl.figure.prototype.send_draw_message = function () {\n",
       "    if (!this.waiting) {\n",
       "        this.waiting = true;\n",
       "        this.ws.send(JSON.stringify({ type: 'draw', figure_id: this.id }));\n",
       "    }\n",
       "};\n",
       "\n",
       "mpl.figure.prototype.handle_save = function (fig, _msg) {\n",
       "    var format_dropdown = fig.format_dropdown;\n",
       "    var format = format_dropdown.options[format_dropdown.selectedIndex].value;\n",
       "    fig.ondownload(fig, format);\n",
       "};\n",
       "\n",
       "mpl.figure.prototype.handle_resize = function (fig, msg) {\n",
       "    var size = msg['size'];\n",
       "    if (size[0] !== fig.canvas.width || size[1] !== fig.canvas.height) {\n",
       "        fig._resize_canvas(size[0], size[1], msg['forward']);\n",
       "        fig.send_message('refresh', {});\n",
       "    }\n",
       "};\n",
       "\n",
       "mpl.figure.prototype.handle_rubberband = function (fig, msg) {\n",
       "    var x0 = msg['x0'] / fig.ratio;\n",
       "    var y0 = (fig.canvas.height - msg['y0']) / fig.ratio;\n",
       "    var x1 = msg['x1'] / fig.ratio;\n",
       "    var y1 = (fig.canvas.height - msg['y1']) / fig.ratio;\n",
       "    x0 = Math.floor(x0) + 0.5;\n",
       "    y0 = Math.floor(y0) + 0.5;\n",
       "    x1 = Math.floor(x1) + 0.5;\n",
       "    y1 = Math.floor(y1) + 0.5;\n",
       "    var min_x = Math.min(x0, x1);\n",
       "    var min_y = Math.min(y0, y1);\n",
       "    var width = Math.abs(x1 - x0);\n",
       "    var height = Math.abs(y1 - y0);\n",
       "\n",
       "    fig.rubberband_context.clearRect(\n",
       "        0,\n",
       "        0,\n",
       "        fig.canvas.width / fig.ratio,\n",
       "        fig.canvas.height / fig.ratio\n",
       "    );\n",
       "\n",
       "    fig.rubberband_context.strokeRect(min_x, min_y, width, height);\n",
       "};\n",
       "\n",
       "mpl.figure.prototype.handle_figure_label = function (fig, msg) {\n",
       "    // Updates the figure title.\n",
       "    fig.header.textContent = msg['label'];\n",
       "};\n",
       "\n",
       "mpl.figure.prototype.handle_cursor = function (fig, msg) {\n",
       "    fig.rubberband_canvas.style.cursor = msg['cursor'];\n",
       "};\n",
       "\n",
       "mpl.figure.prototype.handle_message = function (fig, msg) {\n",
       "    fig.message.textContent = msg['message'];\n",
       "};\n",
       "\n",
       "mpl.figure.prototype.handle_draw = function (fig, _msg) {\n",
       "    // Request the server to send over a new figure.\n",
       "    fig.send_draw_message();\n",
       "};\n",
       "\n",
       "mpl.figure.prototype.handle_image_mode = function (fig, msg) {\n",
       "    fig.image_mode = msg['mode'];\n",
       "};\n",
       "\n",
       "mpl.figure.prototype.handle_history_buttons = function (fig, msg) {\n",
       "    for (var key in msg) {\n",
       "        if (!(key in fig.buttons)) {\n",
       "            continue;\n",
       "        }\n",
       "        fig.buttons[key].disabled = !msg[key];\n",
       "        fig.buttons[key].setAttribute('aria-disabled', !msg[key]);\n",
       "    }\n",
       "};\n",
       "\n",
       "mpl.figure.prototype.handle_navigate_mode = function (fig, msg) {\n",
       "    if (msg['mode'] === 'PAN') {\n",
       "        fig.buttons['Pan'].classList.add('active');\n",
       "        fig.buttons['Zoom'].classList.remove('active');\n",
       "    } else if (msg['mode'] === 'ZOOM') {\n",
       "        fig.buttons['Pan'].classList.remove('active');\n",
       "        fig.buttons['Zoom'].classList.add('active');\n",
       "    } else {\n",
       "        fig.buttons['Pan'].classList.remove('active');\n",
       "        fig.buttons['Zoom'].classList.remove('active');\n",
       "    }\n",
       "};\n",
       "\n",
       "mpl.figure.prototype.updated_canvas_event = function () {\n",
       "    // Called whenever the canvas gets updated.\n",
       "    this.send_message('ack', {});\n",
       "};\n",
       "\n",
       "// A function to construct a web socket function for onmessage handling.\n",
       "// Called in the figure constructor.\n",
       "mpl.figure.prototype._make_on_message_function = function (fig) {\n",
       "    return function socket_on_message(evt) {\n",
       "        if (evt.data instanceof Blob) {\n",
       "            var img = evt.data;\n",
       "            if (img.type !== 'image/png') {\n",
       "                /* FIXME: We get \"Resource interpreted as Image but\n",
       "                 * transferred with MIME type text/plain:\" errors on\n",
       "                 * Chrome.  But how to set the MIME type?  It doesn't seem\n",
       "                 * to be part of the websocket stream */\n",
       "                img.type = 'image/png';\n",
       "            }\n",
       "\n",
       "            /* Free the memory for the previous frames */\n",
       "            if (fig.imageObj.src) {\n",
       "                (window.URL || window.webkitURL).revokeObjectURL(\n",
       "                    fig.imageObj.src\n",
       "                );\n",
       "            }\n",
       "\n",
       "            fig.imageObj.src = (window.URL || window.webkitURL).createObjectURL(\n",
       "                img\n",
       "            );\n",
       "            fig.updated_canvas_event();\n",
       "            fig.waiting = false;\n",
       "            return;\n",
       "        } else if (\n",
       "            typeof evt.data === 'string' &&\n",
       "            evt.data.slice(0, 21) === 'data:image/png;base64'\n",
       "        ) {\n",
       "            fig.imageObj.src = evt.data;\n",
       "            fig.updated_canvas_event();\n",
       "            fig.waiting = false;\n",
       "            return;\n",
       "        }\n",
       "\n",
       "        var msg = JSON.parse(evt.data);\n",
       "        var msg_type = msg['type'];\n",
       "\n",
       "        // Call the  \"handle_{type}\" callback, which takes\n",
       "        // the figure and JSON message as its only arguments.\n",
       "        try {\n",
       "            var callback = fig['handle_' + msg_type];\n",
       "        } catch (e) {\n",
       "            console.log(\n",
       "                \"No handler for the '\" + msg_type + \"' message type: \",\n",
       "                msg\n",
       "            );\n",
       "            return;\n",
       "        }\n",
       "\n",
       "        if (callback) {\n",
       "            try {\n",
       "                // console.log(\"Handling '\" + msg_type + \"' message: \", msg);\n",
       "                callback(fig, msg);\n",
       "            } catch (e) {\n",
       "                console.log(\n",
       "                    \"Exception inside the 'handler_\" + msg_type + \"' callback:\",\n",
       "                    e,\n",
       "                    e.stack,\n",
       "                    msg\n",
       "                );\n",
       "            }\n",
       "        }\n",
       "    };\n",
       "};\n",
       "\n",
       "// from https://stackoverflow.com/questions/1114465/getting-mouse-location-in-canvas\n",
       "mpl.findpos = function (e) {\n",
       "    //this section is from http://www.quirksmode.org/js/events_properties.html\n",
       "    var targ;\n",
       "    if (!e) {\n",
       "        e = window.event;\n",
       "    }\n",
       "    if (e.target) {\n",
       "        targ = e.target;\n",
       "    } else if (e.srcElement) {\n",
       "        targ = e.srcElement;\n",
       "    }\n",
       "    if (targ.nodeType === 3) {\n",
       "        // defeat Safari bug\n",
       "        targ = targ.parentNode;\n",
       "    }\n",
       "\n",
       "    // pageX,Y are the mouse positions relative to the document\n",
       "    var boundingRect = targ.getBoundingClientRect();\n",
       "    var x = e.pageX - (boundingRect.left + document.body.scrollLeft);\n",
       "    var y = e.pageY - (boundingRect.top + document.body.scrollTop);\n",
       "\n",
       "    return { x: x, y: y };\n",
       "};\n",
       "\n",
       "/*\n",
       " * return a copy of an object with only non-object keys\n",
       " * we need this to avoid circular references\n",
       " * https://stackoverflow.com/a/24161582/3208463\n",
       " */\n",
       "function simpleKeys(original) {\n",
       "    return Object.keys(original).reduce(function (obj, key) {\n",
       "        if (typeof original[key] !== 'object') {\n",
       "            obj[key] = original[key];\n",
       "        }\n",
       "        return obj;\n",
       "    }, {});\n",
       "}\n",
       "\n",
       "mpl.figure.prototype.mouse_event = function (event, name) {\n",
       "    var canvas_pos = mpl.findpos(event);\n",
       "\n",
       "    if (name === 'button_press') {\n",
       "        this.canvas.focus();\n",
       "        this.canvas_div.focus();\n",
       "    }\n",
       "\n",
       "    var x = canvas_pos.x * this.ratio;\n",
       "    var y = canvas_pos.y * this.ratio;\n",
       "\n",
       "    this.send_message(name, {\n",
       "        x: x,\n",
       "        y: y,\n",
       "        button: event.button,\n",
       "        step: event.step,\n",
       "        guiEvent: simpleKeys(event),\n",
       "    });\n",
       "\n",
       "    /* This prevents the web browser from automatically changing to\n",
       "     * the text insertion cursor when the button is pressed.  We want\n",
       "     * to control all of the cursor setting manually through the\n",
       "     * 'cursor' event from matplotlib */\n",
       "    event.preventDefault();\n",
       "    return false;\n",
       "};\n",
       "\n",
       "mpl.figure.prototype._key_event_extra = function (_event, _name) {\n",
       "    // Handle any extra behaviour associated with a key event\n",
       "};\n",
       "\n",
       "mpl.figure.prototype.key_event = function (event, name) {\n",
       "    // Prevent repeat events\n",
       "    if (name === 'key_press') {\n",
       "        if (event.key === this._key) {\n",
       "            return;\n",
       "        } else {\n",
       "            this._key = event.key;\n",
       "        }\n",
       "    }\n",
       "    if (name === 'key_release') {\n",
       "        this._key = null;\n",
       "    }\n",
       "\n",
       "    var value = '';\n",
       "    if (event.ctrlKey && event.key !== 'Control') {\n",
       "        value += 'ctrl+';\n",
       "    }\n",
       "    else if (event.altKey && event.key !== 'Alt') {\n",
       "        value += 'alt+';\n",
       "    }\n",
       "    else if (event.shiftKey && event.key !== 'Shift') {\n",
       "        value += 'shift+';\n",
       "    }\n",
       "\n",
       "    value += 'k' + event.key;\n",
       "\n",
       "    this._key_event_extra(event, name);\n",
       "\n",
       "    this.send_message(name, { key: value, guiEvent: simpleKeys(event) });\n",
       "    return false;\n",
       "};\n",
       "\n",
       "mpl.figure.prototype.toolbar_button_onclick = function (name) {\n",
       "    if (name === 'download') {\n",
       "        this.handle_save(this, null);\n",
       "    } else {\n",
       "        this.send_message('toolbar_button', { name: name });\n",
       "    }\n",
       "};\n",
       "\n",
       "mpl.figure.prototype.toolbar_button_onmouseover = function (tooltip) {\n",
       "    this.message.textContent = tooltip;\n",
       "};\n",
       "\n",
       "///////////////// REMAINING CONTENT GENERATED BY embed_js.py /////////////////\n",
       "// prettier-ignore\n",
       "var _JSXTOOLS_RESIZE_OBSERVER=function(A){var t,i=new WeakMap,n=new WeakMap,a=new WeakMap,r=new WeakMap,o=new Set;function s(e){if(!(this instanceof s))throw new TypeError(\"Constructor requires 'new' operator\");i.set(this,e)}function h(){throw new TypeError(\"Function is not a constructor\")}function c(e,t,i,n){e=0 in arguments?Number(arguments[0]):0,t=1 in arguments?Number(arguments[1]):0,i=2 in arguments?Number(arguments[2]):0,n=3 in arguments?Number(arguments[3]):0,this.right=(this.x=this.left=e)+(this.width=i),this.bottom=(this.y=this.top=t)+(this.height=n),Object.freeze(this)}function d(){t=requestAnimationFrame(d);var s=new WeakMap,p=new Set;o.forEach((function(t){r.get(t).forEach((function(i){var r=t instanceof window.SVGElement,o=a.get(t),d=r?0:parseFloat(o.paddingTop),f=r?0:parseFloat(o.paddingRight),l=r?0:parseFloat(o.paddingBottom),u=r?0:parseFloat(o.paddingLeft),g=r?0:parseFloat(o.borderTopWidth),m=r?0:parseFloat(o.borderRightWidth),w=r?0:parseFloat(o.borderBottomWidth),b=u+f,F=d+l,v=(r?0:parseFloat(o.borderLeftWidth))+m,W=g+w,y=r?0:t.offsetHeight-W-t.clientHeight,E=r?0:t.offsetWidth-v-t.clientWidth,R=b+v,z=F+W,M=r?t.width:parseFloat(o.width)-R-E,O=r?t.height:parseFloat(o.height)-z-y;if(n.has(t)){var k=n.get(t);if(k[0]===M&&k[1]===O)return}n.set(t,[M,O]);var S=Object.create(h.prototype);S.target=t,S.contentRect=new c(u,d,M,O),s.has(i)||(s.set(i,[]),p.add(i)),s.get(i).push(S)}))})),p.forEach((function(e){i.get(e).call(e,s.get(e),e)}))}return s.prototype.observe=function(i){if(i instanceof window.Element){r.has(i)||(r.set(i,new Set),o.add(i),a.set(i,window.getComputedStyle(i)));var n=r.get(i);n.has(this)||n.add(this),cancelAnimationFrame(t),t=requestAnimationFrame(d)}},s.prototype.unobserve=function(i){if(i instanceof window.Element&&r.has(i)){var n=r.get(i);n.has(this)&&(n.delete(this),n.size||(r.delete(i),o.delete(i))),n.size||r.delete(i),o.size||cancelAnimationFrame(t)}},A.DOMRectReadOnly=c,A.ResizeObserver=s,A.ResizeObserverEntry=h,A}; // eslint-disable-line\n",
       "mpl.toolbar_items = [[\"Home\", \"Reset original view\", \"fa fa-home\", \"home\"], [\"Back\", \"Back to previous view\", \"fa fa-arrow-left\", \"back\"], [\"Forward\", \"Forward to next view\", \"fa fa-arrow-right\", \"forward\"], [\"\", \"\", \"\", \"\"], [\"Pan\", \"Left button pans, Right button zooms\\nx/y fixes axis, CTRL fixes aspect\", \"fa fa-arrows\", \"pan\"], [\"Zoom\", \"Zoom to rectangle\\nx/y fixes axis\", \"fa fa-square-o\", \"zoom\"], [\"\", \"\", \"\", \"\"], [\"Download\", \"Download plot\", \"fa fa-floppy-o\", \"download\"]];\n",
       "\n",
       "mpl.extensions = [\"eps\", \"jpeg\", \"pgf\", \"pdf\", \"png\", \"ps\", \"raw\", \"svg\", \"tif\", \"webp\"];\n",
       "\n",
       "mpl.default_extension = \"png\";/* global mpl */\n",
       "\n",
       "var comm_websocket_adapter = function (comm) {\n",
       "    // Create a \"websocket\"-like object which calls the given IPython comm\n",
       "    // object with the appropriate methods. Currently this is a non binary\n",
       "    // socket, so there is still some room for performance tuning.\n",
       "    var ws = {};\n",
       "\n",
       "    ws.binaryType = comm.kernel.ws.binaryType;\n",
       "    ws.readyState = comm.kernel.ws.readyState;\n",
       "    function updateReadyState(_event) {\n",
       "        if (comm.kernel.ws) {\n",
       "            ws.readyState = comm.kernel.ws.readyState;\n",
       "        } else {\n",
       "            ws.readyState = 3; // Closed state.\n",
       "        }\n",
       "    }\n",
       "    comm.kernel.ws.addEventListener('open', updateReadyState);\n",
       "    comm.kernel.ws.addEventListener('close', updateReadyState);\n",
       "    comm.kernel.ws.addEventListener('error', updateReadyState);\n",
       "\n",
       "    ws.close = function () {\n",
       "        comm.close();\n",
       "    };\n",
       "    ws.send = function (m) {\n",
       "        //console.log('sending', m);\n",
       "        comm.send(m);\n",
       "    };\n",
       "    // Register the callback with on_msg.\n",
       "    comm.on_msg(function (msg) {\n",
       "        //console.log('receiving', msg['content']['data'], msg);\n",
       "        var data = msg['content']['data'];\n",
       "        if (data['blob'] !== undefined) {\n",
       "            data = {\n",
       "                data: new Blob(msg['buffers'], { type: data['blob'] }),\n",
       "            };\n",
       "        }\n",
       "        // Pass the mpl event to the overridden (by mpl) onmessage function.\n",
       "        ws.onmessage(data);\n",
       "    });\n",
       "    return ws;\n",
       "};\n",
       "\n",
       "mpl.mpl_figure_comm = function (comm, msg) {\n",
       "    // This is the function which gets called when the mpl process\n",
       "    // starts-up an IPython Comm through the \"matplotlib\" channel.\n",
       "\n",
       "    var id = msg.content.data.id;\n",
       "    // Get hold of the div created by the display call when the Comm\n",
       "    // socket was opened in Python.\n",
       "    var element = document.getElementById(id);\n",
       "    var ws_proxy = comm_websocket_adapter(comm);\n",
       "\n",
       "    function ondownload(figure, _format) {\n",
       "        window.open(figure.canvas.toDataURL());\n",
       "    }\n",
       "\n",
       "    var fig = new mpl.figure(id, ws_proxy, ondownload, element);\n",
       "\n",
       "    // Call onopen now - mpl needs it, as it is assuming we've passed it a real\n",
       "    // web socket which is closed, not our websocket->open comm proxy.\n",
       "    ws_proxy.onopen();\n",
       "\n",
       "    fig.parent_element = element;\n",
       "    fig.cell_info = mpl.find_output_cell(\"<div id='\" + id + \"'></div>\");\n",
       "    if (!fig.cell_info) {\n",
       "        console.error('Failed to find cell for figure', id, fig);\n",
       "        return;\n",
       "    }\n",
       "    fig.cell_info[0].output_area.element.on(\n",
       "        'cleared',\n",
       "        { fig: fig },\n",
       "        fig._remove_fig_handler\n",
       "    );\n",
       "};\n",
       "\n",
       "mpl.figure.prototype.handle_close = function (fig, msg) {\n",
       "    var width = fig.canvas.width / fig.ratio;\n",
       "    fig.cell_info[0].output_area.element.off(\n",
       "        'cleared',\n",
       "        fig._remove_fig_handler\n",
       "    );\n",
       "    fig.resizeObserverInstance.unobserve(fig.canvas_div);\n",
       "\n",
       "    // Update the output cell to use the data from the current canvas.\n",
       "    fig.push_to_output();\n",
       "    var dataURL = fig.canvas.toDataURL();\n",
       "    // Re-enable the keyboard manager in IPython - without this line, in FF,\n",
       "    // the notebook keyboard shortcuts fail.\n",
       "    IPython.keyboard_manager.enable();\n",
       "    fig.parent_element.innerHTML =\n",
       "        '<img src=\"' + dataURL + '\" width=\"' + width + '\">';\n",
       "    fig.close_ws(fig, msg);\n",
       "};\n",
       "\n",
       "mpl.figure.prototype.close_ws = function (fig, msg) {\n",
       "    fig.send_message('closing', msg);\n",
       "    // fig.ws.close()\n",
       "};\n",
       "\n",
       "mpl.figure.prototype.push_to_output = function (_remove_interactive) {\n",
       "    // Turn the data on the canvas into data in the output cell.\n",
       "    var width = this.canvas.width / this.ratio;\n",
       "    var dataURL = this.canvas.toDataURL();\n",
       "    this.cell_info[1]['text/html'] =\n",
       "        '<img src=\"' + dataURL + '\" width=\"' + width + '\">';\n",
       "};\n",
       "\n",
       "mpl.figure.prototype.updated_canvas_event = function () {\n",
       "    // Tell IPython that the notebook contents must change.\n",
       "    IPython.notebook.set_dirty(true);\n",
       "    this.send_message('ack', {});\n",
       "    var fig = this;\n",
       "    // Wait a second, then push the new image to the DOM so\n",
       "    // that it is saved nicely (might be nice to debounce this).\n",
       "    setTimeout(function () {\n",
       "        fig.push_to_output();\n",
       "    }, 1000);\n",
       "};\n",
       "\n",
       "mpl.figure.prototype._init_toolbar = function () {\n",
       "    var fig = this;\n",
       "\n",
       "    var toolbar = document.createElement('div');\n",
       "    toolbar.classList = 'btn-toolbar';\n",
       "    this.root.appendChild(toolbar);\n",
       "\n",
       "    function on_click_closure(name) {\n",
       "        return function (_event) {\n",
       "            return fig.toolbar_button_onclick(name);\n",
       "        };\n",
       "    }\n",
       "\n",
       "    function on_mouseover_closure(tooltip) {\n",
       "        return function (event) {\n",
       "            if (!event.currentTarget.disabled) {\n",
       "                return fig.toolbar_button_onmouseover(tooltip);\n",
       "            }\n",
       "        };\n",
       "    }\n",
       "\n",
       "    fig.buttons = {};\n",
       "    var buttonGroup = document.createElement('div');\n",
       "    buttonGroup.classList = 'btn-group';\n",
       "    var button;\n",
       "    for (var toolbar_ind in mpl.toolbar_items) {\n",
       "        var name = mpl.toolbar_items[toolbar_ind][0];\n",
       "        var tooltip = mpl.toolbar_items[toolbar_ind][1];\n",
       "        var image = mpl.toolbar_items[toolbar_ind][2];\n",
       "        var method_name = mpl.toolbar_items[toolbar_ind][3];\n",
       "\n",
       "        if (!name) {\n",
       "            /* Instead of a spacer, we start a new button group. */\n",
       "            if (buttonGroup.hasChildNodes()) {\n",
       "                toolbar.appendChild(buttonGroup);\n",
       "            }\n",
       "            buttonGroup = document.createElement('div');\n",
       "            buttonGroup.classList = 'btn-group';\n",
       "            continue;\n",
       "        }\n",
       "\n",
       "        button = fig.buttons[name] = document.createElement('button');\n",
       "        button.classList = 'btn btn-default';\n",
       "        button.href = '#';\n",
       "        button.title = name;\n",
       "        button.innerHTML = '<i class=\"fa ' + image + ' fa-lg\"></i>';\n",
       "        button.addEventListener('click', on_click_closure(method_name));\n",
       "        button.addEventListener('mouseover', on_mouseover_closure(tooltip));\n",
       "        buttonGroup.appendChild(button);\n",
       "    }\n",
       "\n",
       "    if (buttonGroup.hasChildNodes()) {\n",
       "        toolbar.appendChild(buttonGroup);\n",
       "    }\n",
       "\n",
       "    // Add the status bar.\n",
       "    var status_bar = document.createElement('span');\n",
       "    status_bar.classList = 'mpl-message pull-right';\n",
       "    toolbar.appendChild(status_bar);\n",
       "    this.message = status_bar;\n",
       "\n",
       "    // Add the close button to the window.\n",
       "    var buttongrp = document.createElement('div');\n",
       "    buttongrp.classList = 'btn-group inline pull-right';\n",
       "    button = document.createElement('button');\n",
       "    button.classList = 'btn btn-mini btn-primary';\n",
       "    button.href = '#';\n",
       "    button.title = 'Stop Interaction';\n",
       "    button.innerHTML = '<i class=\"fa fa-power-off icon-remove icon-large\"></i>';\n",
       "    button.addEventListener('click', function (_evt) {\n",
       "        fig.handle_close(fig, {});\n",
       "    });\n",
       "    button.addEventListener(\n",
       "        'mouseover',\n",
       "        on_mouseover_closure('Stop Interaction')\n",
       "    );\n",
       "    buttongrp.appendChild(button);\n",
       "    var titlebar = this.root.querySelector('.ui-dialog-titlebar');\n",
       "    titlebar.insertBefore(buttongrp, titlebar.firstChild);\n",
       "};\n",
       "\n",
       "mpl.figure.prototype._remove_fig_handler = function (event) {\n",
       "    var fig = event.data.fig;\n",
       "    if (event.target !== this) {\n",
       "        // Ignore bubbled events from children.\n",
       "        return;\n",
       "    }\n",
       "    fig.close_ws(fig, {});\n",
       "};\n",
       "\n",
       "mpl.figure.prototype._root_extra_style = function (el) {\n",
       "    el.style.boxSizing = 'content-box'; // override notebook setting of border-box.\n",
       "};\n",
       "\n",
       "mpl.figure.prototype._canvas_extra_style = function (el) {\n",
       "    // this is important to make the div 'focusable\n",
       "    el.setAttribute('tabindex', 0);\n",
       "    // reach out to IPython and tell the keyboard manager to turn it's self\n",
       "    // off when our div gets focus\n",
       "\n",
       "    // location in version 3\n",
       "    if (IPython.notebook.keyboard_manager) {\n",
       "        IPython.notebook.keyboard_manager.register_events(el);\n",
       "    } else {\n",
       "        // location in version 2\n",
       "        IPython.keyboard_manager.register_events(el);\n",
       "    }\n",
       "};\n",
       "\n",
       "mpl.figure.prototype._key_event_extra = function (event, _name) {\n",
       "    // Check for shift+enter\n",
       "    if (event.shiftKey && event.which === 13) {\n",
       "        this.canvas_div.blur();\n",
       "        // select the cell after this one\n",
       "        var index = IPython.notebook.find_cell_index(this.cell_info[0]);\n",
       "        IPython.notebook.select(index + 1);\n",
       "    }\n",
       "};\n",
       "\n",
       "mpl.figure.prototype.handle_save = function (fig, _msg) {\n",
       "    fig.ondownload(fig, null);\n",
       "};\n",
       "\n",
       "mpl.find_output_cell = function (html_output) {\n",
       "    // Return the cell and output element which can be found *uniquely* in the notebook.\n",
       "    // Note - this is a bit hacky, but it is done because the \"notebook_saving.Notebook\"\n",
       "    // IPython event is triggered only after the cells have been serialised, which for\n",
       "    // our purposes (turning an active figure into a static one), is too late.\n",
       "    var cells = IPython.notebook.get_cells();\n",
       "    var ncells = cells.length;\n",
       "    for (var i = 0; i < ncells; i++) {\n",
       "        var cell = cells[i];\n",
       "        if (cell.cell_type === 'code') {\n",
       "            for (var j = 0; j < cell.output_area.outputs.length; j++) {\n",
       "                var data = cell.output_area.outputs[j];\n",
       "                if (data.data) {\n",
       "                    // IPython >= 3 moved mimebundle to data attribute of output\n",
       "                    data = data.data;\n",
       "                }\n",
       "                if (data['text/html'] === html_output) {\n",
       "                    return [cell, data, j];\n",
       "                }\n",
       "            }\n",
       "        }\n",
       "    }\n",
       "};\n",
       "\n",
       "// Register the function which deals with the matplotlib target/channel.\n",
       "// The kernel may be null if the page has been refreshed.\n",
       "if (IPython.notebook.kernel !== null) {\n",
       "    IPython.notebook.kernel.comm_manager.register_target(\n",
       "        'matplotlib',\n",
       "        mpl.mpl_figure_comm\n",
       "    );\n",
       "}\n"
      ],
      "text/plain": [
       "<IPython.core.display.Javascript object>"
      ]
     },
     "metadata": {},
     "output_type": "display_data"
    },
    {
     "data": {
      "text/html": [
       "<img src=\"data:image/png;base64,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\" width=\"640\">"
      ],
      "text/plain": [
       "<IPython.core.display.HTML object>"
      ]
     },
     "metadata": {},
     "output_type": "display_data"
    }
   ],
   "source": [
    "cols = plt.rcParams[\"axes.prop_cycle\"].by_key()[\"color\"]\n",
    "\n",
    "\n",
    "plt.figure()\n",
    "# plt.plot(rs, np.nansum(pk, axis=0)[:, 0], c=cols[k])\n",
    "# plt.plot(rs, np.nansum(pk_perm, axis=0)[:, 0], c=cols[k], ls=\"--\")\n",
    "for k in range(1, 2):\n",
    "    plt.plot(rs, pk[k, :, 0], c=cols[k])\n",
    "#     plt.plot(rs, pk_perm[k, :, 0], c=cols[k], ls=\"--\")\n",
    "# plt.fill_between(rs, pk[k, :, 0] - pk[k, :, 1], pk[k, :, 0] + pk[k, :, 1])\n",
    "\n",
    "# plt.plot(rs, np.sum(pk, axis=0)[:, 0])\n",
    "\n",
    "# plt.xscale(\"log\")\n",
    "plt.show()\n"
   ]
  },
  {
   "cell_type": "code",
   "execution_count": null,
   "id": "1279a8cb",
   "metadata": {},
   "outputs": [],
   "source": []
  },
  {
   "cell_type": "code",
   "execution_count": null,
   "id": "9e0185ce",
   "metadata": {},
   "outputs": [],
   "source": []
  },
  {
   "cell_type": "code",
   "execution_count": null,
   "id": "df973ed4",
   "metadata": {
    "ExecuteTime": {
     "end_time": "2023-04-08T15:08:50.076207Z",
     "start_time": "2023-04-08T15:08:46.683983Z"
    },
    "scrolled": false
   },
   "outputs": [],
   "source": [
    "\n",
    "\n",
    "plt.figure()\n",
    "\n",
    "\n",
    "k = 2\n",
    "\n",
    "rs, mu, std = mean_auto(k, \"mass_003_spinhigh\")\n",
    "rs, mu_perm, std_perm = mean_auto(k, \"mass003_spinlow\")\n",
    "z = mu / mu_perm\n",
    "deltaz = z * np.sqrt((std / mu)**2 + (std_perm / mu_perm)**2)\n",
    "plt.plot(rs, z, c=cols[0])\n",
    "plt.fill_between(rs, z - deltaz, z + deltaz, color=cols[0], alpha=0.3)\n",
    "\n",
    "\n",
    "# rs, mu, std = mean_auto(k, \"mass001_spinhigh\")\n",
    "# rs, mu_perm, std_perm = mean_auto(k, \"mass001_spinhigh_perm\")\n",
    "# z = mu / mu_perm\n",
    "# deltaz = z * np.sqrt((std / mu)**2 + (std_perm / mu_perm)**2)\n",
    "# plt.plot(rs, z, c=cols[1])\n",
    "# plt.fill_between(rs, z - deltaz, z + deltaz, color=cols[1], alpha=0.3)\n",
    "\n",
    "\n",
    "plt.axhline(1, c=\"black\", ls=\"--\")\n",
    "# plt.fill_between(rs, mu - std, mu + std, color=cols[2], alpha=0.3)\n",
    "\n",
    "plt.xscale(\"log\")\n",
    "# plt.yscale(\"log\")\n",
    "plt.show()"
   ]
  },
  {
   "cell_type": "code",
   "execution_count": null,
   "id": "7f500800",
   "metadata": {
    "ExecuteTime": {
     "end_time": "2023-04-08T14:11:02.568517Z",
     "start_time": "2023-04-08T14:11:00.406477Z"
    }
   },
   "outputs": [],
   "source": [
    "# rs, corr = knnreader.read_auto(\"mass001_spinmedian_cross\", folder, rmin=0.5)\n",
    "# rs, corr_perm = knnreader.read_auto(\"mass001_spinmedian_cross_perm\", folder, rmin=0.5)\n",
    "\n",
    "# rs, cdf_low = knnreader.read_auto(\"mass001_spinmedian_cross_perm\", folder, rmin=0.5)\n",
    "rs, cdf_high = knnreader.read_auto(\"mass001_spinmedian_cross_perm\", folder, rmin=0.5)"
   ]
  },
  {
   "cell_type": "code",
   "execution_count": null,
   "id": "6565101a",
   "metadata": {
    "ExecuteTime": {
     "end_time": "2023-04-08T14:04:17.514165Z",
     "start_time": "2023-04-08T14:04:15.555281Z"
    }
   },
   "outputs": [],
   "source": []
  },
  {
   "cell_type": "code",
   "execution_count": null,
   "id": "84729726",
   "metadata": {
    "ExecuteTime": {
     "end_time": "2023-04-08T15:04:01.025738Z",
     "start_time": "2023-04-08T15:03:56.792105Z"
    },
    "scrolled": false
   },
   "outputs": [],
   "source": [
    "plt.figure()\n",
    "rs, mu, std = mean_auto(0, \"mass001_spinlow\")\n",
    "plt.plot(rs, mu, c=cols[0])\n",
    "plt.fill_between(rs, mu - std, mu + std, color=cols[0], alpha=0.5)\n",
    "\n",
    "rs, mu, std = mean_auto(0, \"mass001_spinlow_perm\")\n",
    "plt.plot(rs, mu, c=cols[1])\n",
    "plt.fill_between(rs, mu - std, mu + std, color=cols[1], alpha=0.5)\n",
    "plt.show()"
   ]
  },
  {
   "cell_type": "code",
   "execution_count": null,
   "id": "0f85f943",
   "metadata": {
    "ExecuteTime": {
     "end_time": "2023-04-08T14:11:05.066794Z",
     "start_time": "2023-04-08T14:11:04.362662Z"
    }
   },
   "outputs": [],
   "source": [
    "prk_low = knnreader.prk(rs, cdf_low)\n",
    "prk_high = knnreader.prk(rs, cdf_high)"
   ]
  },
  {
   "cell_type": "code",
   "execution_count": null,
   "id": "5c862e8b",
   "metadata": {
    "ExecuteTime": {
     "end_time": "2023-04-08T14:11:07.074775Z",
     "start_time": "2023-04-08T14:11:05.148559Z"
    }
   },
   "outputs": [],
   "source": [
    "k = 0\n",
    "\n",
    "plt.figure()\n",
    "\n",
    "for i in range(101):\n",
    "    plt.plot(rs, prk_low[i, k, :], lw=0.1, c=cols[0])\n",
    "    plt.plot(rs, prk_high[i, k, :], lw=0.1, c=cols[1])\n",
    "\n",
    "    \n",
    "rs, mu, std = mean_auto(0, \"mass001\")\n",
    "plt.plot(rs, mu, c=cols[2])\n",
    "plt.fill_between(rs, mu - std, mu + std, color=cols[2], alpha=0.5)\n",
    "\n",
    "plt.show()"
   ]
  },
  {
   "cell_type": "code",
   "execution_count": null,
   "id": "6682fa88",
   "metadata": {
    "ExecuteTime": {
     "end_time": "2023-04-08T14:59:29.041395Z",
     "start_time": "2023-04-08T14:59:24.875903Z"
    }
   },
   "outputs": [],
   "source": [
    "rs, corr = knnreader.read_auto(\"mass001_spinmedian_cross\", folder, rmin=0.5)\n",
    "rs, corrperm = knnreader.read_auto(\"mass001_spinmedian_cross_perm\", folder, rmin=0.5)\n",
    "\n",
    "# rs, corr_low = knnreader.read_auto(\"mass001_spinlow_cross_perm\", folder, rmin=0.5)\n",
    "# rs, corr_high = knnreader.read_auto(\"mass001_spinhigh_cross_perm\", folder, rmin=0.5)"
   ]
  },
  {
   "cell_type": "code",
   "execution_count": null,
   "id": "298f28b6",
   "metadata": {
    "ExecuteTime": {
     "end_time": "2023-04-08T14:59:47.556944Z",
     "start_time": "2023-04-08T14:59:47.103398Z"
    }
   },
   "outputs": [],
   "source": [
    "k = 2\n",
    "plt.figure()\n",
    "for i in range(101):\n",
    "    plt.plot(rs, corr[i, k, :], lw=0.1, c=cols[0])\n",
    "    plt.plot(rs, corrperm[i, k, :], lw=0.1, c=cols[1])\n",
    "#     plt.plot(rs, corr[i, k, :] - corrperm[i, k, :], lw=0.1, c=cols[0])\n",
    "#     plt.plot(rs, , lw=0.1, c=cols[1])\n",
    "    \n",
    "plt.xscale(\"log\")\n",
    "plt.yscale(\"log\")\n",
    "plt.show()"
   ]
  },
  {
   "cell_type": "code",
   "execution_count": null,
   "id": "a28d0290",
   "metadata": {
    "ExecuteTime": {
     "end_time": "2023-04-08T13:59:25.401233Z",
     "start_time": "2023-04-08T13:59:25.157683Z"
    }
   },
   "outputs": [],
   "source": [
    "k = 0\n",
    "\n",
    "plt.figure()\n",
    "for i in range(101):\n",
    "    plt.plot(rs, corr[i, k, :], c=cols[0], lw=0.1)\n",
    "    \n",
    "    \n",
    "for i in range(101):\n",
    "    plt.plot(rs, corr_perm[i, k, :], c=cols[1], lw=0.1)\n",
    "\n",
    "plt.xscale(\"log\")\n",
    "plt.yscale(\"log\")\n",
    "plt.show()"
   ]
  },
  {
   "cell_type": "code",
   "execution_count": null,
   "id": "e86ce611",
   "metadata": {
    "ExecuteTime": {
     "end_time": "2023-04-08T09:30:44.330451Z",
     "start_time": "2023-04-08T09:30:44.295713Z"
    }
   },
   "outputs": [],
   "source": [
    "mean_prk.shape"
   ]
  },
  {
   "cell_type": "code",
   "execution_count": null,
   "id": "fe9a0ef3",
   "metadata": {},
   "outputs": [],
   "source": []
  },
  {
   "cell_type": "code",
   "execution_count": null,
   "id": "de17207d",
   "metadata": {},
   "outputs": [],
   "source": []
  },
  {
   "cell_type": "code",
   "execution_count": null,
   "id": "e4cbad0c",
   "metadata": {},
   "outputs": [],
   "source": []
  },
  {
   "cell_type": "code",
   "execution_count": null,
   "id": "fe11b032",
   "metadata": {},
   "outputs": [],
   "source": []
  },
  {
   "cell_type": "code",
   "execution_count": null,
   "id": "491be45e",
   "metadata": {},
   "outputs": [],
   "source": []
  },
  {
   "cell_type": "code",
   "execution_count": null,
   "id": "f19accd3",
   "metadata": {
    "ExecuteTime": {
     "end_time": "2023-04-07T16:51:43.224223Z",
     "start_time": "2023-04-07T16:51:35.597574Z"
    }
   },
   "outputs": [],
   "source": [
    "cols = plt.rcParams[\"axes.prop_cycle\"].by_key()[\"color\"]\n",
    "\n",
    "\n",
    "plt.figure()\n",
    "\n",
    "rs, cdf = knnreader.read_auto(\"mass001_spinlow\", folder, rmin=0.5)\n",
    "pk = knnreader.prob_kvolume(cdf, rs, True)\n",
    "for i in range(101):\n",
    "    plt.plot(rs, pk[i, 5, :], lw=0.1, c=cols[0])\n",
    "    \n",
    "    \n",
    "rs, cdf = knnreader.read_auto(\"mass001_spinhigh\", folder, rmin=0.5)\n",
    "pk = knnreader.prob_kvolume(cdf, rs, True)\n",
    "for i in range(101):\n",
    "    plt.plot(rs, pk[i, 5, :], lw=0.1, c=cols[1])    \n",
    "    \n",
    "    \n",
    "rs, cdf = knnreader.read_auto(\"mass001_spinhigh_perm\", folder, rmin=0.5)\n",
    "pk = knnreader.prob_kvolume(cdf, rs, True)\n",
    "for i in range(101):\n",
    "    plt.plot(rs, pk[i, 5, :], lw=0.1, c=cols[2])\n",
    "\n",
    "# plt.xscale(\"log\")\n",
    "\n",
    "plt.show()"
   ]
  },
  {
   "cell_type": "code",
   "execution_count": null,
   "id": "5f735b44",
   "metadata": {},
   "outputs": [],
   "source": []
  },
  {
   "cell_type": "code",
   "execution_count": null,
   "id": "a273df53",
   "metadata": {},
   "outputs": [],
   "source": []
  },
  {
   "cell_type": "code",
   "execution_count": null,
   "id": "900fd4f8",
   "metadata": {},
   "outputs": [],
   "source": []
  },
  {
   "cell_type": "code",
   "execution_count": null,
   "id": "01974708",
   "metadata": {
    "ExecuteTime": {
     "end_time": "2023-04-07T12:20:08.521290Z",
     "start_time": "2023-04-07T12:20:05.258954Z"
    }
   },
   "outputs": [],
   "source": [
    "cat = csiborgtools.read.HaloCatalogue(7444, paths, min_mass=1e12, max_dist=155/0.705)"
   ]
  },
  {
   "cell_type": "code",
   "execution_count": null,
   "id": "47c494f6",
   "metadata": {},
   "outputs": [],
   "source": []
  },
  {
   "cell_type": "code",
   "execution_count": null,
   "id": "86f02695",
   "metadata": {
    "ExecuteTime": {
     "end_time": "2023-04-07T11:51:11.124583Z",
     "start_time": "2023-04-07T11:51:11.094094Z"
    }
   },
   "outputs": [],
   "source": [
    "x = \"\"\n",
    "for key in auto_config.keys():\n",
    "    x += key + \" \""
   ]
  },
  {
   "cell_type": "code",
   "execution_count": null,
   "id": "62d9e837",
   "metadata": {
    "ExecuteTime": {
     "end_time": "2023-04-07T11:51:12.533128Z",
     "start_time": "2023-04-07T11:51:12.499981Z"
    }
   },
   "outputs": [],
   "source": [
    "x"
   ]
  },
  {
   "cell_type": "code",
   "execution_count": null,
   "id": "db6fc6e4",
   "metadata": {
    "ExecuteTime": {
     "end_time": "2023-04-07T10:28:20.801576Z",
     "start_time": "2023-04-07T10:28:20.766160Z"
    }
   },
   "outputs": [],
   "source": [
    "auto_config"
   ]
  },
  {
   "cell_type": "code",
   "execution_count": null,
   "id": "8fdcfb01",
   "metadata": {
    "ExecuteTime": {
     "end_time": "2023-04-07T10:21:14.858309Z",
     "start_time": "2023-04-07T10:21:14.826448Z"
    }
   },
   "outputs": [],
   "source": [
    "auto_folder = \"/mnt/extraspace/rstiskalek/csiborg/knn/auto/\"\n"
   ]
  },
  {
   "cell_type": "code",
   "execution_count": null,
   "id": "1b5f37af",
   "metadata": {
    "ExecuteTime": {
     "end_time": "2023-04-07T12:20:38.019809Z",
     "start_time": "2023-04-07T12:20:37.987281Z"
    }
   },
   "outputs": [],
   "source": [
    "np.log10(cat[\"totpartmass\"].min())"
   ]
  },
  {
   "cell_type": "code",
   "execution_count": null,
   "id": "b5b2df40",
   "metadata": {
    "ExecuteTime": {
     "end_time": "2023-04-07T11:13:18.959385Z",
     "start_time": "2023-04-07T11:13:13.072536Z"
    }
   },
   "outputs": [],
   "source": [
    "cols = plt.rcParams[\"axes.prop_cycle\"].by_key()[\"color\"]\n",
    "\n",
    "\n",
    "plt.figure()\n",
    "rs, cdf = knnreader.read_auto(\"004\", auto_folder)\n",
    "pk = knnreader.prob_kvolume(cdf, rs, normalise=True)\n",
    "for i in range(101):\n",
    "    plt.plot(rs, pk[i, 0, :], c=cols[0], lw=0.1)\n",
    "\n",
    "\n",
    "rs, cdf = knnreader.read_auto(\"005\", auto_folder)\n",
    "pk = knnreader.prob_kvolume(cdf, rs, normalise=True)\n",
    "for i in range(101):\n",
    "    plt.plot(rs, pk[i, 0, :], c=cols[1], lw=0.1)\n",
    "\n",
    "    \n",
    "rs, cdf = knnreader.read_auto(\"001\", auto_folder)\n",
    "pk = knnreader.prob_kvolume(cdf, rs, normalise=True)\n",
    "for i in range(101):\n",
    "    plt.plot(rs, pk[i, 0, :], c=cols[2], lw=0.1)\n",
    "\n",
    "# plt.xscale(\"log\")\n",
    "# plt.yscale(\"log\")\n",
    "\n",
    "\n",
    "plt.show()"
   ]
  },
  {
   "cell_type": "code",
   "execution_count": null,
   "id": "85c65eef",
   "metadata": {},
   "outputs": [],
   "source": []
  },
  {
   "cell_type": "code",
   "execution_count": null,
   "id": "20ecf551",
   "metadata": {},
   "outputs": [],
   "source": []
  },
  {
   "cell_type": "code",
   "execution_count": null,
   "id": "6ac70147",
   "metadata": {
    "ExecuteTime": {
     "end_time": "2023-04-07T09:47:03.873611Z",
     "start_time": "2023-04-07T09:47:01.794363Z"
    }
   },
   "outputs": [],
   "source": [
    "cat = csiborgtools.read.HaloCatalogue(7444, paths)"
   ]
  },
  {
   "cell_type": "code",
   "execution_count": null,
   "id": "b77b1377",
   "metadata": {
    "ExecuteTime": {
     "end_time": "2023-04-07T07:49:23.539504Z",
     "start_time": "2023-04-07T07:45:50.514216Z"
    }
   },
   "outputs": [],
   "source": [
    "from tqdm import trange\n",
    "x = np.full((len(ics), 3), np.nan)\n",
    "for i in trange(len(ics)):\n",
    "    cat = csiborgtools.read.HaloCatalogue(ics[i], paths, max_dist=155 / 0.705)\n",
    "    for j, th in enumerate([1e12, 1e13, 1e14]):\n",
    "        mask = cat[\"totpartmass\"] > th\n",
    "        x[i, j] = np.nanmedian(cat[\"lambda200c\"][mask])"
   ]
  },
  {
   "cell_type": "code",
   "execution_count": null,
   "id": "e55d821d",
   "metadata": {
    "ExecuteTime": {
     "end_time": "2023-04-07T07:51:55.598449Z",
     "start_time": "2023-04-07T07:51:55.567861Z"
    }
   },
   "outputs": [],
   "source": [
    "np.mean(x[:, 2]), np.std(x[:, 2])"
   ]
  },
  {
   "cell_type": "code",
   "execution_count": null,
   "id": "3bae7373",
   "metadata": {
    "ExecuteTime": {
     "end_time": "2023-04-07T11:12:14.971055Z",
     "start_time": "2023-04-07T11:12:14.938117Z"
    }
   },
   "outputs": [],
   "source": [
    "cdf.shape"
   ]
  },
  {
   "cell_type": "code",
   "execution_count": null,
   "id": "127cb78e",
   "metadata": {},
   "outputs": [],
   "source": []
  },
  {
   "cell_type": "code",
   "execution_count": null,
   "id": "8368d476",
   "metadata": {},
   "outputs": [],
   "source": [
    "np.nanmedian()"
   ]
  },
  {
   "cell_type": "code",
   "execution_count": null,
   "id": "f6b5a68c",
   "metadata": {
    "ExecuteTime": {
     "end_time": "2023-04-06T17:59:09.028319Z",
     "start_time": "2023-04-06T17:59:08.953783Z"
    }
   },
   "outputs": [],
   "source": [
    "plt.figure()\n",
    "\n",
    "plt.scatter(cat[\"m200\"], cat[\"lambda200c\"], s=1)\n",
    "\n",
    "plt.xscale(\"log\")\n",
    "plt.yscale(\"log\")\n",
    "\n",
    "\n",
    "plt.show()"
   ]
  },
  {
   "cell_type": "code",
   "execution_count": null,
   "id": "2eb1c2e4",
   "metadata": {},
   "outputs": [],
   "source": []
  },
  {
   "cell_type": "code",
   "execution_count": null,
   "id": "9a79dde6",
   "metadata": {
    "ExecuteTime": {
     "end_time": "2023-04-05T13:42:26.370674Z",
     "start_time": "2023-04-05T13:42:22.862756Z"
    }
   },
   "outputs": [],
   "source": [
    "files = glob(\"/mnt/extraspace/rstiskalek/csiborg/knn/auto/*\")\n",
    "\n",
    "ks = [0, 1, 2, 3, 4, 5, 6, 7]\n",
    "rs, cdf, thresholds = knnreader.read(files, ks, rmin=0.01, rmax=100)"
   ]
  },
  {
   "cell_type": "code",
   "execution_count": null,
   "id": "88de6882",
   "metadata": {
    "ExecuteTime": {
     "end_time": "2023-04-05T13:42:26.943147Z",
     "start_time": "2023-04-05T13:42:26.372382Z"
    }
   },
   "outputs": [],
   "source": [
    "pk = knnreader.prob_kvolume(cdf, rs, True)"
   ]
  },
  {
   "cell_type": "code",
   "execution_count": null,
   "id": "dbb11ba2",
   "metadata": {
    "ExecuteTime": {
     "end_time": "2023-04-05T13:43:45.754506Z",
     "start_time": "2023-04-05T13:43:38.953908Z"
    }
   },
   "outputs": [],
   "source": [
    "cols = plt.rcParams[\"axes.prop_cycle\"].by_key()[\"color\"]\n",
    "\n",
    "plt.figure()\n",
    "n = 1\n",
    "for k in range(7):\n",
    "    plt.plot(rs, np.mean(pk[:, n, k, :], axis=0), c=cols[k], label=r\"$k = {}$\".format(k))\n",
    "    for i in range(101):\n",
    "        plt.plot(rs, pk[i, n, k, :], c=cols[k], lw=0.05)\n",
    "\n",
    "plt.legend(frameon=False)\n",
    "plt.xlabel(r\"$r~\\left[\\mathrm{Mpc}\\right]$\")\n",
    "plt.ylabel(r\"$P\\left(k | V = 4 \\pi r^3 / 3\\right)$\")\n",
    "# plt.savefig(\"../plots/test.png\", dpi=450)\n",
    "plt.show()"
   ]
  },
  {
   "cell_type": "code",
   "execution_count": null,
   "id": "6999c90d",
   "metadata": {},
   "outputs": [],
   "source": []
  },
  {
   "cell_type": "code",
   "execution_count": null,
   "id": "20bbeb54",
   "metadata": {
    "ExecuteTime": {
     "end_time": "2023-04-03T17:10:30.078450Z",
     "start_time": "2023-04-03T17:10:29.171089Z"
    }
   },
   "outputs": [],
   "source": [
    "n = 2\n",
    "k = 1\n",
    "\n",
    "x = cdf[:, n, k - 1, :] - cdf[:, n, k, :]\n",
    "\n",
    "plt.figure()\n",
    "for i in range(101):\n",
    "    plt.plot(rs, x[i, :])\n",
    "\n",
    "plt.xscale(\"log\")\n",
    "\n",
    "plt.show()"
   ]
  },
  {
   "cell_type": "code",
   "execution_count": null,
   "id": "86091fcc",
   "metadata": {
    "ExecuteTime": {
     "end_time": "2023-04-03T17:13:07.495144Z",
     "start_time": "2023-04-03T17:13:06.635811Z"
    }
   },
   "outputs": [],
   "source": [
    "files = knnreader.cross_files(7444, \"/mnt/extraspace/rstiskalek/csiborg/knn/cross/\")"
   ]
  },
  {
   "cell_type": "code",
   "execution_count": null,
   "id": "c0917bd5",
   "metadata": {
    "ExecuteTime": {
     "end_time": "2023-04-03T17:13:11.011391Z",
     "start_time": "2023-04-03T17:13:07.496523Z"
    }
   },
   "outputs": [],
   "source": [
    "ks = [0, 1, 2, 3, 4, 5, 6, 7]\n",
    "rs, cross, threshold = knnreader.read(files, ks, rmin=0.5)"
   ]
  },
  {
   "cell_type": "code",
   "execution_count": null,
   "id": "beba86db",
   "metadata": {
    "ExecuteTime": {
     "end_time": "2023-04-03T17:13:11.152680Z",
     "start_time": "2023-04-03T17:13:11.013209Z"
    }
   },
   "outputs": [],
   "source": [
    "n = 0\n",
    "k = 1\n",
    "\n",
    "plt.figure()\n",
    "for i in range(100):\n",
    "    plt.plot(rs, cross[i, n, k - 1, :] - cross[i, n, k, :])\n",
    "\n",
    "plt.xscale(\"log\")\n",
    "plt.axvline(2.65 / 0.705)\n",
    "plt.show()"
   ]
  },
  {
   "cell_type": "code",
   "execution_count": null,
   "id": "adf96c3b",
   "metadata": {
    "ExecuteTime": {
     "end_time": "2023-04-03T14:25:45.275844Z",
     "start_time": "2023-04-03T14:25:44.855207Z"
    }
   },
   "outputs": [],
   "source": [
    "\"/mnt/extraspace/hdesmond/ramses_out_7444/output_00950/clump_00950.dat\""
   ]
  },
  {
   "cell_type": "code",
   "execution_count": null,
   "id": "8179c3e0",
   "metadata": {},
   "outputs": [],
   "source": []
  },
  {
   "cell_type": "code",
   "execution_count": null,
   "id": "f803105a",
   "metadata": {},
   "outputs": [],
   "source": []
  },
  {
   "cell_type": "code",
   "execution_count": null,
   "id": "55544ddd",
   "metadata": {},
   "outputs": [],
   "source": []
  },
  {
   "cell_type": "code",
   "execution_count": null,
   "id": "3c7add55",
   "metadata": {},
   "outputs": [],
   "source": []
  },
  {
   "cell_type": "code",
   "execution_count": null,
   "id": "75a5e6f7",
   "metadata": {},
   "outputs": [],
   "source": []
  },
  {
   "cell_type": "code",
   "execution_count": null,
   "id": "7b6d813b",
   "metadata": {},
   "outputs": [],
   "source": []
  },
  {
   "cell_type": "code",
   "execution_count": null,
   "id": "19115f4c",
   "metadata": {},
   "outputs": [],
   "source": []
  },
  {
   "cell_type": "code",
   "execution_count": null,
   "id": "4218b673",
   "metadata": {
    "ExecuteTime": {
     "end_time": "2023-04-01T08:27:07.868868Z",
     "start_time": "2023-04-01T08:27:04.088778Z"
    }
   },
   "outputs": [],
   "source": [
    "cat1 = csiborgtools.read.HaloCatalogue(7444, min_mass=1e13, max_dist=155 / 0.705)\n",
    "cat2 = csiborgtools.read.HaloCatalogue(7468, min_mass=1e13, max_dist=155 / 0.705)"
   ]
  },
  {
   "cell_type": "code",
   "execution_count": null,
   "id": "5ff7a1b6",
   "metadata": {
    "ExecuteTime": {
     "end_time": "2023-04-01T08:27:07.923418Z",
     "start_time": "2023-04-01T08:27:07.870519Z"
    }
   },
   "outputs": [],
   "source": [
    "knncdf = csiborgtools.match.kNN_CDF()\n",
    "\n",
    "\n",
    "knn1 = NearestNeighbors()\n",
    "knn1.fit(cat1.positions)\n",
    "\n",
    "knn2 = NearestNeighbors()\n",
    "knn2.fit(cat2.positions)\n",
    "\n",
    "# rs, cdf = knncdf(knn, nneighbours=2, Rmax=155 / 0.705, rmin=0.01, rmax=100,\n",
    "#                   nsamples=int(1e6), neval=int(1e4), random_state=42, batch_size=int(1e6))"
   ]
  },
  {
   "cell_type": "code",
   "execution_count": null,
   "id": "88a31951",
   "metadata": {
    "ExecuteTime": {
     "end_time": "2023-04-01T08:46:56.273595Z",
     "start_time": "2023-04-01T08:46:56.088408Z"
    }
   },
   "outputs": [],
   "source": [
    "!ls /mnt/extraspace/rstiskalek/csiborg/knn/cross/knncdf_7444_7468.p"
   ]
  },
  {
   "cell_type": "code",
   "execution_count": null,
   "id": "b7c2d465",
   "metadata": {
    "ExecuteTime": {
     "end_time": "2023-04-01T10:05:26.294670Z",
     "start_time": "2023-04-01T10:05:25.954223Z"
    }
   },
   "outputs": [],
   "source": [
    "from glob import glob"
   ]
  },
  {
   "cell_type": "code",
   "execution_count": null,
   "id": "6083fcbe",
   "metadata": {
    "ExecuteTime": {
     "end_time": "2023-04-01T10:05:52.758709Z",
     "start_time": "2023-04-01T10:05:52.705627Z"
    }
   },
   "outputs": [],
   "source": [
    "files = glob(\"/mnt/extraspace/rstiskalek/csiborg/knn/cross/*\")"
   ]
  },
  {
   "cell_type": "code",
   "execution_count": null,
   "id": "6d6b9d57",
   "metadata": {
    "ExecuteTime": {
     "end_time": "2023-04-01T10:06:00.023427Z",
     "start_time": "2023-04-01T10:05:59.645149Z"
    }
   },
   "outputs": [],
   "source": []
  },
  {
   "cell_type": "code",
   "execution_count": null,
   "id": "980f74df",
   "metadata": {
    "ExecuteTime": {
     "end_time": "2023-04-01T10:12:49.924557Z",
     "start_time": "2023-04-01T10:12:49.714545Z"
    }
   },
   "outputs": [],
   "source": [
    "cols = plt.rcParams[\"axes.prop_cycle\"].by_key()[\"color\"]\n",
    "\n",
    "plt.figure()\n",
    "for file in files:\n",
    "    d = joblib.load(file)\n",
    "    mask = d[\"rs\"] > 0.1\n",
    "    plt.plot(d[\"rs\"][mask], d[\"corr_0\"][0, mask], c=cols[0], lw=0.4)\n",
    "\n",
    "plt.xscale(\"log\")\n",
    "plt.axvline(2.65 / 0.705, lw=0.8, c=\"red\", ls=\"--\")\n",
    "# plt.yscale(\"log\")\n",
    "\n",
    "plt.show()"
   ]
  },
  {
   "cell_type": "code",
   "execution_count": null,
   "id": "997e8f91",
   "metadata": {},
   "outputs": [],
   "source": []
  },
  {
   "cell_type": "code",
   "execution_count": null,
   "id": "25936419",
   "metadata": {
    "ExecuteTime": {
     "end_time": "2023-04-01T08:51:11.896378Z",
     "start_time": "2023-04-01T08:51:11.865150Z"
    }
   },
   "outputs": [],
   "source": [
    "5500 / comb(5, 3)"
   ]
  },
  {
   "cell_type": "code",
   "execution_count": null,
   "id": "043a93ff",
   "metadata": {
    "ExecuteTime": {
     "end_time": "2023-04-01T08:50:37.181588Z",
     "start_time": "2023-04-01T08:50:36.718438Z"
    }
   },
   "outputs": [],
   "source": [
    "plt.figure()\n",
    "plt.plot(d[\"rs\"], d[\"corr_0\"][1, :])\n",
    "plt.plot(d[\"rs\"], d[\"corr_1\"][1, :])\n",
    "plt.plot(d[\"rs\"], d[\"corr_2\"][1, :])\n",
    "\n",
    "# plt.yscale(\"log\")\n",
    "# plt.xscale(\"log\")\n",
    "plt.show()"
   ]
  },
  {
   "cell_type": "code",
   "execution_count": null,
   "id": "279d8e58",
   "metadata": {},
   "outputs": [],
   "source": []
  },
  {
   "cell_type": "code",
   "execution_count": null,
   "id": "d08b0dc3",
   "metadata": {
    "ExecuteTime": {
     "end_time": "2023-04-01T08:27:19.271922Z",
     "start_time": "2023-04-01T08:27:07.925222Z"
    }
   },
   "outputs": [],
   "source": [
    "# rs, cdf = knncdf(knn1, nneighbours=2, Rmax=155 / 0.705, rmin=0.01, rmax=100,\n",
    "#                  nsamples=int(1e6), neval=int(1e4), random_state=42, batch_size=int(1e6))\n",
    "\n",
    "rs, cdf0, cdf1, joint_cdf = knncdf.joint(knn1, knn2, nneighbours=8, Rmax=155 / 0.705,\n",
    "                                         rmin=0.01, rmax=100, nsamples=int(1e6), neval=int(1e4),\n",
    "                                         random_state=42, batch_size=int(1e6))"
   ]
  },
  {
   "cell_type": "code",
   "execution_count": null,
   "id": "0866fe23",
   "metadata": {
    "ExecuteTime": {
     "end_time": "2023-04-01T08:27:19.436097Z",
     "start_time": "2023-04-01T08:27:19.397998Z"
    }
   },
   "outputs": [],
   "source": [
    "cdf0 = knncdf.clipped_cdf(cdf0)\n",
    "cdf1 = knncdf.clipped_cdf(cdf1)\n",
    "joint_cdf = knncdf.clipped_cdf(joint_cdf)"
   ]
  },
  {
   "cell_type": "code",
   "execution_count": null,
   "id": "b0649b7e",
   "metadata": {
    "ExecuteTime": {
     "end_time": "2023-04-01T08:27:59.413449Z",
     "start_time": "2023-04-01T08:27:59.244281Z"
    }
   },
   "outputs": [],
   "source": [
    "corr = knncdf.joint_to_corr(cdf0, cdf1, joint_cdf)"
   ]
  },
  {
   "cell_type": "code",
   "execution_count": null,
   "id": "b4d28785",
   "metadata": {
    "ExecuteTime": {
     "end_time": "2023-04-01T08:33:12.811065Z",
     "start_time": "2023-04-01T08:33:12.386639Z"
    }
   },
   "outputs": [],
   "source": [
    "ics = [7444, 7468, 7492, 7516, 7540, 7564, 7588, 7612, 7636, 7660, 7684,\n",
    "       7708, 7732, 7756, 7780, 7804, 7828, 7852, 7876, 7900, 7924, 7948,\n",
    "       7972, 7996, 8020, 8044, 8068, 8092, 8116, 8140, 8164, 8188, 8212,\n",
    "       8236, 8260, 8284, 8308, 8332, 8356, 8380, 8404, 8428, 8452, 8476,\n",
    "       8500, 8524, 8548, 8572, 8596, 8620, 8644, 8668, 8692, 8716, 8740,\n",
    "       8764, 8788, 8812, 8836, 8860, 8884, 8908, 8932, 8956, 8980, 9004,\n",
    "       9028, 9052, 9076, 9100, 9124, 9148, 9172, 9196, 9220, 9244, 9268,\n",
    "       9292, 9316, 9340, 9364, 9388, 9412, 9436, 9460, 9484, 9508, 9532,\n",
    "       9556, 9580, 9604, 9628, 9652, 9676, 9700, 9724, 9748, 9772, 9796,\n",
    "       9820, 9844]"
   ]
  },
  {
   "cell_type": "code",
   "execution_count": null,
   "id": "aaac3eff",
   "metadata": {
    "ExecuteTime": {
     "end_time": "2023-04-01T08:34:00.873304Z",
     "start_time": "2023-04-01T08:34:00.842613Z"
    }
   },
   "outputs": [],
   "source": [
    "from scipy.special import comb\n",
    "\n",
    "from itertools import combinations\n",
    "# for subset in itertools.combinations(stuff, L):"
   ]
  },
  {
   "cell_type": "code",
   "execution_count": null,
   "id": "042fe713",
   "metadata": {
    "ExecuteTime": {
     "end_time": "2023-04-01T08:34:21.387439Z",
     "start_time": "2023-04-01T08:34:21.325627Z"
    }
   },
   "outputs": [],
   "source": [
    "list(combinations(ics, 2))"
   ]
  },
  {
   "cell_type": "code",
   "execution_count": null,
   "id": "762ec153",
   "metadata": {},
   "outputs": [],
   "source": []
  },
  {
   "cell_type": "code",
   "execution_count": null,
   "id": "8c43f012",
   "metadata": {
    "ExecuteTime": {
     "end_time": "2023-04-01T08:33:18.308219Z",
     "start_time": "2023-04-01T08:33:18.275965Z"
    }
   },
   "outputs": [],
   "source": [
    "comb()"
   ]
  },
  {
   "cell_type": "code",
   "execution_count": null,
   "id": "aaca64f3",
   "metadata": {},
   "outputs": [],
   "source": []
  },
  {
   "cell_type": "code",
   "execution_count": null,
   "id": "9fb9e08e",
   "metadata": {
    "ExecuteTime": {
     "end_time": "2023-04-01T08:28:35.326570Z",
     "start_time": "2023-04-01T08:28:35.158664Z"
    }
   },
   "outputs": [],
   "source": [
    "plt.figure()\n",
    "\n",
    "# plt.plot(rs, knncdf.peaked_cdf(cdf0[0, :]))\n",
    "# plt.plot(rs, knncdf.peaked_cdf(cdf1[0, :]))\n",
    "# plt.plot(rs, knncdf.peaked_cdf(joint_cdf[0, :]))\n",
    "for i in range(8):\n",
    "    plt.plot(rs, corr[i, :])\n",
    "\n",
    "\n",
    "# plt.yscale(\"log\")\n",
    "# plt.xscale(\"log\")\n",
    "plt.axvline(2.65 / 0.705, c=\"red\", ls=\"--\")\n",
    "\n",
    "plt.show()"
   ]
  },
  {
   "cell_type": "code",
   "execution_count": null,
   "id": "f295a0f9",
   "metadata": {},
   "outputs": [],
   "source": []
  },
  {
   "cell_type": "code",
   "execution_count": null,
   "id": "0d5f3d02",
   "metadata": {
    "ExecuteTime": {
     "end_time": "2023-04-01T07:20:34.202874Z",
     "start_time": "2023-04-01T07:20:28.353637Z"
    }
   },
   "outputs": [],
   "source": [
    "dist1, dist2 = knncdf.joint(knn1, knn2, nneighbours=2, Rmax=155 / 0.705, rmin=0.01, rmax=100,\n",
    "             nsamples=int(1e6), neval=int(1e4), random_state=42, batch_size=int(1e6))"
   ]
  },
  {
   "cell_type": "code",
   "execution_count": null,
   "id": "a76c8124",
   "metadata": {
    "ExecuteTime": {
     "end_time": "2023-04-01T07:20:41.074933Z",
     "start_time": "2023-04-01T07:20:41.041448Z"
    }
   },
   "outputs": [],
   "source": []
  },
  {
   "cell_type": "code",
   "execution_count": null,
   "id": "127b91a8",
   "metadata": {},
   "outputs": [],
   "source": []
  },
  {
   "cell_type": "code",
   "execution_count": null,
   "id": "8b9a8cf0",
   "metadata": {},
   "outputs": [],
   "source": []
  },
  {
   "cell_type": "code",
   "execution_count": null,
   "id": "a1825f00",
   "metadata": {
    "ExecuteTime": {
     "end_time": "2023-04-01T06:01:29.388586Z",
     "start_time": "2023-04-01T06:01:29.321025Z"
    },
    "scrolled": false
   },
   "outputs": [],
   "source": [
    "plt.figure()\n",
    "plt.plot(rs, knncdf.peaked_cdf(cdf[0, :]))\n",
    "\n",
    "plt.yscale(\"log\" )\n",
    "plt.xscale(\"log\")\n",
    "plt.show()"
   ]
  },
  {
   "cell_type": "code",
   "execution_count": null,
   "id": "289549a0",
   "metadata": {
    "ExecuteTime": {
     "end_time": "2023-03-31T22:55:20.690887Z",
     "start_time": "2023-03-31T22:55:20.656550Z"
    }
   },
   "outputs": [],
   "source": [
    "mask"
   ]
  },
  {
   "cell_type": "code",
   "execution_count": null,
   "id": "7a8c5202",
   "metadata": {
    "ExecuteTime": {
     "end_time": "2023-03-31T22:54:52.330633Z",
     "start_time": "2023-03-31T22:54:52.299548Z"
    }
   },
   "outputs": [],
   "source": []
  },
  {
   "cell_type": "code",
   "execution_count": null,
   "id": "46f54897",
   "metadata": {
    "ExecuteTime": {
     "end_time": "2023-03-31T22:54:25.138813Z",
     "start_time": "2023-03-31T22:54:25.105044Z"
    }
   },
   "outputs": [],
   "source": [
    "dist"
   ]
  },
  {
   "cell_type": "code",
   "execution_count": null,
   "id": "58806ab9",
   "metadata": {},
   "outputs": [],
   "source": []
  },
  {
   "cell_type": "code",
   "execution_count": null,
   "id": "c59b3a19",
   "metadata": {},
   "outputs": [],
   "source": []
  },
  {
   "cell_type": "code",
   "execution_count": null,
   "id": "e345945c",
   "metadata": {
    "ExecuteTime": {
     "end_time": "2023-03-31T09:35:49.059172Z",
     "start_time": "2023-03-31T09:35:42.817291Z"
    }
   },
   "outputs": [],
   "source": [
    "m1 = (rs > 1) & (rs < 35)\n",
    "\n",
    "fig, axs = plt.subplots(ncols=3, figsize=(6.4 * 1.5, 4.8), sharey=True)\n",
    "fig.subplots_adjust(wspace=0)\n",
    "for k in range(3):\n",
    "    for n in range(len(ics)):\n",
    "        m = m1 & (cdfs[n, k, :] > 1e-3)\n",
    "        axs[k].plot(rs[m], cdfs[n, k, m], c=\"black\", lw=0.05)\n",
    "\n",
    "    axs[k].set_xscale(\"log\")\n",
    "    axs[k].set_yscale(\"log\")\n",
    "    axs[k].set_title(r\"$k = {}$\".format(k))\n",
    "    axs[k].set_xlabel(r\"$r~\\left[\\mathrm{Mpc}\\right]$\")\n",
    "\n",
    "axs[0].set_ylabel(r\"Peaked CDF\")\n",
    "\n",
    "plt.tight_layout(w_pad=0)\n",
    "fig.savefig(\"../plots/peaked_cdf.png\", dpi=450)\n",
    "fig.show()"
   ]
  },
  {
   "cell_type": "code",
   "execution_count": null,
   "id": "9f8786c0",
   "metadata": {
    "ExecuteTime": {
     "end_time": "2023-03-31T09:50:10.103650Z",
     "start_time": "2023-03-31T09:50:02.221741Z"
    }
   },
   "outputs": [],
   "source": [
    "m = (rs > 0.5) & (rs < 35)\n",
    "\n",
    "fig, axs = plt.subplots(ncols=3, figsize=(6.4 * 1.5, 4.8), sharey=True)\n",
    "fig.subplots_adjust(wspace=0)\n",
    "for k in range(3):\n",
    "    mu = np.nanmean(cdfs[:, k, :], axis=0)\n",
    "\n",
    "    for n in range(len(ics)):\n",
    "        axs[k].plot(rs[m], (cdfs[n, k, :] / mu)[m], c=\"black\", lw=0.1)\n",
    "\n",
    "    axs[k].set_ylim(0.5, 1.5)\n",
    "    axs[k].axhline(1, ls=\"--\", c=\"red\", zorder=0)\n",
    "    axs[k].axvline(2.65 / 0.705, ls=\"--\", c=\"red\", zorder=0)\n",
    "    axs[k].set_xscale(\"log\")\n",
    "    axs[k].set_xlabel(r\"$r~\\left[\\mathrm{Mpc}\\right]$\")\n",
    "    axs[k].set_title(r\"$k = {}$\".format(k))\n",
    "    \n",
    "axs[0].set_ylabel(r\"Relative peaked CDF\")\n",
    "plt.tight_layout(w_pad=0)\n",
    "fig.savefig(\"../plots/peaked_cdf_ratios.png\", dpi=450)\n",
    "fig.show()"
   ]
  },
  {
   "cell_type": "code",
   "execution_count": null,
   "id": "2f64cec1",
   "metadata": {
    "ExecuteTime": {
     "end_time": "2023-03-30T15:46:31.532259Z",
     "start_time": "2023-03-30T15:46:30.977449Z"
    }
   },
   "outputs": [],
   "source": [
    "plt.figure()\n",
    "k = 2\n",
    "mu = np.nanmean(cdfs[:, k, :], axis=0)\n",
    "# plt.plot(rs, mu, c=\"black\")\n",
    "for i in range(len(ics)):\n",
    "    plt.plot(rs, cdfs[i, k, :] / mu)\n",
    "\n",
    "\n",
    "plt.ylim(0.75, 1.25)\n",
    "plt.axhline(1, ls=\"--\", c=\"black\")\n",
    "plt.xscale(\"log\")\n",
    "# plt.yscale(\"log\")\n",
    "plt.show()"
   ]
  },
  {
   "cell_type": "code",
   "execution_count": null,
   "id": "a6784766",
   "metadata": {},
   "outputs": [],
   "source": []
  },
  {
   "cell_type": "code",
   "execution_count": null,
   "id": "b416efb3",
   "metadata": {},
   "outputs": [],
   "source": []
  },
  {
   "cell_type": "code",
   "execution_count": null,
   "id": "e650fe2c",
   "metadata": {},
   "outputs": [],
   "source": []
  },
  {
   "cell_type": "code",
   "execution_count": null,
   "id": "1311187d",
   "metadata": {},
   "outputs": [],
   "source": []
  },
  {
   "cell_type": "code",
   "execution_count": null,
   "id": "03e49a11",
   "metadata": {
    "ExecuteTime": {
     "end_time": "2023-03-30T14:58:29.937514Z",
     "start_time": "2023-03-30T14:58:29.530552Z"
    }
   },
   "outputs": [],
   "source": [
    "x.shape"
   ]
  },
  {
   "cell_type": "code",
   "execution_count": null,
   "id": "24578cba",
   "metadata": {},
   "outputs": [],
   "source": []
  },
  {
   "cell_type": "code",
   "execution_count": null,
   "id": "b0024bbf",
   "metadata": {},
   "outputs": [],
   "source": []
  },
  {
   "cell_type": "code",
   "execution_count": null,
   "id": "6dc55410",
   "metadata": {
    "ExecuteTime": {
     "end_time": "2023-03-30T14:41:24.290602Z",
     "start_time": "2023-03-30T14:41:16.204679Z"
    }
   },
   "outputs": [],
   "source": [
    "dist0, __ = knn0.kneighbors(X, 3)\n",
    "distx, __ = knnx.kneighbors(X, 3)"
   ]
  },
  {
   "cell_type": "code",
   "execution_count": null,
   "id": "11508c3c",
   "metadata": {
    "ExecuteTime": {
     "end_time": "2023-03-30T14:41:24.560538Z",
     "start_time": "2023-03-30T14:41:24.292674Z"
    }
   },
   "outputs": [],
   "source": [
    "x0, y0 = knncdf.peaked_cdf_from_samples(dist0[:, 0], 0.5, 20, neval=10000)\n",
    "xx, yx = knncdf.peaked_cdf_from_samples(distx[:, 0], 0.5, 20, neval=10000)"
   ]
  },
  {
   "cell_type": "code",
   "execution_count": null,
   "id": "404501ad",
   "metadata": {
    "ExecuteTime": {
     "end_time": "2023-03-30T14:41:24.598933Z",
     "start_time": "2023-03-30T14:41:24.562062Z"
    }
   },
   "outputs": [],
   "source": [
    "distx[:, 0].min()"
   ]
  },
  {
   "cell_type": "code",
   "execution_count": null,
   "id": "43e08969",
   "metadata": {
    "ExecuteTime": {
     "end_time": "2023-03-30T14:46:10.262865Z",
     "start_time": "2023-03-30T14:46:09.486658Z"
    }
   },
   "outputs": [],
   "source": [
    "plt.figure()\n",
    "plt.plot(x0, y0)\n",
    "plt.plot(xx, yx)\n",
    "\n",
    "plt.yscale(\"log\")\n",
    "plt.xscale(\"log\")\n",
    "plt.show()"
   ]
  },
  {
   "cell_type": "code",
   "execution_count": null,
   "id": "39547a75",
   "metadata": {},
   "outputs": [],
   "source": []
  },
  {
   "cell_type": "code",
   "execution_count": null,
   "id": "9e160b38",
   "metadata": {
    "ExecuteTime": {
     "end_time": "2023-03-30T13:02:02.033125Z",
     "start_time": "2023-03-30T13:02:00.674878Z"
    }
   },
   "outputs": [],
   "source": [
    "plt.figure()\n",
    "\n",
    "for i in range(3):\n",
    "    plt.plot(*knncdf.cdf_from_samples(dist0[:, i], 1, 25))\n",
    "    plt.plot(*knncdf.cdf_from_samples(distx[:, i], 1, 25))\n",
    "\n",
    "# plt.xlim(0.5, 25)\n",
    "\n",
    "plt.yscale(\"log\")\n",
    "plt.xscale(\"log\")\n",
    "plt.xlabel(r\"$r~\\left[\\mathrm{Mpc}\\right]$\")\n",
    "\n",
    "\n",
    "\n",
    "plt.show()"
   ]
  },
  {
   "cell_type": "code",
   "execution_count": null,
   "id": "4bfb65d8",
   "metadata": {},
   "outputs": [],
   "source": []
  },
  {
   "cell_type": "code",
   "execution_count": null,
   "id": "4703d81c",
   "metadata": {
    "ExecuteTime": {
     "end_time": "2023-03-30T12:13:35.958444Z",
     "start_time": "2023-03-30T12:13:35.924241Z"
    }
   },
   "outputs": [],
   "source": [
    "x = dist[:, 0]\n",
    "q = np.linspace(0, 100, int(x.size / 5))\n",
    "\n",
    "p = np.percentile(x, q)"
   ]
  },
  {
   "cell_type": "code",
   "execution_count": null,
   "id": "b054c6df",
   "metadata": {
    "ExecuteTime": {
     "end_time": "2023-03-30T12:16:50.052225Z",
     "start_time": "2023-03-30T12:16:50.020395Z"
    }
   },
   "outputs": [],
   "source": [
    "y = np.sort(x)\n",
    "\n",
    "yy = np.arange(y.size) / y.size"
   ]
  },
  {
   "cell_type": "code",
   "execution_count": null,
   "id": "5445c964",
   "metadata": {
    "ExecuteTime": {
     "end_time": "2023-03-30T12:16:53.599925Z",
     "start_time": "2023-03-30T12:16:53.521266Z"
    }
   },
   "outputs": [],
   "source": [
    "plt.figure()\n",
    "plt.plot(p, q / 100)\n",
    "\n",
    "plt.plot(y, yy)\n",
    "\n",
    "# plt.yscale(\"log\")\n",
    "plt.show()"
   ]
  },
  {
   "cell_type": "code",
   "execution_count": null,
   "id": "87fe5874",
   "metadata": {},
   "outputs": [],
   "source": []
  },
  {
   "cell_type": "code",
   "execution_count": null,
   "id": "fb0ad6b9",
   "metadata": {
    "ExecuteTime": {
     "end_time": "2023-03-30T12:03:34.387625Z",
     "start_time": "2023-03-30T12:03:34.290961Z"
    }
   },
   "outputs": [],
   "source": [
    "plt.figure()\n",
    "plt.hist(dist[:, 0], bins=\"auto\", histtype=\"step\")\n",
    "plt.hist(dist[:, 1], bins=\"auto\", histtype=\"step\")\n",
    "plt.hist(dist[:, 2], bins=\"auto\", histtype=\"step\")\n",
    "\n",
    "plt.show()"
   ]
  },
  {
   "cell_type": "code",
   "execution_count": null,
   "id": "c2aba833",
   "metadata": {},
   "outputs": [],
   "source": []
  },
  {
   "cell_type": "code",
   "execution_count": null,
   "id": "6f70f238",
   "metadata": {},
   "outputs": [],
   "source": []
  },
  {
   "cell_type": "code",
   "execution_count": null,
   "id": "03bcb191",
   "metadata": {
    "ExecuteTime": {
     "end_time": "2023-03-30T11:38:04.906150Z",
     "start_time": "2023-03-30T11:38:04.758107Z"
    }
   },
   "outputs": [],
   "source": [
    "plt.figure()\n",
    "plt.hist(cat0[\"dec\"], bins=\"auto\")\n",
    "\n",
    "plt.show()"
   ]
  },
  {
   "cell_type": "code",
   "execution_count": null,
   "id": "e5ad4722",
   "metadata": {
    "ExecuteTime": {
     "end_time": "2023-03-30T11:53:23.004853Z",
     "start_time": "2023-03-30T11:53:22.971967Z"
    }
   },
   "outputs": [],
   "source": [
    "gen = np.random.default_rng(22)"
   ]
  },
  {
   "cell_type": "code",
   "execution_count": null,
   "id": "785b530a",
   "metadata": {
    "ExecuteTime": {
     "end_time": "2023-03-30T11:53:23.330397Z",
     "start_time": "2023-03-30T11:53:23.296612Z"
    }
   },
   "outputs": [],
   "source": [
    "gen.normal()"
   ]
  },
  {
   "cell_type": "code",
   "execution_count": null,
   "id": "b3d3b5e6",
   "metadata": {},
   "outputs": [],
   "source": []
  },
  {
   "cell_type": "code",
   "execution_count": null,
   "id": "464b606d",
   "metadata": {
    "ExecuteTime": {
     "end_time": "2023-03-30T11:36:13.649124Z",
     "start_time": "2023-03-30T11:36:12.995693Z"
    }
   },
   "outputs": [],
   "source": [
    "theta = np.linspace( t, np.pi, 100)\n",
    "\n",
    "plt.figure()\n",
    "plt.plot(theta, np.sin(theta))\n",
    "plt.show()"
   ]
  },
  {
   "cell_type": "code",
   "execution_count": null,
   "id": "c29049f5",
   "metadata": {},
   "outputs": [],
   "source": []
  },
  {
   "cell_type": "code",
   "execution_count": null,
   "id": "cd2a3295",
   "metadata": {},
   "outputs": [],
   "source": []
  },
  {
   "cell_type": "code",
   "execution_count": null,
   "id": "af9abf04",
   "metadata": {
    "ExecuteTime": {
     "end_time": "2023-03-30T11:10:11.104389Z",
     "start_time": "2023-03-30T11:10:11.070499Z"
    }
   },
   "outputs": [],
   "source": [
    "X = np.array([-3.9514747, -0.6966991,  2.97158]).reshape(1, -1)\n",
    "\n",
    "X"
   ]
  },
  {
   "cell_type": "code",
   "execution_count": null,
   "id": "e181b3c3",
   "metadata": {
    "ExecuteTime": {
     "end_time": "2023-03-30T11:32:17.840355Z",
     "start_time": "2023-03-30T11:32:17.351883Z"
    }
   },
   "outputs": [],
   "source": [
    "dist, indxs = knn0.kneighbors(X, n_neighbors=1)\n",
    "\n",
    "dist, indxs"
   ]
  },
  {
   "cell_type": "code",
   "execution_count": null,
   "id": "d38fd960",
   "metadata": {
    "ExecuteTime": {
     "end_time": "2023-03-30T11:10:18.182326Z",
     "start_time": "2023-03-30T11:10:18.145629Z"
    }
   },
   "outputs": [],
   "source": [
    "cat0.positions[indxs]"
   ]
  },
  {
   "cell_type": "code",
   "execution_count": null,
   "id": "a16ddc2f",
   "metadata": {},
   "outputs": [],
   "source": []
  },
  {
   "cell_type": "code",
   "execution_count": null,
   "id": "bbbe8fb6",
   "metadata": {},
   "outputs": [],
   "source": []
  },
  {
   "cell_type": "code",
   "execution_count": null,
   "id": "759a0149",
   "metadata": {},
   "outputs": [],
   "source": []
  },
  {
   "cell_type": "code",
   "execution_count": null,
   "id": "312c96c9",
   "metadata": {},
   "outputs": [],
   "source": []
  },
  {
   "cell_type": "code",
   "execution_count": null,
   "id": "b097637b",
   "metadata": {},
   "outputs": [],
   "source": []
  },
  {
   "cell_type": "code",
   "execution_count": null,
   "id": "2ced23cb",
   "metadata": {},
   "outputs": [],
   "source": []
  },
  {
   "cell_type": "code",
   "execution_count": null,
   "id": "be26cbcc",
   "metadata": {},
   "outputs": [],
   "source": []
  }
 ],
 "metadata": {
  "kernelspec": {
   "display_name": "venv_galomatch",
   "language": "python",
   "name": "venv_galomatch"
  },
  "language_info": {
   "codemirror_mode": {
    "name": "ipython",
    "version": 3
   },
   "file_extension": ".py",
   "mimetype": "text/x-python",
   "name": "python",
   "nbconvert_exporter": "python",
   "pygments_lexer": "ipython3",
   "version": "3.8.0"
  },
  "vscode": {
   "interpreter": {
    "hash": "f29d02a8350410abc2a9fb79641689d10bf7ab64afc03ec87ca3cf6ed2daa499"
   }
  }
 },
 "nbformat": 4,
 "nbformat_minor": 5
}
